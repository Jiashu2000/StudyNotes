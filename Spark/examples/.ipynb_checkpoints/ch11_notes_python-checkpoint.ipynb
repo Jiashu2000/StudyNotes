{
 "cells": [
  {
   "cell_type": "code",
   "execution_count": 2,
   "id": "becdfa18",
   "metadata": {},
   "outputs": [],
   "source": [
    "from pyspark.ml import Pipeline\n",
    "from pyspark.ml.feature import StringIndexer, VectorAssembler\n",
    "from pyspark.ml.regression import RandomForestRegressor\n",
    "from pyspark.ml.evaluation import RegressionEvaluator"
   ]
  },
  {
   "cell_type": "code",
   "execution_count": 5,
   "id": "cfcaa0d0",
   "metadata": {},
   "outputs": [],
   "source": [
    "file_path = \"./data/sf-airbnb/sf-airbnb-clean.parquet\""
   ]
  },
  {
   "cell_type": "code",
   "execution_count": 6,
   "id": "72b0074e",
   "metadata": {},
   "outputs": [
    {
     "name": "stderr",
     "output_type": "stream",
     "text": [
      "                                                                                \r"
     ]
    }
   ],
   "source": [
    "airbnbDF = spark.read.parquet(file_path)"
   ]
  },
  {
   "cell_type": "code",
   "execution_count": 7,
   "id": "97e54105",
   "metadata": {},
   "outputs": [],
   "source": [
    "(trainDF, testDF) = airbnbDF.randomSplit([0.8, 0.2], seed = 42)"
   ]
  },
  {
   "cell_type": "code",
   "execution_count": 8,
   "id": "6513346c",
   "metadata": {},
   "outputs": [],
   "source": [
    "categoricalCols = [field for (field, dataType) in trainDF.dtypes if dataType == \"String\"]"
   ]
  },
  {
   "cell_type": "code",
   "execution_count": 9,
   "id": "60851a3b",
   "metadata": {},
   "outputs": [],
   "source": [
    "indexOutputCols = [x + \"Index\" for x in categoricalCols]"
   ]
  },
  {
   "cell_type": "code",
   "execution_count": 10,
   "id": "ca091ad3",
   "metadata": {},
   "outputs": [],
   "source": [
    "stringIndexer = StringIndexer(inputCols = categoricalCols,\n",
    "                             outputCols = indexOutputCols,\n",
    "                             handleInvalid = \"skip\")"
   ]
  },
  {
   "cell_type": "code",
   "execution_count": 11,
   "id": "0105874b",
   "metadata": {},
   "outputs": [],
   "source": [
    "numericCols = [field for (field, dataType) in trainDF.dtypes\n",
    "              if ((dataType == \"double\") & (field != \"price\"))]"
   ]
  },
  {
   "cell_type": "code",
   "execution_count": 12,
   "id": "907bdef4",
   "metadata": {},
   "outputs": [],
   "source": [
    "assemblerInputs = indexOutputCols + numericCols"
   ]
  },
  {
   "cell_type": "code",
   "execution_count": 13,
   "id": "ec2f9b8d",
   "metadata": {},
   "outputs": [],
   "source": [
    "vecAssembler = VectorAssembler(inputCols = assemblerInputs,\n",
    "                              outputCol = \"features\")"
   ]
  },
  {
   "cell_type": "code",
   "execution_count": 14,
   "id": "2f7c1fa0",
   "metadata": {},
   "outputs": [],
   "source": [
    "rf = RandomForestRegressor(labelCol = \"price\", maxBins = 40, maxDepth = 5,\n",
    "                          numTrees = 100, seed = 42)"
   ]
  },
  {
   "cell_type": "code",
   "execution_count": 15,
   "id": "cf861792",
   "metadata": {},
   "outputs": [],
   "source": [
    "pipeline = Pipeline(stages = [stringIndexer, vecAssembler, rf])"
   ]
  },
  {
   "cell_type": "code",
   "execution_count": 18,
   "id": "ce244957",
   "metadata": {},
   "outputs": [],
   "source": [
    "import mlflow"
   ]
  },
  {
   "cell_type": "code",
   "execution_count": 19,
   "id": "fcbd228c",
   "metadata": {},
   "outputs": [],
   "source": [
    "import mlflow.spark"
   ]
  },
  {
   "cell_type": "code",
   "execution_count": 20,
   "id": "003ff5ad",
   "metadata": {},
   "outputs": [],
   "source": [
    "import pandas as pd"
   ]
  },
  {
   "cell_type": "code",
   "execution_count": null,
   "id": "aa927664",
   "metadata": {},
   "outputs": [],
   "source": [
    "with mlflow.start_run(run_name = \"random-forest\") as run:\n",
    "    # Log params: num_trees and max_depth\n",
    "    mlflow.log_param(\"num_trees\", rf.getNumTrees())\n",
    "    mlflow.log_param(\"max_depth\", rf.getMaxDepth())\n",
    "    \n",
    "    # Log model\n",
    "    pipeline_model = pipeline.fit(trainDF)\n",
    "    mlflow.spark.log_model(pipeline_model, 'model')\n",
    "    \n",
    "    # Log metrics: RMSE and R2\n",
    "    predDF = pipeline_model.fit(testDF)\n",
    "    regressionEvaluator = RegressionEvaluator(predictionCol = \"prediction\",\n",
    "                                             labelCol = \"price\")\n",
    "    rmse = regressionEvaluator.setMetricName(\"rmse\").evaluate(predDF)\n",
    "    r2 = regressionEvaluator.setMetricName(\"r2\").evaluate(predDF)\n",
    "    mlflow.log_metrics({\"rmse\": rmse, \"r2\": r2})\n",
    "    \n",
    "    # Log artifact: feature importance scores\n",
    "    rfModel = pipeline_model.stages[-1]\n",
    "    pandasDF = (pd.DataFrame(list(zip(vecAssembler.getInputCols(),\n",
    "                                     rfModel.featureImportances)),\n",
    "                            columns = [\"feature\", \"importance\"])\n",
    "               .sort_values(by = \"importance\", ascending = False))\n",
    "    \n",
    "    "
   ]
  }
 ],
 "metadata": {
  "kernelspec": {
   "display_name": "Python 3 (ipykernel)",
   "language": "python",
   "name": "python3"
  },
  "language_info": {
   "codemirror_mode": {
    "name": "ipython",
    "version": 3
   },
   "file_extension": ".py",
   "mimetype": "text/x-python",
   "name": "python",
   "nbconvert_exporter": "python",
   "pygments_lexer": "ipython3",
   "version": "3.10.12"
  }
 },
 "nbformat": 4,
 "nbformat_minor": 5
}
