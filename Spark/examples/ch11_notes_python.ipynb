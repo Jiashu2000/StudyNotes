{
 "cells": [
  {
   "cell_type": "code",
   "execution_count": 2,
   "id": "06d4d107",
   "metadata": {},
   "outputs": [],
   "source": [
    "from pyspark.ml import Pipeline\n",
    "from pyspark.ml.feature import StringIndexer, VectorAssembler\n",
    "from pyspark.ml.regression import RandomForestRegressor\n",
    "from pyspark.ml.evaluation import RegressionEvaluator"
   ]
  },
  {
   "cell_type": "code",
   "execution_count": 5,
   "id": "da181275",
   "metadata": {},
   "outputs": [],
   "source": [
    "file_path = \"./data/sf-airbnb/sf-airbnb-clean.parquet\""
   ]
  },
  {
   "cell_type": "code",
   "execution_count": 6,
   "id": "16d11e34",
   "metadata": {},
   "outputs": [
    {
     "name": "stderr",
     "output_type": "stream",
     "text": [
      "                                                                                \r"
     ]
    }
   ],
   "source": [
    "airbnbDF = spark.read.parquet(file_path)"
   ]
  },
  {
   "cell_type": "code",
   "execution_count": 7,
   "id": "93d6248a",
   "metadata": {},
   "outputs": [],
   "source": [
    "(trainDF, testDF) = airbnbDF.randomSplit([0.8, 0.2], seed = 42)"
   ]
  },
  {
   "cell_type": "code",
   "execution_count": 27,
   "id": "bdea1d8c",
   "metadata": {},
   "outputs": [],
   "source": [
    "categoricalCols = [field for (field, dataType) in trainDF.dtypes if dataType == \"string\"]"
   ]
  },
  {
   "cell_type": "code",
   "execution_count": 28,
   "id": "b75bc1bf",
   "metadata": {},
   "outputs": [],
   "source": [
    "indexOutputCols = [x + \"Index\" for x in categoricalCols]"
   ]
  },
  {
   "cell_type": "code",
   "execution_count": 29,
   "id": "3869d163",
   "metadata": {},
   "outputs": [],
   "source": [
    "stringIndexer = StringIndexer(inputCols = categoricalCols,\n",
    "                             outputCols = indexOutputCols,\n",
    "                             handleInvalid = \"skip\")"
   ]
  },
  {
   "cell_type": "code",
   "execution_count": 30,
   "id": "32aa83d4",
   "metadata": {},
   "outputs": [],
   "source": [
    "numericCols = [field for (field, dataType) in trainDF.dtypes\n",
    "              if ((dataType == \"double\") & (field != \"price\"))]"
   ]
  },
  {
   "cell_type": "code",
   "execution_count": 31,
   "id": "08f371d7",
   "metadata": {},
   "outputs": [],
   "source": [
    "assemblerInputs = indexOutputCols + numericCols"
   ]
  },
  {
   "cell_type": "code",
   "execution_count": 32,
   "id": "bb9cf349",
   "metadata": {},
   "outputs": [],
   "source": [
    "vecAssembler = VectorAssembler(inputCols = assemblerInputs,\n",
    "                              outputCol = \"features\")"
   ]
  },
  {
   "cell_type": "code",
   "execution_count": 33,
   "id": "1e004787",
   "metadata": {},
   "outputs": [],
   "source": [
    "rf = RandomForestRegressor(labelCol = \"price\", maxBins = 40, maxDepth = 5,\n",
    "                          numTrees = 100, seed = 42)"
   ]
  },
  {
   "cell_type": "code",
   "execution_count": 34,
   "id": "6a8a90ff",
   "metadata": {},
   "outputs": [],
   "source": [
    "pipeline = Pipeline(stages = [stringIndexer, vecAssembler, rf])"
   ]
  },
  {
   "cell_type": "code",
   "execution_count": 35,
   "id": "e8753970",
   "metadata": {},
   "outputs": [],
   "source": [
    "import mlflow"
   ]
  },
  {
   "cell_type": "code",
   "execution_count": 36,
   "id": "40f429e7",
   "metadata": {},
   "outputs": [],
   "source": [
    "import mlflow.spark"
   ]
  },
  {
   "cell_type": "code",
   "execution_count": 37,
   "id": "81e433b3",
   "metadata": {},
   "outputs": [],
   "source": [
    "import pandas as pd"
   ]
  },
  {
   "cell_type": "code",
   "execution_count": 38,
   "id": "3f3f8b56",
   "metadata": {},
   "outputs": [],
   "source": [
    "with mlflow.start_run(run_name = \"random-forest\") as run:\n",
    "    # Log params: num_trees and max_depth\n",
    "    mlflow.log_param(\"num_trees\", rf.getNumTrees())\n",
    "    mlflow.log_param(\"max_depth\", rf.getMaxDepth())\n",
    "    \n",
    "    # Log model\n",
    "    pipeline_model = pipeline.fit(trainDF)\n",
    "    mlflow.spark.log_model(pipeline_model, 'model')\n",
    "    \n",
    "    # Log metrics: RMSE and R2\n",
    "    predDF = pipeline_model.transform(testDF)\n",
    "    regressionEvaluator = RegressionEvaluator(predictionCol = \"prediction\",\n",
    "                                             labelCol = \"price\")\n",
    "    rmse = regressionEvaluator.setMetricName(\"rmse\").evaluate(predDF)\n",
    "    r2 = regressionEvaluator.setMetricName(\"r2\").evaluate(predDF)\n",
    "    mlflow.log_metrics({\"rmse\": rmse, \"r2\": r2})\n",
    "    \n",
    "    # Log artifact: feature importance scores\n",
    "    rfModel = pipeline_model.stages[-1]\n",
    "    pandasDF = (pd.DataFrame(list(zip(vecAssembler.getInputCols(),\n",
    "                                     rfModel.featureImportances)),\n",
    "                            columns = [\"feature\", \"importance\"])\n",
    "               .sort_values(by = \"importance\", ascending = False))\n",
    "    \n",
    "    # First write to local filesystem, then tell MLflow where to find that file\n",
    "    pandasDF.to_csv(\"feature_importance.csv\", index = False)\n",
    "    mlflow.log_artifact(\"feature_importance.csv\")"
   ]
  },
  {
   "cell_type": "code",
   "execution_count": 39,
   "id": "5fb54ed5",
   "metadata": {},
   "outputs": [],
   "source": [
    "from mlflow.tracking import MlflowClient"
   ]
  },
  {
   "cell_type": "code",
   "execution_count": 40,
   "id": "867ca363",
   "metadata": {},
   "outputs": [],
   "source": [
    "client = MlflowClient()"
   ]
  },
  {
   "cell_type": "code",
   "execution_count": 41,
   "id": "99cc600e",
   "metadata": {},
   "outputs": [],
   "source": [
    "runs = client.search_runs(run.info.experiment_id,\n",
    "                         order_by = [\"attributes.start_time desc\"],\n",
    "                         max_results = 1)"
   ]
  },
  {
   "cell_type": "code",
   "execution_count": 42,
   "id": "789a4508",
   "metadata": {},
   "outputs": [],
   "source": [
    "run_id = runs[0].info.run_id"
   ]
  },
  {
   "cell_type": "code",
   "execution_count": 44,
   "id": "55e8f5db",
   "metadata": {},
   "outputs": [
    {
     "data": {
      "text/plain": [
       "'54f5ec008779403e84ffdc1894d56d14'"
      ]
     },
     "execution_count": 44,
     "metadata": {},
     "output_type": "execute_result"
    }
   ],
   "source": [
    "run_id "
   ]
  },
  {
   "cell_type": "code",
   "execution_count": 43,
   "id": "4af89e2a",
   "metadata": {},
   "outputs": [
    {
     "data": {
      "text/plain": [
       "{'r2': 0.22794251914574226, 'rmse': 211.5096898777315}"
      ]
     },
     "execution_count": 43,
     "metadata": {},
     "output_type": "execute_result"
    }
   ],
   "source": [
    "runs[0].data.metrics"
   ]
  },
  {
   "cell_type": "code",
   "execution_count": 49,
   "id": "8451c45b",
   "metadata": {},
   "outputs": [
    {
     "name": "stderr",
     "output_type": "stream",
     "text": [
      "2023/12/02 07:46:49 INFO mlflow.spark: 'runs:/54f5ec008779403e84ffdc1894d56d14/model' resolved as 'file:///Users/jiashu/Documents/StudyNotes/spark/examples/mlruns/0/54f5ec008779403e84ffdc1894d56d14/artifacts/model'\n",
      "2023/12/02 07:46:49 INFO mlflow.spark: URI 'runs:/54f5ec008779403e84ffdc1894d56d14/model/sparkml' does not point to the current DFS.\n",
      "2023/12/02 07:46:49 INFO mlflow.spark: File 'runs:/54f5ec008779403e84ffdc1894d56d14/model/sparkml' not found on DFS. Will attempt to upload the file.\n"
     ]
    }
   ],
   "source": [
    "pipeline_model = mlflow.spark.load_model(f\"runs:/{run_id}/model\")"
   ]
  },
  {
   "cell_type": "code",
   "execution_count": null,
   "id": "6b1af562",
   "metadata": {},
   "outputs": [],
   "source": []
  }
 ],
 "metadata": {
  "kernelspec": {
   "display_name": "Python 3 (ipykernel)",
   "language": "python",
   "name": "python3"
  },
  "language_info": {
   "codemirror_mode": {
    "name": "ipython",
    "version": 3
   },
   "file_extension": ".py",
   "mimetype": "text/x-python",
   "name": "python",
   "nbconvert_exporter": "python",
   "pygments_lexer": "ipython3",
   "version": "3.10.12"
  }
 },
 "nbformat": 4,
 "nbformat_minor": 5
}
