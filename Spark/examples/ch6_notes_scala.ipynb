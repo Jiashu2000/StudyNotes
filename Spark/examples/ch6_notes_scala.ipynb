{
 "cells": [
  {
   "cell_type": "code",
   "execution_count": 1,
   "id": "f23c1fb1",
   "metadata": {},
   "outputs": [
    {
     "data": {
      "text/plain": [
       "Intitializing Scala interpreter ..."
      ]
     },
     "metadata": {},
     "output_type": "display_data"
    },
    {
     "data": {
      "text/plain": [
       "Spark Web UI available at http://172.16.18.84:4041\n",
       "SparkContext available as 'sc' (version = 3.5.0, master = local[*], app id = local-1701229627334)\n",
       "SparkSession available as 'spark'\n"
      ]
     },
     "metadata": {},
     "output_type": "display_data"
    },
    {
     "data": {
      "text/plain": [
       "import org.apache.spark.sql.functions._\n",
       "import org.apache.spark.sql.SparkSession\n",
       "import org.apache.spark.sql.types._\n"
      ]
     },
     "execution_count": 1,
     "metadata": {},
     "output_type": "execute_result"
    }
   ],
   "source": [
    "import org.apache.spark.sql.functions._\n",
    "import org.apache.spark.sql.SparkSession\n",
    "import org.apache.spark.sql.types._"
   ]
  },
  {
   "cell_type": "code",
   "execution_count": 2,
   "id": "b20af997",
   "metadata": {},
   "outputs": [
    {
     "data": {
      "text/plain": [
       "spark: org.apache.spark.sql.SparkSession = org.apache.spark.sql.SparkSession@6f35d9c\n"
      ]
     },
     "execution_count": 2,
     "metadata": {},
     "output_type": "execute_result"
    }
   ],
   "source": [
    "val spark = SparkSession\n",
    "    .builder\n",
    "    .appName(\"ch5\")\n",
    "    .enableHiveSupport()\n",
    "    .getOrCreate()"
   ]
  },
  {
   "cell_type": "code",
   "execution_count": 3,
   "id": "009d1811",
   "metadata": {},
   "outputs": [
    {
     "data": {
      "text/plain": [
       "defined class Bloggers\n"
      ]
     },
     "execution_count": 3,
     "metadata": {},
     "output_type": "execute_result"
    }
   ],
   "source": [
    "case class Bloggers(id: Int, first: String, last: String, url: String, \n",
    "                    date: String, hits: Int, campaigns: Array[String])"
   ]
  },
  {
   "cell_type": "code",
   "execution_count": 12,
   "id": "3c3a800b",
   "metadata": {},
   "outputs": [
    {
     "data": {
      "text/plain": [
       "import scala.util.Random._\n"
      ]
     },
     "execution_count": 12,
     "metadata": {},
     "output_type": "execute_result"
    }
   ],
   "source": [
    "import scala.util.Random._"
   ]
  },
  {
   "cell_type": "code",
   "execution_count": 13,
   "id": "e96d7959",
   "metadata": {},
   "outputs": [
    {
     "data": {
      "text/plain": [
       "defined class Usage\n"
      ]
     },
     "execution_count": 13,
     "metadata": {},
     "output_type": "execute_result"
    }
   ],
   "source": [
    "case class Usage(uid: Int, uname: String, usage: Int)"
   ]
  },
  {
   "cell_type": "code",
   "execution_count": 14,
   "id": "28bb6b05",
   "metadata": {},
   "outputs": [
    {
     "data": {
      "text/plain": [
       "r: scala.util.Random = scala.util.Random@637abb94\n"
      ]
     },
     "execution_count": 14,
     "metadata": {},
     "output_type": "execute_result"
    }
   ],
   "source": [
    "val r = new scala.util.Random(42)"
   ]
  },
  {
   "cell_type": "code",
   "execution_count": 19,
   "id": "9614c9a7",
   "metadata": {},
   "outputs": [
    {
     "data": {
      "text/plain": [
       "data: scala.collection.immutable.IndexedSeq[Usage] = Vector(Usage(0,user-pi2C7,505), Usage(1,user-gXDiA,276), Usage(2,user-66yO0,743), Usage(3,user-TOn6x,243), Usage(4,user-xGSz0,730), Usage(5,user-aWRN1,212), Usage(6,user-zZY1T,823), Usage(7,user-lZMZd,157), Usage(8,user-jxeGg,160), Usage(9,user-qf1Pt,897), Usage(10,user-1S1q6,798), Usage(11,user-HNj0R,453), Usage(12,user-hb94s,625), Usage(13,user-z0WFC,807), Usage(14,user-1nwyT,747), Usage(15,user-GZz1J,229), Usage(16,user-CSk6c,532), Usage(17,user-PzlLK,275), Usage(18,user-aEitt,31), Usage(19,user-SaRqT,246), Usage(20,user-Kkzum,322), Usage(21,user-N3MG0,238), Usage(22,user-wwERO,627), Usage(23,user-nltJ3,904), Usage(24,user-RA17D,630), Usage(25,user-NHRT1,600), Usage(26,user-JY3CG,740), Usage(27,user-q9WWZ,29), Usage(28,user-FWw1Q,6...\n"
      ]
     },
     "execution_count": 19,
     "metadata": {},
     "output_type": "execute_result"
    }
   ],
   "source": [
    "val data = for (i <- 0 to 1000)\n",
    "    yield(Usage(i, \"user-\" + r.alphanumeric.take(5).mkString(\"\"),\n",
    "               r.nextInt(1000)))"
   ]
  },
  {
   "cell_type": "code",
   "execution_count": 20,
   "id": "18db8287",
   "metadata": {},
   "outputs": [
    {
     "data": {
      "text/plain": [
       "dsUsage: org.apache.spark.sql.Dataset[Usage] = [uid: int, uname: string ... 1 more field]\n"
      ]
     },
     "execution_count": 20,
     "metadata": {},
     "output_type": "execute_result"
    }
   ],
   "source": [
    "val dsUsage = spark.createDataset(data)"
   ]
  },
  {
   "cell_type": "code",
   "execution_count": 21,
   "id": "61a21a7f",
   "metadata": {},
   "outputs": [
    {
     "name": "stdout",
     "output_type": "stream",
     "text": [
      "+---+----------+-----+\n",
      "|uid|     uname|usage|\n",
      "+---+----------+-----+\n",
      "|  0|user-pi2C7|  505|\n",
      "|  1|user-gXDiA|  276|\n",
      "|  2|user-66yO0|  743|\n",
      "|  3|user-TOn6x|  243|\n",
      "|  4|user-xGSz0|  730|\n",
      "|  5|user-aWRN1|  212|\n",
      "|  6|user-zZY1T|  823|\n",
      "|  7|user-lZMZd|  157|\n",
      "|  8|user-jxeGg|  160|\n",
      "|  9|user-qf1Pt|  897|\n",
      "+---+----------+-----+\n",
      "only showing top 10 rows\n",
      "\n"
     ]
    }
   ],
   "source": [
    "dsUsage.show(10)"
   ]
  },
  {
   "cell_type": "code",
   "execution_count": 22,
   "id": "7fbe9800",
   "metadata": {},
   "outputs": [
    {
     "name": "stdout",
     "output_type": "stream",
     "text": [
      "+---+----------+-----+\n",
      "|uid|uname     |usage|\n",
      "+---+----------+-----+\n",
      "|669|user-U6tI4|998  |\n",
      "|517|user-v9ayH|997  |\n",
      "|225|user-hGurl|997  |\n",
      "|650|user-LSxF9|996  |\n",
      "|218|user-vhU5l|994  |\n",
      "+---+----------+-----+\n",
      "only showing top 5 rows\n",
      "\n"
     ]
    }
   ],
   "source": [
    "dsUsage\n",
    "    .filter(d => d.usage > 900)\n",
    "    .orderBy(desc(\"usage\"))\n",
    "    .show(5, false)"
   ]
  },
  {
   "cell_type": "code",
   "execution_count": 24,
   "id": "e742359e",
   "metadata": {},
   "outputs": [
    {
     "data": {
      "text/plain": [
       "filterWithUsage: (u: Usage)Boolean\n"
      ]
     },
     "execution_count": 24,
     "metadata": {},
     "output_type": "execute_result"
    }
   ],
   "source": [
    "def filterWithUsage(u: Usage) = u.usage > 900"
   ]
  },
  {
   "cell_type": "code",
   "execution_count": 25,
   "id": "edc0dec2",
   "metadata": {},
   "outputs": [
    {
     "name": "stdout",
     "output_type": "stream",
     "text": [
      "+---+----------+-----+\n",
      "|uid|     uname|usage|\n",
      "+---+----------+-----+\n",
      "|669|user-U6tI4|  998|\n",
      "|517|user-v9ayH|  997|\n",
      "|225|user-hGurl|  997|\n",
      "|650|user-LSxF9|  996|\n",
      "|218|user-vhU5l|  994|\n",
      "+---+----------+-----+\n",
      "only showing top 5 rows\n",
      "\n"
     ]
    }
   ],
   "source": [
    "dsUsage.filter(filterWithUsage(_)).orderBy(desc(\"usage\")).show(5)"
   ]
  },
  {
   "cell_type": "code",
   "execution_count": 27,
   "id": "603b08c8",
   "metadata": {},
   "outputs": [
    {
     "name": "stdout",
     "output_type": "stream",
     "text": [
      "+-----+\n",
      "|value|\n",
      "+-----+\n",
      "|252.5|\n",
      "|138.0|\n",
      "|371.5|\n",
      "|121.5|\n",
      "|365.0|\n",
      "+-----+\n",
      "only showing top 5 rows\n",
      "\n"
     ]
    }
   ],
   "source": [
    "dsUsage.map(u => {if (u.usage > 750) u.usage * 0.15 else u.usage * 0.5})\n",
    "        .show(5, false)"
   ]
  },
  {
   "cell_type": "code",
   "execution_count": 28,
   "id": "8eda4cd2",
   "metadata": {},
   "outputs": [
    {
     "data": {
      "text/plain": [
       "computeCostUsage: (usage: Int)Double\n"
      ]
     },
     "execution_count": 28,
     "metadata": {},
     "output_type": "execute_result"
    }
   ],
   "source": [
    "def computeCostUsage(usage: Int): Double = {\n",
    "    if (usage > 750) usage * 0.15\n",
    "    else usage*0.5\n",
    "}"
   ]
  },
  {
   "cell_type": "code",
   "execution_count": 29,
   "id": "66509d44",
   "metadata": {},
   "outputs": [
    {
     "name": "stdout",
     "output_type": "stream",
     "text": [
      "+-----+\n",
      "|value|\n",
      "+-----+\n",
      "|252.5|\n",
      "|138.0|\n",
      "|371.5|\n",
      "|121.5|\n",
      "|365.0|\n",
      "+-----+\n",
      "only showing top 5 rows\n",
      "\n"
     ]
    }
   ],
   "source": [
    "dsUsage.map(u => {computeCostUsage(u.usage)}).show(5, false)"
   ]
  },
  {
   "cell_type": "code",
   "execution_count": null,
   "id": "c5448acf",
   "metadata": {},
   "outputs": [],
   "source": []
  }
 ],
 "metadata": {
  "kernelspec": {
   "display_name": "spylon-kernel",
   "language": "scala",
   "name": "spylon-kernel"
  },
  "language_info": {
   "codemirror_mode": "text/x-scala",
   "file_extension": ".scala",
   "help_links": [
    {
     "text": "MetaKernel Magics",
     "url": "https://metakernel.readthedocs.io/en/latest/source/README.html"
    }
   ],
   "mimetype": "text/x-scala",
   "name": "scala",
   "pygments_lexer": "scala",
   "version": "0.4.1"
  }
 },
 "nbformat": 4,
 "nbformat_minor": 5
}
