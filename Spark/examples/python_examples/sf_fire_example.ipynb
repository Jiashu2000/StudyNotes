{
 "cells": [
  {
   "cell_type": "code",
   "execution_count": 3,
   "id": "4b0617e5",
   "metadata": {},
   "outputs": [],
   "source": [
    "from pyspark.sql.types import *\n",
    "from pyspark.sql import SparkSession"
   ]
  },
  {
   "cell_type": "code",
   "execution_count": 19,
   "id": "29f91994",
   "metadata": {},
   "outputs": [],
   "source": [
    "from pyspark.sql.functions import *"
   ]
  },
  {
   "cell_type": "code",
   "execution_count": 4,
   "id": "51a92483",
   "metadata": {},
   "outputs": [
    {
     "name": "stderr",
     "output_type": "stream",
     "text": [
      "23/11/27 10:33:03 WARN SparkSession: Using an existing Spark session; only runtime SQL configurations will take effect.\n"
     ]
    }
   ],
   "source": [
    "spark = (SparkSession\n",
    "    .builder\n",
    "    .appName(\"sf_fire\")\n",
    "    .getOrCreate())"
   ]
  },
  {
   "cell_type": "code",
   "execution_count": 45,
   "id": "f733a376",
   "metadata": {},
   "outputs": [],
   "source": [
    "fire_schema = StructType([StructField('CallNumber', IntegerType(), True),\n",
    "                StructField('UnitID', StringType(), True),\n",
    "                StructField('IncidentNumber', IntegerType(), True),\n",
    "                StructField('CallType', StringType(), True),\n",
    "                StructField('CallDate', StringType(), True),\n",
    "                StructField('WatchDate', StringType(), True),\n",
    "                StructField('CallFinalDisposition', StringType(), True),\n",
    "                StructField('AvailableDtTm', StringType(), True),\n",
    "                StructField('Address', StringType(), True),\n",
    "                StructField('City', StringType(), True),\n",
    "                StructField('Zipcode', IntegerType(), True),\n",
    "                StructField('Battalion', StringType(), True),\n",
    "                StructField('StationArea', StringType(), True),\n",
    "                StructField('Box', StringType(), True),\n",
    "                StructField('OriginalPriority', StringType(), True),\n",
    "                StructField('Priority', StringType(), True),\n",
    "                StructField('FinalPriority', IntegerType(), True),\n",
    "                StructField('ALSUnit', BooleanType(), True),\n",
    "                StructField('CallTypeGroup', StringType(), True),\n",
    "                StructField('NumAlarms', IntegerType(), True),\n",
    "                StructField('UnitType', StringType(), True),\n",
    "                StructField('UnitSequenceInCallDispatch', IntegerType(), True),\n",
    "                StructField('FirePreventionDistrict', StringType(), True),\n",
    "                StructField('SupervisorDistrict', StringType(), True),\n",
    "                StructField('Neighborhood', StringType(), True),\n",
    "                StructField('Location', StringType(), True),\n",
    "                StructField('RowID', StringType(), True),\n",
    "                StructField('Delay', FloatType(), True)])\n",
    "\n",
    "sf_fire_file = \"/Users/jiashu/Documents/StudyNotes/spark/examples/data/sf-fire-calls.csv\"\n",
    "\n",
    "fire_df = spark.read.csv(sf_fire_file, header = True, schema = fire_schema)"
   ]
  },
  {
   "cell_type": "markdown",
   "id": "7bab46c8",
   "metadata": {},
   "source": [
    "Questions:\n",
    "\n",
    "• What were all the different types of fire calls in 2018?\n",
    "\n",
    "• What months within the year 2018 saw the highest number of fire calls?\n",
    "\n",
    "• Which neighborhood in San Francisco generated the most fire calls in 2018?\n",
    "\n",
    "• Which neighborhoods had the worst response times to fire calls in 2018?\n",
    "\n",
    "• Which week in the year in 2018 had the most fire calls?\n",
    "\n",
    "• Is there a correlation between neighborhood, zip code, and number of fire calls?\n",
    "\n",
    "• How can we use Parquet files or SQL tables to store this data and read it back?"
   ]
  },
  {
   "cell_type": "code",
   "execution_count": 6,
   "id": "c95624a3",
   "metadata": {},
   "outputs": [
    {
     "data": {
      "text/plain": [
       "['CallNumber',\n",
       " 'UnitID',\n",
       " 'IncidentNumber',\n",
       " 'CallType',\n",
       " 'CallDate',\n",
       " 'WatchDate',\n",
       " 'CallFinalDisposition',\n",
       " 'AvailableDtTm',\n",
       " 'Address',\n",
       " 'City',\n",
       " 'Zipcode',\n",
       " 'Battalion',\n",
       " 'StationArea',\n",
       " 'Box',\n",
       " 'OriginalPriority',\n",
       " 'Priority',\n",
       " 'FinalPriority',\n",
       " 'ALSUnit',\n",
       " 'CallTypeGroup',\n",
       " 'NumAlarms',\n",
       " 'UnitType',\n",
       " 'UnitSequenceInCallDispatch',\n",
       " 'FirePreventionDistrict',\n",
       " 'SupervisorDistrict',\n",
       " 'Neighborhood',\n",
       " 'Location',\n",
       " 'RowID',\n",
       " 'Delay']"
      ]
     },
     "execution_count": 6,
     "metadata": {},
     "output_type": "execute_result"
    }
   ],
   "source": [
    "fire_df.columns"
   ]
  },
  {
   "cell_type": "code",
   "execution_count": 46,
   "id": "ea7b6a55",
   "metadata": {},
   "outputs": [
    {
     "name": "stdout",
     "output_type": "stream",
     "text": [
      "+--------------------+---------+\n",
      "|       AvailableDtTm|    delay|\n",
      "+--------------------+---------+\n",
      "|01/11/2002 01:51:...|     2.95|\n",
      "|01/11/2002 03:01:...|      4.7|\n",
      "|01/11/2002 02:39:...|2.4333334|\n",
      "|01/11/2002 04:16:...|      1.5|\n",
      "|01/11/2002 06:01:...|3.4833333|\n",
      "+--------------------+---------+\n",
      "only showing top 5 rows\n",
      "\n"
     ]
    }
   ],
   "source": [
    "fire_df.select([col(\"AvailableDtTm\"), col(\"delay\")]).show(5, True)"
   ]
  },
  {
   "cell_type": "code",
   "execution_count": 47,
   "id": "3a2bc435",
   "metadata": {},
   "outputs": [
    {
     "data": {
      "text/plain": [
       "StructType([StructField('CallNumber', IntegerType(), True), StructField('UnitID', StringType(), True), StructField('IncidentNumber', IntegerType(), True), StructField('CallType', StringType(), True), StructField('CallDate', StringType(), True), StructField('WatchDate', StringType(), True), StructField('CallFinalDisposition', StringType(), True), StructField('AvailableDtTm', StringType(), True), StructField('Address', StringType(), True), StructField('City', StringType(), True), StructField('Zipcode', IntegerType(), True), StructField('Battalion', StringType(), True), StructField('StationArea', StringType(), True), StructField('Box', StringType(), True), StructField('OriginalPriority', StringType(), True), StructField('Priority', StringType(), True), StructField('FinalPriority', IntegerType(), True), StructField('ALSUnit', BooleanType(), True), StructField('CallTypeGroup', StringType(), True), StructField('NumAlarms', IntegerType(), True), StructField('UnitType', StringType(), True), StructField('UnitSequenceInCallDispatch', IntegerType(), True), StructField('FirePreventionDistrict', StringType(), True), StructField('SupervisorDistrict', StringType(), True), StructField('Neighborhood', StringType(), True), StructField('Location', StringType(), True), StructField('RowID', StringType(), True), StructField('Delay', FloatType(), True)])"
      ]
     },
     "execution_count": 47,
     "metadata": {},
     "output_type": "execute_result"
    }
   ],
   "source": [
    "fire_df.schema"
   ]
  },
  {
   "cell_type": "code",
   "execution_count": 48,
   "id": "afe10579",
   "metadata": {},
   "outputs": [],
   "source": [
    "# add timestamp\n",
    "df = (fire_df\n",
    "    .withColumn(\"call_date_ts\", to_timestamp(col(\"CallDate\"), \"MM/dd/yyyy\"))\n",
    "    .drop(col('CallDate'))\n",
    "    .withColumn(\"watch_date_ts\", to_timestamp(col(\"WatchDate\"), \"MM/dd/yyyy\"))\n",
    "    .drop(col('WatchDate'))\n",
    "    .withColumn(\"available_dt\", to_timestamp(col(\"AvailableDtTm\"), \"MM/dd/yyyy hh:mm:ss a\"))\n",
    "    .drop(col('AvailableDtTm')))"
   ]
  },
  {
   "cell_type": "code",
   "execution_count": 50,
   "id": "1b33e94e",
   "metadata": {},
   "outputs": [
    {
     "name": "stdout",
     "output_type": "stream",
     "text": [
      "+-------------------+-------------------+-------------------+\n",
      "|       call_date_ts|      watch_date_ts|       available_dt|\n",
      "+-------------------+-------------------+-------------------+\n",
      "|2002-01-11 00:00:00|2002-01-10 00:00:00|2002-01-11 01:51:44|\n",
      "|2002-01-11 00:00:00|2002-01-10 00:00:00|2002-01-11 03:01:18|\n",
      "|2002-01-11 00:00:00|2002-01-10 00:00:00|2002-01-11 02:39:50|\n",
      "|2002-01-11 00:00:00|2002-01-10 00:00:00|2002-01-11 04:16:46|\n",
      "|2002-01-11 00:00:00|2002-01-10 00:00:00|2002-01-11 06:01:58|\n",
      "+-------------------+-------------------+-------------------+\n",
      "only showing top 5 rows\n",
      "\n"
     ]
    }
   ],
   "source": [
    "(df\n",
    " .select(\"call_date_ts\", \"watch_date_ts\",\"available_dt\")\n",
    " .show(5))"
   ]
  },
  {
   "cell_type": "code",
   "execution_count": 53,
   "id": "65318ab5",
   "metadata": {},
   "outputs": [],
   "source": [
    "df_2018 = (df.\n",
    "    filter(year(\"call_date_ts\") == 2018))"
   ]
  },
  {
   "cell_type": "code",
   "execution_count": 54,
   "id": "dad9a435",
   "metadata": {},
   "outputs": [
    {
     "data": {
      "text/plain": [
       "DataFrame[summary: string, CallNumber: string, UnitID: string, IncidentNumber: string, CallType: string, CallFinalDisposition: string, Address: string, City: string, Zipcode: string, Battalion: string, StationArea: string, Box: string, OriginalPriority: string, Priority: string, FinalPriority: string, CallTypeGroup: string, NumAlarms: string, UnitType: string, UnitSequenceInCallDispatch: string, FirePreventionDistrict: string, SupervisorDistrict: string, Neighborhood: string, Location: string, RowID: string, Delay: string]"
      ]
     },
     "execution_count": 54,
     "metadata": {},
     "output_type": "execute_result"
    }
   ],
   "source": [
    "df_2018.describe()"
   ]
  },
  {
   "cell_type": "code",
   "execution_count": 56,
   "id": "d10abb58",
   "metadata": {},
   "outputs": [
    {
     "data": {
      "text/plain": [
       "[Row(CallNumber=180190613, UnitID='E10', IncidentNumber=18007977, CallType='Structure Fire', CallFinalDisposition='Fire', Address='3200 Block of CLAY ST', City='San Francisco', Zipcode=94115, Battalion='B04', StationArea='10', Box='4335', OriginalPriority='3', Priority='3', FinalPriority=3, ALSUnit=True, CallTypeGroup='Alarm', NumAlarms=1, UnitType='ENGINE', UnitSequenceInCallDispatch=1, FirePreventionDistrict='4', SupervisorDistrict='2', Neighborhood='Presidio Heights', Location='(37.789214135744714, -122.44646398918253)', RowID='180190613-E10', Delay=2.883333444595337, call_date_ts=datetime.datetime(2018, 1, 19, 0, 0), watch_date_ts=datetime.datetime(2018, 1, 18, 0, 0), available_dt=datetime.datetime(2018, 1, 19, 7, 40, 18)),\n",
       " Row(CallNumber=180190640, UnitID='T08', IncidentNumber=18007978, CallType='HazMat', CallFinalDisposition='Fire', Address='200 Block of KING ST', City='San Francisco', Zipcode=94107, Battalion='B03', StationArea='08', Box='2171', OriginalPriority='3', Priority='3', FinalPriority=3, ALSUnit=False, CallTypeGroup='Alarm', NumAlarms=1, UnitType='TRUCK', UnitSequenceInCallDispatch=2, FirePreventionDistrict='3', SupervisorDistrict='6', Neighborhood='Mission Bay', Location='(37.77732776352611, -122.39308855968541)', RowID='180190640-T08', Delay=6.333333492279053, call_date_ts=datetime.datetime(2018, 1, 19, 0, 0), watch_date_ts=datetime.datetime(2018, 1, 18, 0, 0), available_dt=datetime.datetime(2018, 1, 19, 7, 58, 57))]"
      ]
     },
     "execution_count": 56,
     "metadata": {},
     "output_type": "execute_result"
    }
   ],
   "source": [
    "df_2018.take(2)"
   ]
  },
  {
   "cell_type": "markdown",
   "id": "76cb4928",
   "metadata": {},
   "source": [
    "#### • What were all the different types of fire calls in 2018?"
   ]
  },
  {
   "cell_type": "code",
   "execution_count": 61,
   "id": "ad329f85",
   "metadata": {},
   "outputs": [
    {
     "name": "stdout",
     "output_type": "stream",
     "text": [
      "+--------------------+-----+\n",
      "|            CallType|count|\n",
      "+--------------------+-----+\n",
      "|    Medical Incident| 7004|\n",
      "|              Alarms| 1144|\n",
      "|      Structure Fire|  906|\n",
      "|   Traffic Collision|  433|\n",
      "|        Outside Fire|  153|\n",
      "|               Other|  114|\n",
      "|Citizen Assist / ...|  113|\n",
      "|Gas Leak (Natural...|   69|\n",
      "|        Water Rescue|   43|\n",
      "|Elevator / Escala...|   36|\n",
      "|   Electrical Hazard|   30|\n",
      "|        Vehicle Fire|   28|\n",
      "|Smoke Investigati...|   28|\n",
      "|Odor (Strange / U...|   10|\n",
      "|          Fuel Spill|   10|\n",
      "|              HazMat|    5|\n",
      "|Train / Rail Inci...|    5|\n",
      "|  Suspicious Package|    3|\n",
      "|       Assist Police|    1|\n",
      "|           Explosion|    1|\n",
      "+--------------------+-----+\n",
      "\n"
     ]
    }
   ],
   "source": [
    "(df_2018\n",
    "    .groupBy(\"CallType\")\n",
    "    .count()\n",
    "    .orderBy(\"count\", ascending = False)\n",
    "    .show())"
   ]
  },
  {
   "cell_type": "markdown",
   "id": "97b48367",
   "metadata": {},
   "source": [
    "#### What months within the year 2018 saw the highest number of fire calls?"
   ]
  },
  {
   "cell_type": "code",
   "execution_count": 62,
   "id": "965130d4",
   "metadata": {},
   "outputs": [],
   "source": [
    "df_2018 = (df_2018\n",
    "          .withColumn(\"month\", month(\"call_date_ts\")))"
   ]
  },
  {
   "cell_type": "code",
   "execution_count": 67,
   "id": "5713da12",
   "metadata": {},
   "outputs": [
    {
     "name": "stdout",
     "output_type": "stream",
     "text": [
      "+-----+-----+\n",
      "|month|count|\n",
      "+-----+-----+\n",
      "|   10| 1068|\n",
      "|    5| 1047|\n",
      "|    3| 1029|\n",
      "|    8| 1021|\n",
      "|    1| 1007|\n",
      "|    6|  974|\n",
      "|    7|  974|\n",
      "|    9|  951|\n",
      "|    4|  947|\n",
      "|    2|  919|\n",
      "|   11|  199|\n",
      "+-----+-----+\n",
      "\n"
     ]
    }
   ],
   "source": [
    "(df_2018\n",
    "     .groupBy(\"month\")\n",
    "     .count()\n",
    "     .orderBy(\"count\", ascending = False)\n",
    "     .show()\n",
    ")"
   ]
  },
  {
   "cell_type": "markdown",
   "id": "0c1eab9e",
   "metadata": {},
   "source": [
    "#### Which neighborhood in San Francisco generated the most fire calls in 2018?"
   ]
  },
  {
   "cell_type": "code",
   "execution_count": 68,
   "id": "6775edd2",
   "metadata": {},
   "outputs": [
    {
     "data": {
      "text/plain": [
       "['CallNumber',\n",
       " 'UnitID',\n",
       " 'IncidentNumber',\n",
       " 'CallType',\n",
       " 'CallFinalDisposition',\n",
       " 'Address',\n",
       " 'City',\n",
       " 'Zipcode',\n",
       " 'Battalion',\n",
       " 'StationArea',\n",
       " 'Box',\n",
       " 'OriginalPriority',\n",
       " 'Priority',\n",
       " 'FinalPriority',\n",
       " 'ALSUnit',\n",
       " 'CallTypeGroup',\n",
       " 'NumAlarms',\n",
       " 'UnitType',\n",
       " 'UnitSequenceInCallDispatch',\n",
       " 'FirePreventionDistrict',\n",
       " 'SupervisorDistrict',\n",
       " 'Neighborhood',\n",
       " 'Location',\n",
       " 'RowID',\n",
       " 'Delay',\n",
       " 'call_date_ts',\n",
       " 'watch_date_ts',\n",
       " 'available_dt',\n",
       " 'month']"
      ]
     },
     "execution_count": 68,
     "metadata": {},
     "output_type": "execute_result"
    }
   ],
   "source": [
    "df_2018.columns"
   ]
  },
  {
   "cell_type": "code",
   "execution_count": 69,
   "id": "958faedb",
   "metadata": {},
   "outputs": [
    {
     "data": {
      "text/plain": [
       "[Row(Neighborhood='Presidio Heights'),\n",
       " Row(Neighborhood='Mission Bay'),\n",
       " Row(Neighborhood='Chinatown'),\n",
       " Row(Neighborhood='Financial District/South Beach'),\n",
       " Row(Neighborhood='Tenderloin'),\n",
       " Row(Neighborhood='Bayview Hunters Point'),\n",
       " Row(Neighborhood='Inner Richmond'),\n",
       " Row(Neighborhood='Inner Sunset'),\n",
       " Row(Neighborhood='Sunset/Parkside'),\n",
       " Row(Neighborhood='South of Market')]"
      ]
     },
     "execution_count": 69,
     "metadata": {},
     "output_type": "execute_result"
    }
   ],
   "source": [
    "(df_2018\n",
    "     .select(\"Neighborhood\")\n",
    "     .take(10))"
   ]
  },
  {
   "cell_type": "code",
   "execution_count": 72,
   "id": "afb9c98e",
   "metadata": {},
   "outputs": [
    {
     "name": "stdout",
     "output_type": "stream",
     "text": [
      "+--------------------+-----+\n",
      "|        Neighborhood|count|\n",
      "+--------------------+-----+\n",
      "|          Tenderloin| 1393|\n",
      "|     South of Market| 1053|\n",
      "|             Mission|  913|\n",
      "|Financial Distric...|  772|\n",
      "|Bayview Hunters P...|  522|\n",
      "|    Western Addition|  352|\n",
      "|     Sunset/Parkside|  346|\n",
      "|            Nob Hill|  295|\n",
      "|        Hayes Valley|  291|\n",
      "|      Outer Richmond|  262|\n",
      "| Castro/Upper Market|  251|\n",
      "|         North Beach|  231|\n",
      "|           Excelsior|  212|\n",
      "|  West of Twin Peaks|  210|\n",
      "|        Potrero Hill|  210|\n",
      "|           Chinatown|  191|\n",
      "|     Pacific Heights|  191|\n",
      "|              Marina|  191|\n",
      "|         Mission Bay|  178|\n",
      "|      Bernal Heights|  170|\n",
      "+--------------------+-----+\n",
      "only showing top 20 rows\n",
      "\n"
     ]
    }
   ],
   "source": [
    "(df_2018\n",
    "     .groupBy(\"Neighborhood\")\n",
    "     .count()\n",
    "     .orderBy('count', ascending = False)\n",
    "     .show()\n",
    ")"
   ]
  },
  {
   "cell_type": "markdown",
   "id": "ee0b8fa9",
   "metadata": {},
   "source": [
    "####  Which neighborhoods had the worst response times to fire calls in 2018?"
   ]
  },
  {
   "cell_type": "code",
   "execution_count": 75,
   "id": "701eb0e5",
   "metadata": {},
   "outputs": [
    {
     "data": {
      "text/plain": [
       "StructType([StructField('CallNumber', IntegerType(), True), StructField('UnitID', StringType(), True), StructField('IncidentNumber', IntegerType(), True), StructField('CallType', StringType(), True), StructField('CallFinalDisposition', StringType(), True), StructField('Address', StringType(), True), StructField('City', StringType(), True), StructField('Zipcode', IntegerType(), True), StructField('Battalion', StringType(), True), StructField('StationArea', StringType(), True), StructField('Box', StringType(), True), StructField('OriginalPriority', StringType(), True), StructField('Priority', StringType(), True), StructField('FinalPriority', IntegerType(), True), StructField('ALSUnit', BooleanType(), True), StructField('CallTypeGroup', StringType(), True), StructField('NumAlarms', IntegerType(), True), StructField('UnitType', StringType(), True), StructField('UnitSequenceInCallDispatch', IntegerType(), True), StructField('FirePreventionDistrict', StringType(), True), StructField('SupervisorDistrict', StringType(), True), StructField('Neighborhood', StringType(), True), StructField('Location', StringType(), True), StructField('RowID', StringType(), True), StructField('Delay', FloatType(), True), StructField('call_date_ts', TimestampType(), True), StructField('watch_date_ts', TimestampType(), True), StructField('available_dt', TimestampType(), True), StructField('month', IntegerType(), True)])"
      ]
     },
     "execution_count": 75,
     "metadata": {},
     "output_type": "execute_result"
    }
   ],
   "source": [
    "df_2018.schema"
   ]
  },
  {
   "cell_type": "code",
   "execution_count": 79,
   "id": "bb17ab66",
   "metadata": {},
   "outputs": [
    {
     "name": "stdout",
     "output_type": "stream",
     "text": [
      "+--------------------+------------------+\n",
      "|        Neighborhood|        sum(Delay)|\n",
      "+--------------------+------------------+\n",
      "|          Tenderloin| 5713.416682377458|\n",
      "|     South of Market| 4019.916673846543|\n",
      "|Financial Distric...|3353.6333242356777|\n",
      "|             Mission|3150.3333284556866|\n",
      "|Bayview Hunters P...|2411.9333442747593|\n",
      "|     Sunset/Parkside|1240.1333360522985|\n",
      "|           Chinatown|1182.3499933183193|\n",
      "|    Western Addition|1156.0833313167095|\n",
      "|            Nob Hill|1120.9999947845936|\n",
      "|        Hayes Valley| 980.7833325713873|\n",
      "|      Outer Richmond| 955.7999980300665|\n",
      "| Castro/Upper Market|   954.11666418612|\n",
      "|         North Beach| 898.4166664481163|\n",
      "|  West of Twin Peaks| 880.1000022888184|\n",
      "|        Potrero Hill| 880.0166715979576|\n",
      "|           Excelsior|  834.516668587923|\n",
      "|     Pacific Heights| 798.4666626155376|\n",
      "|         Mission Bay| 686.1666701734066|\n",
      "|        Inner Sunset|  683.466663569212|\n",
      "|              Marina| 654.5166680216789|\n",
      "+--------------------+------------------+\n",
      "only showing top 20 rows\n",
      "\n"
     ]
    }
   ],
   "source": [
    "(df_2018\n",
    "    .groupBy(\"Neighborhood\")\n",
    "    .sum(\"Delay\")\n",
    "    .orderBy(\"sum(Delay)\", ascending = False)\n",
    "    .show())"
   ]
  },
  {
   "cell_type": "markdown",
   "id": "dd228e19",
   "metadata": {},
   "source": [
    "#### Which week in the year in 2018 had the most fire calls?"
   ]
  },
  {
   "cell_type": "code",
   "execution_count": 83,
   "id": "91b0e5c7",
   "metadata": {},
   "outputs": [],
   "source": [
    "df_2018 = df_2018.withColumn(\"week\", weekofyear(\"call_date_ts\"))"
   ]
  },
  {
   "cell_type": "code",
   "execution_count": 85,
   "id": "b49d0a42",
   "metadata": {},
   "outputs": [
    {
     "name": "stderr",
     "output_type": "stream",
     "text": [
      "\r",
      "[Stage 53:============================>                            (5 + 5) / 10]\r"
     ]
    },
    {
     "name": "stdout",
     "output_type": "stream",
     "text": [
      "+----+-----+\n",
      "|week|count|\n",
      "+----+-----+\n",
      "|  22|  259|\n",
      "|  40|  255|\n",
      "|  43|  250|\n",
      "|  25|  249|\n",
      "|   1|  246|\n",
      "|  44|  244|\n",
      "|  13|  243|\n",
      "|  32|  243|\n",
      "|  11|  240|\n",
      "|   5|  236|\n",
      "|  18|  236|\n",
      "|  23|  235|\n",
      "|  31|  234|\n",
      "|  42|  234|\n",
      "|   2|  234|\n",
      "|  19|  233|\n",
      "|   8|  232|\n",
      "|  10|  232|\n",
      "|  34|  232|\n",
      "|  28|  231|\n",
      "+----+-----+\n",
      "only showing top 20 rows\n",
      "\n"
     ]
    },
    {
     "name": "stderr",
     "output_type": "stream",
     "text": [
      "\r",
      "                                                                                \r"
     ]
    }
   ],
   "source": [
    "(df_2018\n",
    "    .groupBy(\"week\")\n",
    "    .count()\n",
    "    .orderBy(\"count\", ascending = False)\n",
    "    .show())"
   ]
  },
  {
   "cell_type": "markdown",
   "id": "133e8737",
   "metadata": {},
   "source": [
    "#### Is there a correlation between neighborhood, zip code, and number of fire calls?"
   ]
  },
  {
   "cell_type": "code",
   "execution_count": 91,
   "id": "483f54a6",
   "metadata": {},
   "outputs": [
    {
     "name": "stdout",
     "output_type": "stream",
     "text": [
      "+--------------------+-----------------------+\n",
      "|        Neighborhood|count(DISTINCT Zipcode)|\n",
      "+--------------------+-----------------------+\n",
      "|        Inner Sunset|                      5|\n",
      "|      Haight Ashbury|                      2|\n",
      "|        Lincoln Park|                      1|\n",
      "|           Japantown|                      2|\n",
      "|                None|                      2|\n",
      "|         North Beach|                      2|\n",
      "|   Lone Mountain/USF|                      4|\n",
      "|    Western Addition|                      4|\n",
      "|      Bernal Heights|                      3|\n",
      "|         Mission Bay|                      3|\n",
      "|        Hayes Valley|                      4|\n",
      "|Financial Distric...|                      7|\n",
      "|           Lakeshore|                      1|\n",
      "|Bayview Hunters P...|                      3|\n",
      "|   Visitacion Valley|                      1|\n",
      "|      Inner Richmond|                      2|\n",
      "|            Nob Hill|                      4|\n",
      "|Oceanview/Merced/...|                      3|\n",
      "|      Outer Richmond|                      2|\n",
      "|     Treasure Island|                      1|\n",
      "+--------------------+-----------------------+\n",
      "only showing top 20 rows\n",
      "\n"
     ]
    }
   ],
   "source": [
    "(df_2018\n",
    "     .groupBy(\"Neighborhood\")\n",
    "     .agg(countDistinct(\"Zipcode\"))\n",
    "     .show()\n",
    ")"
   ]
  },
  {
   "cell_type": "code",
   "execution_count": 92,
   "id": "c8ba10a0",
   "metadata": {},
   "outputs": [],
   "source": [
    "df_2018_count_by_neigh = (df_2018\n",
    "                         .groupBy(\"Neighborhood\")\n",
    "                         .count())"
   ]
  },
  {
   "cell_type": "code",
   "execution_count": 96,
   "id": "b796688b",
   "metadata": {},
   "outputs": [],
   "source": [
    "from pyspark.ml.feature import StringIndexer, OneHotEncoder"
   ]
  },
  {
   "cell_type": "code",
   "execution_count": 97,
   "id": "3e1372b5",
   "metadata": {},
   "outputs": [],
   "source": [
    "indexer = StringIndexer(inputCol = \"Neighborhood\", outputCol = \"neighbor_cate\").fit(df_2018_count_by_neigh)"
   ]
  },
  {
   "cell_type": "code",
   "execution_count": 98,
   "id": "49efdb2d",
   "metadata": {},
   "outputs": [],
   "source": [
    "df_2018_count_by_neigh = indexer.transform(df_2018_count_by_neigh)"
   ]
  },
  {
   "cell_type": "code",
   "execution_count": 99,
   "id": "8ae8d2f8",
   "metadata": {},
   "outputs": [
    {
     "name": "stdout",
     "output_type": "stream",
     "text": [
      "+--------------------+-----+-------------+\n",
      "|        Neighborhood|count|neighbor_cate|\n",
      "+--------------------+-----+-------------+\n",
      "|        Inner Sunset|  154|         11.0|\n",
      "|      Haight Ashbury|  140|          8.0|\n",
      "|        Lincoln Park|    9|         14.0|\n",
      "|           Japantown|   94|         12.0|\n",
      "|                None|    5|         22.0|\n",
      "|         North Beach|  231|         23.0|\n",
      "|   Lone Mountain/USF|  108|         15.0|\n",
      "|    Western Addition|  352|         41.0|\n",
      "|      Bernal Heights|  170|          1.0|\n",
      "|         Mission Bay|  178|         19.0|\n",
      "|        Hayes Valley|  291|          9.0|\n",
      "|Financial Distric...|  772|          5.0|\n",
      "|           Lakeshore|  159|         13.0|\n",
      "|Bayview Hunters P...|  522|          0.0|\n",
      "|   Visitacion Valley|  105|         39.0|\n",
      "|      Inner Richmond|  129|         10.0|\n",
      "|            Nob Hill|  295|         20.0|\n",
      "|Oceanview/Merced/...|  139|         24.0|\n",
      "|      Outer Richmond|  262|         26.0|\n",
      "|     Treasure Island|   72|         37.0|\n",
      "+--------------------+-----+-------------+\n",
      "only showing top 20 rows\n",
      "\n"
     ]
    }
   ],
   "source": [
    "df_2018_count_by_neigh.show()"
   ]
  },
  {
   "cell_type": "code",
   "execution_count": 100,
   "id": "d25a08d5",
   "metadata": {},
   "outputs": [
    {
     "data": {
      "text/plain": [
       "0.09108968824581844"
      ]
     },
     "execution_count": 100,
     "metadata": {},
     "output_type": "execute_result"
    }
   ],
   "source": [
    "df_2018_count_by_neigh.stat.corr(\"neighbor_cate\", 'count')"
   ]
  },
  {
   "cell_type": "code",
   "execution_count": 101,
   "id": "6d4814fa",
   "metadata": {},
   "outputs": [],
   "source": [
    "df_2018_count_by_zip = (df_2018\n",
    "                         .groupBy(\"Zipcode\")\n",
    "                         .count())"
   ]
  },
  {
   "cell_type": "code",
   "execution_count": 103,
   "id": "6c136f87",
   "metadata": {},
   "outputs": [
    {
     "data": {
      "text/plain": [
       "0.20905982270255227"
      ]
     },
     "execution_count": 103,
     "metadata": {},
     "output_type": "execute_result"
    }
   ],
   "source": [
    "df_2018_count_by_zip.stat.corr(\"Zipcode\", 'count')"
   ]
  },
  {
   "cell_type": "markdown",
   "id": "551f420c",
   "metadata": {},
   "source": [
    "#### How can we use Parquet files or SQL tables to store this data and read it back?"
   ]
  },
  {
   "cell_type": "code",
   "execution_count": 104,
   "id": "e6966457",
   "metadata": {},
   "outputs": [],
   "source": [
    "parquet_path = \"./data/sf_fire_res\""
   ]
  },
  {
   "cell_type": "code",
   "execution_count": 105,
   "id": "12c3e279",
   "metadata": {},
   "outputs": [
    {
     "name": "stderr",
     "output_type": "stream",
     "text": [
      "                                                                                \r"
     ]
    }
   ],
   "source": [
    "df_2018_count_by_zip.write.format(\"parquet\").save(parquet_path)"
   ]
  },
  {
   "cell_type": "code",
   "execution_count": null,
   "id": "fa573dc1",
   "metadata": {},
   "outputs": [],
   "source": []
  }
 ],
 "metadata": {
  "kernelspec": {
   "display_name": "Python 3 (ipykernel)",
   "language": "python",
   "name": "python3"
  },
  "language_info": {
   "codemirror_mode": {
    "name": "ipython",
    "version": 3
   },
   "file_extension": ".py",
   "mimetype": "text/x-python",
   "name": "python",
   "nbconvert_exporter": "python",
   "pygments_lexer": "ipython3",
   "version": "3.10.12"
  }
 },
 "nbformat": 4,
 "nbformat_minor": 5
}
