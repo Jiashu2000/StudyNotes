{
 "cells": [
  {
   "cell_type": "code",
   "execution_count": 1,
   "id": "524d527e",
   "metadata": {},
   "outputs": [
    {
     "data": {
      "text/plain": [
       "Intitializing Scala interpreter ..."
      ]
     },
     "metadata": {},
     "output_type": "display_data"
    },
    {
     "data": {
      "text/plain": [
       "Spark Web UI available at http://172.16.18.84:4042\n",
       "SparkContext available as 'sc' (version = 3.5.0, master = local[*], app id = local-1701119662919)\n",
       "SparkSession available as 'spark'\n"
      ]
     },
     "metadata": {},
     "output_type": "display_data"
    },
    {
     "data": {
      "text/plain": [
       "import org.apache.spark.sql.functions._\n",
       "import org.apache.spark.sql.SparkSession\n",
       "import org.apache.spark.sql.types._\n"
      ]
     },
     "execution_count": 1,
     "metadata": {},
     "output_type": "execute_result"
    }
   ],
   "source": [
    "import org.apache.spark.sql.functions._\n",
    "import org.apache.spark.sql.SparkSession\n",
    "import org.apache.spark.sql.types._"
   ]
  },
  {
   "cell_type": "code",
   "execution_count": 2,
   "id": "ce8f76b6",
   "metadata": {},
   "outputs": [
    {
     "data": {
      "text/plain": [
       "spark: org.apache.spark.sql.SparkSession = org.apache.spark.sql.SparkSession@6d8425e7\n"
      ]
     },
     "execution_count": 2,
     "metadata": {},
     "output_type": "execute_result"
    }
   ],
   "source": [
    "val spark = SparkSession\n",
    "    .builder\n",
    "    .appName(\"IoT_example\")\n",
    "    .getOrCreate()"
   ]
  },
  {
   "cell_type": "code",
   "execution_count": 3,
   "id": "5a6f644a",
   "metadata": {},
   "outputs": [
    {
     "data": {
      "text/plain": [
       "defined class DeviceIoTData\n"
      ]
     },
     "execution_count": 3,
     "metadata": {},
     "output_type": "execute_result"
    }
   ],
   "source": [
    "case class DeviceIoTData (battery_level: Long, c02_level: Long,\n",
    "cca2: String, cca3: String, cn: String, device_id: Long,\n",
    "device_name: String, humidity: Long, ip: String, latitude: Double,\n",
    "lcd: String, longitude: Double, scale:String, temp: Long,\n",
    "timestamp: Long)"
   ]
  },
  {
   "cell_type": "code",
   "execution_count": 5,
   "id": "47648854",
   "metadata": {},
   "outputs": [
    {
     "data": {
      "text/plain": [
       "ds: org.apache.spark.sql.Dataset[DeviceIoTData] = [battery_level: bigint, c02_level: bigint ... 13 more fields]\n"
      ]
     },
     "execution_count": 5,
     "metadata": {},
     "output_type": "execute_result"
    }
   ],
   "source": [
    "val ds = spark.read\n",
    "        .json(\"/Users/jiashu/Documents/StudyNotes/spark/examples/data/iot_devices.json\")\n",
    "        .as[DeviceIoTData]"
   ]
  },
  {
   "cell_type": "markdown",
   "id": "1fe3df7f",
   "metadata": {},
   "source": [
    "## Questions: \n",
    "\n",
    "1. Detect failing devices with battery levels below a threshold.\n",
    "2. Identify offending countries with high levels of CO2 emissions.\n",
    "3. Compute the min and max values for temperature, battery level, CO2, and\n",
    "humidity.\n",
    "4. Sort and group by average temperature, CO2, humidity, and country."
   ]
  },
  {
   "cell_type": "markdown",
   "id": "8945b8fc",
   "metadata": {},
   "source": [
    "#### Detect failing devices with battery levels below a threshold."
   ]
  },
  {
   "cell_type": "code",
   "execution_count": 6,
   "id": "15167ab5",
   "metadata": {},
   "outputs": [
    {
     "data": {
      "text/plain": [
       "res0: org.apache.spark.sql.types.StructType = StructType(StructField(battery_level,LongType,true),StructField(c02_level,LongType,true),StructField(cca2,StringType,true),StructField(cca3,StringType,true),StructField(cn,StringType,true),StructField(device_id,LongType,true),StructField(device_name,StringType,true),StructField(humidity,LongType,true),StructField(ip,StringType,true),StructField(latitude,DoubleType,true),StructField(lcd,StringType,true),StructField(longitude,DoubleType,true),StructField(scale,StringType,true),StructField(temp,LongType,true),StructField(timestamp,LongType,true))\n"
      ]
     },
     "execution_count": 6,
     "metadata": {},
     "output_type": "execute_result"
    }
   ],
   "source": [
    "ds.schema"
   ]
  },
  {
   "cell_type": "code",
   "execution_count": 7,
   "id": "ae14c5be",
   "metadata": {},
   "outputs": [
    {
     "data": {
      "text/plain": [
       "res1: Array[String] = Array(battery_level, c02_level, cca2, cca3, cn, device_id, device_name, humidity, ip, latitude, lcd, longitude, scale, temp, timestamp)\n"
      ]
     },
     "execution_count": 7,
     "metadata": {},
     "output_type": "execute_result"
    }
   ],
   "source": [
    "ds.columns"
   ]
  },
  {
   "cell_type": "code",
   "execution_count": 8,
   "id": "a832b5c8",
   "metadata": {},
   "outputs": [
    {
     "name": "stdout",
     "output_type": "stream",
     "text": [
      "+-------------+---------+----+----+-------------+---------+--------------------+--------+-------------+--------+-----+---------+-------+----+-------------+\n",
      "|battery_level|c02_level|cca2|cca3|           cn|device_id|         device_name|humidity|           ip|latitude|  lcd|longitude|  scale|temp|    timestamp|\n",
      "+-------------+---------+----+----+-------------+---------+--------------------+--------+-------------+--------+-----+---------+-------+----+-------------+\n",
      "|            8|      868|  US| USA|United States|        1|meter-gauge-1xbYRYcj|      51| 68.161.225.1|    38.0|green|    -97.0|Celsius|  34|1458444054093|\n",
      "|            7|     1473|  NO| NOR|       Norway|        2|   sensor-pad-2n2Pea|      70|213.161.254.1|   62.47|  red|     6.15|Celsius|  11|1458444054119|\n",
      "|            2|     1556|  IT| ITA|        Italy|        3| device-mac-36TWSKiT|      44|    88.36.5.1|   42.83|  red|    12.83|Celsius|  19|1458444054120|\n",
      "+-------------+---------+----+----+-------------+---------+--------------------+--------+-------------+--------+-----+---------+-------+----+-------------+\n",
      "only showing top 3 rows\n",
      "\n"
     ]
    }
   ],
   "source": [
    "ds.show(3, true)"
   ]
  },
  {
   "cell_type": "code",
   "execution_count": 13,
   "id": "9132a89d",
   "metadata": {},
   "outputs": [
    {
     "data": {
      "text/plain": [
       "threshold: Int = 3\n"
      ]
     },
     "execution_count": 13,
     "metadata": {},
     "output_type": "execute_result"
    }
   ],
   "source": [
    "val threshold = 3"
   ]
  },
  {
   "cell_type": "code",
   "execution_count": 14,
   "id": "51aea74e",
   "metadata": {},
   "outputs": [
    {
     "name": "stdout",
     "output_type": "stream",
     "text": [
      "+-------------+---------+----+----+-------------+---------+--------------------+--------+---------------+--------+------+---------+-------+----+-------------+\n",
      "|battery_level|c02_level|cca2|cca3|           cn|device_id|         device_name|humidity|             ip|latitude|   lcd|longitude|  scale|temp|    timestamp|\n",
      "+-------------+---------+----+----+-------------+---------+--------------------+--------+---------------+--------+------+---------+-------+----+-------------+\n",
      "|            8|      868|  US| USA|United States|        1|meter-gauge-1xbYRYcj|      51|   68.161.225.1|    38.0| green|    -97.0|Celsius|  34|1458444054093|\n",
      "|            7|     1473|  NO| NOR|       Norway|        2|   sensor-pad-2n2Pea|      70|  213.161.254.1|   62.47|   red|     6.15|Celsius|  11|1458444054119|\n",
      "|            6|     1080|  US| USA|United States|        4|   sensor-pad-4mzWkz|      32|  66.39.173.154|   44.06|yellow|  -121.32|Celsius|  28|1458444054121|\n",
      "|            4|      931|  PH| PHL|  Philippines|        5|therm-stick-5gimp...|      62|    203.82.41.9|   14.58| green|   120.97|Celsius|  25|1458444054122|\n",
      "|            7|     1470|  US| USA|United States|       10|sensor-pad-10Bsyw...|      56|208.109.163.218|   33.61|   red|  -111.89|Celsius|  26|1458444054125|\n",
      "+-------------+---------+----+----+-------------+---------+--------------------+--------+---------------+--------+------+---------+-------+----+-------------+\n",
      "only showing top 5 rows\n",
      "\n"
     ]
    }
   ],
   "source": [
    "ds\n",
    ".where($\"battery_level\"> threshold)\n",
    ".show(5)"
   ]
  },
  {
   "cell_type": "code",
   "execution_count": 15,
   "id": "481671bf",
   "metadata": {},
   "outputs": [
    {
     "name": "stdout",
     "output_type": "stream",
     "text": [
      "+-------------+---------+----+----+-------------+---------+--------------------+--------+---------------+--------+------+---------+-------+----+-------------+\n",
      "|battery_level|c02_level|cca2|cca3|           cn|device_id|         device_name|humidity|             ip|latitude|   lcd|longitude|  scale|temp|    timestamp|\n",
      "+-------------+---------+----+----+-------------+---------+--------------------+--------+---------------+--------+------+---------+-------+----+-------------+\n",
      "|            8|      868|  US| USA|United States|        1|meter-gauge-1xbYRYcj|      51|   68.161.225.1|    38.0| green|    -97.0|Celsius|  34|1458444054093|\n",
      "|            7|     1473|  NO| NOR|       Norway|        2|   sensor-pad-2n2Pea|      70|  213.161.254.1|   62.47|   red|     6.15|Celsius|  11|1458444054119|\n",
      "|            6|     1080|  US| USA|United States|        4|   sensor-pad-4mzWkz|      32|  66.39.173.154|   44.06|yellow|  -121.32|Celsius|  28|1458444054121|\n",
      "|            4|      931|  PH| PHL|  Philippines|        5|therm-stick-5gimp...|      62|    203.82.41.9|   14.58| green|   120.97|Celsius|  25|1458444054122|\n",
      "|            7|     1470|  US| USA|United States|       10|sensor-pad-10Bsyw...|      56|208.109.163.218|   33.61|   red|  -111.89|Celsius|  26|1458444054125|\n",
      "+-------------+---------+----+----+-------------+---------+--------------------+--------+---------------+--------+------+---------+-------+----+-------------+\n",
      "only showing top 5 rows\n",
      "\n"
     ]
    }
   ],
   "source": [
    "ds\n",
    ".filter(col(\"battery_level\")> threshold)\n",
    ".show(5)"
   ]
  },
  {
   "cell_type": "markdown",
   "id": "edeab3e4",
   "metadata": {},
   "source": [
    "#### Identify offending countries with high levels of CO2 emissions."
   ]
  },
  {
   "cell_type": "code",
   "execution_count": 16,
   "id": "b7f85d05",
   "metadata": {},
   "outputs": [
    {
     "data": {
      "text/plain": [
       "country_co2: org.apache.spark.sql.DataFrame = [cca3: string, sum(c02_level): bigint]\n"
      ]
     },
     "execution_count": 16,
     "metadata": {},
     "output_type": "execute_result"
    }
   ],
   "source": [
    "val country_co2 = ds\n",
    "    .groupBy(\"cca3\")\n",
    "    .sum(\"c02_level\")"
   ]
  },
  {
   "cell_type": "code",
   "execution_count": 21,
   "id": "6e67c4b6",
   "metadata": {},
   "outputs": [
    {
     "data": {
      "text/plain": [
       "high_level: Int = 15000\n"
      ]
     },
     "execution_count": 21,
     "metadata": {},
     "output_type": "execute_result"
    }
   ],
   "source": [
    "val high_level = 15000"
   ]
  },
  {
   "cell_type": "code",
   "execution_count": 22,
   "id": "06ecd0b6",
   "metadata": {},
   "outputs": [
    {
     "name": "stdout",
     "output_type": "stream",
     "text": [
      "+----+--------------+\n",
      "|cca3|sum(c02_level)|\n",
      "+----+--------------+\n",
      "| HTI|         15496|\n",
      "| PSE|         31116|\n",
      "| POL|       3275637|\n",
      "| LVA|        425710|\n",
      "| BRB|         47787|\n",
      "+----+--------------+\n",
      "only showing top 5 rows\n",
      "\n"
     ]
    }
   ],
   "source": [
    "country_co2\n",
    "    .filter(col(\"sum(c02_level)\") > high_level)\n",
    "    .show(5)"
   ]
  },
  {
   "cell_type": "markdown",
   "id": "27ec5f9d",
   "metadata": {},
   "source": [
    "#### Compute the min and max values for temperature, battery level, CO2, and humidity."
   ]
  },
  {
   "cell_type": "code",
   "execution_count": 23,
   "id": "4e7b80ad",
   "metadata": {},
   "outputs": [
    {
     "data": {
      "text/plain": [
       "res10: Array[String] = Array(battery_level, c02_level, cca2, cca3, cn, device_id, device_name, humidity, ip, latitude, lcd, longitude, scale, temp, timestamp)\n"
      ]
     },
     "execution_count": 23,
     "metadata": {},
     "output_type": "execute_result"
    }
   ],
   "source": [
    "ds.columns"
   ]
  },
  {
   "cell_type": "code",
   "execution_count": 25,
   "id": "3fe313b3",
   "metadata": {},
   "outputs": [
    {
     "data": {
      "text/plain": [
       "selected_cols: org.apache.spark.sql.Column = array(temp, battery_level, c02_level, humidity)\n"
      ]
     },
     "execution_count": 25,
     "metadata": {},
     "output_type": "execute_result"
    }
   ],
   "source": [
    "val selected_cols = array(\"temp\", \"battery_level\", \"c02_level\", \"humidity\")"
   ]
  },
  {
   "cell_type": "code",
   "execution_count": 30,
   "id": "aaafe402",
   "metadata": {},
   "outputs": [
    {
     "name": "stdout",
     "output_type": "stream",
     "text": [
      "+----------------------------------------------------+----------------------------------------------------+\n",
      "|min(array(temp, battery_level, c02_level, humidity))|max(array(temp, battery_level, c02_level, humidity))|\n",
      "+----------------------------------------------------+----------------------------------------------------+\n",
      "|                                    [10, 0, 800, 94]|                                   [34, 9, 1597, 94]|\n",
      "+----------------------------------------------------+----------------------------------------------------+\n",
      "\n"
     ]
    }
   ],
   "source": [
    "ds\n",
    ".agg(min(selected_cols), max(selected_cols))\n",
    ".show(true)"
   ]
  },
  {
   "cell_type": "markdown",
   "id": "e926fcee",
   "metadata": {},
   "source": [
    "#### Sort and group by average temperature, CO2, humidity, and country."
   ]
  },
  {
   "cell_type": "code",
   "execution_count": 33,
   "id": "c42ff356",
   "metadata": {},
   "outputs": [
    {
     "data": {
      "text/plain": [
       "ds_by_country: org.apache.spark.sql.DataFrame = [cca3: string, avg(temp): double ... 2 more fields]\n"
      ]
     },
     "execution_count": 33,
     "metadata": {},
     "output_type": "execute_result"
    }
   ],
   "source": [
    "val ds_by_country = ds\n",
    "        .groupBy(\"cca3\")\n",
    "        .agg(avg(\"temp\"), avg(\"c02_level\"), avg(\"humidity\"))"
   ]
  },
  {
   "cell_type": "code",
   "execution_count": 34,
   "id": "940dc2ca",
   "metadata": {},
   "outputs": [
    {
     "name": "stdout",
     "output_type": "stream",
     "text": [
      "+----+------------------+------------------+------------------+\n",
      "|cca3|         avg(temp)|    avg(c02_level)|     avg(humidity)|\n",
      "+----+------------------+------------------+------------------+\n",
      "| HTI|25.333333333333332|1291.3333333333333| 64.58333333333333|\n",
      "| PSE|             20.84|           1244.64|              64.4|\n",
      "| POL|21.983965014577258|1193.7452623906706| 62.33163265306123|\n",
      "| LVA|21.899441340782122|1189.1340782122904| 63.11173184357542|\n",
      "| BRB|23.210526315789473|1257.5526315789473| 58.36842105263158|\n",
      "| JAM|22.113636363636363|1162.2272727272727| 63.86363636363637|\n",
      "| BRA|21.958126550868485|1208.7382133995038| 61.96867245657568|\n",
      "| ARM| 21.58823529411765|1207.9117647058824| 63.23529411764706|\n",
      "| MOZ| 19.59090909090909|            1264.0| 58.77272727272727|\n",
      "| JOR|21.065217391304348|1222.3478260869565| 63.84782608695652|\n",
      "| CUB|25.866666666666667|1222.5333333333333| 49.53333333333333|\n",
      "| FRA|22.115739868049012|1200.7059377945334| 61.82054665409991|\n",
      "| ABW|             20.75|          1190.125|             64.75|\n",
      "| TCA|              17.0|             862.0|              38.0|\n",
      "| BRN|21.894736842105264|1200.2105263157894| 65.42105263157895|\n",
      "| BOL| 20.49074074074074|            1247.0|60.888888888888886|\n",
      "| URY|21.572649572649574|1214.2136752136753|62.376068376068375|\n",
      "| LBY|           22.0625|         1260.5625|           58.8125|\n",
      "| ATG|20.933333333333334|1171.4833333333333|              58.6|\n",
      "| ITA| 21.94065180102916| 1194.461063464837| 61.90257289879931|\n",
      "+----+------------------+------------------+------------------+\n",
      "only showing top 20 rows\n",
      "\n"
     ]
    }
   ],
   "source": [
    "ds_by_country.show()"
   ]
  },
  {
   "cell_type": "code",
   "execution_count": 35,
   "id": "5ead8b98",
   "metadata": {},
   "outputs": [
    {
     "data": {
      "text/plain": [
       "res18: org.apache.spark.sql.catalyst.plans.logical.LogicalPlan =\n",
       "'Aggregate [cca3#11], [cca3#11, avg('temp) AS avg(temp)#609, avg('c02_level) AS avg(c02_level)#610, avg('humidity) AS avg(humidity)#611]\n",
       "+- Relation [battery_level#8L,c02_level#9L,cca2#10,cca3#11,cn#12,device_id#13L,device_name#14,humidity#15L,ip#16,latitude#17,lcd#18,longitude#19,scale#20,temp#21L,timestamp#22L] json\n"
      ]
     },
     "execution_count": 35,
     "metadata": {},
     "output_type": "execute_result"
    }
   ],
   "source": [
    "ds_by_country.queryExecution.logical"
   ]
  },
  {
   "cell_type": "code",
   "execution_count": null,
   "id": "5de6853f",
   "metadata": {},
   "outputs": [],
   "source": []
  }
 ],
 "metadata": {
  "kernelspec": {
   "display_name": "spylon-kernel",
   "language": "scala",
   "name": "spylon-kernel"
  },
  "language_info": {
   "codemirror_mode": "text/x-scala",
   "file_extension": ".scala",
   "help_links": [
    {
     "text": "MetaKernel Magics",
     "url": "https://metakernel.readthedocs.io/en/latest/source/README.html"
    }
   ],
   "mimetype": "text/x-scala",
   "name": "scala",
   "pygments_lexer": "scala",
   "version": "0.4.1"
  }
 },
 "nbformat": 4,
 "nbformat_minor": 5
}
