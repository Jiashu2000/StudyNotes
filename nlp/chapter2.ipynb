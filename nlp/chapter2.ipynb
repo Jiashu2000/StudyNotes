{
 "cells": [
  {
   "cell_type": "code",
   "execution_count": 6,
   "id": "bab42da3",
   "metadata": {},
   "outputs": [],
   "source": [
    "import nltk"
   ]
  },
  {
   "cell_type": "code",
   "execution_count": 4,
   "id": "a912c1e7",
   "metadata": {},
   "outputs": [
    {
     "data": {
      "text/plain": [
       "['austen-emma.txt',\n",
       " 'austen-persuasion.txt',\n",
       " 'austen-sense.txt',\n",
       " 'bible-kjv.txt',\n",
       " 'blake-poems.txt',\n",
       " 'bryant-stories.txt',\n",
       " 'burgess-busterbrown.txt',\n",
       " 'carroll-alice.txt',\n",
       " 'chesterton-ball.txt',\n",
       " 'chesterton-brown.txt',\n",
       " 'chesterton-thursday.txt',\n",
       " 'edgeworth-parents.txt',\n",
       " 'melville-moby_dick.txt',\n",
       " 'milton-paradise.txt',\n",
       " 'shakespeare-caesar.txt',\n",
       " 'shakespeare-hamlet.txt',\n",
       " 'shakespeare-macbeth.txt',\n",
       " 'whitman-leaves.txt']"
      ]
     },
     "execution_count": 4,
     "metadata": {},
     "output_type": "execute_result"
    }
   ],
   "source": [
    "nltk.corpus.gutenberg.fileids()"
   ]
  },
  {
   "cell_type": "code",
   "execution_count": 5,
   "id": "5d5df244",
   "metadata": {},
   "outputs": [],
   "source": [
    "emma = nltk.corpus.gutenberg.words(\"austen-emma.txt\")"
   ]
  },
  {
   "cell_type": "code",
   "execution_count": 6,
   "id": "9d71ec23",
   "metadata": {},
   "outputs": [
    {
     "data": {
      "text/plain": [
       "192427"
      ]
     },
     "execution_count": 6,
     "metadata": {},
     "output_type": "execute_result"
    }
   ],
   "source": [
    "len(emma)"
   ]
  },
  {
   "cell_type": "code",
   "execution_count": 7,
   "id": "be9198da",
   "metadata": {},
   "outputs": [
    {
     "data": {
      "text/plain": [
       "['[', 'Emma', 'by', 'Jane', 'Austen', '1816', ']', ...]"
      ]
     },
     "execution_count": 7,
     "metadata": {},
     "output_type": "execute_result"
    }
   ],
   "source": [
    "emma"
   ]
  },
  {
   "cell_type": "code",
   "execution_count": 7,
   "id": "6e31c635",
   "metadata": {},
   "outputs": [],
   "source": [
    "from nltk.corpus import gutenberg"
   ]
  },
  {
   "cell_type": "code",
   "execution_count": 10,
   "id": "4c3030b5",
   "metadata": {},
   "outputs": [
    {
     "name": "stdout",
     "output_type": "stream",
     "text": [
      "4 114 26 austen-emma.txt\n",
      "4 124 16 austen-persuasion.txt\n",
      "4 134 22 austen-sense.txt\n",
      "4 143 79 bible-kjv.txt\n",
      "4 87 5 blake-poems.txt\n",
      "4 87 14 bryant-stories.txt\n",
      "4 80 12 burgess-busterbrown.txt\n",
      "4 84 12 carroll-alice.txt\n",
      "4 95 11 chesterton-ball.txt\n",
      "4 106 11 chesterton-brown.txt\n",
      "4 85 10 chesterton-thursday.txt\n",
      "4 91 24 edgeworth-parents.txt\n",
      "4 123 15 melville-moby_dick.txt\n",
      "4 252 10 milton-paradise.txt\n",
      "4 51 8 shakespeare-caesar.txt\n",
      "4 52 7 shakespeare-hamlet.txt\n",
      "4 52 6 shakespeare-macbeth.txt\n",
      "4 167 12 whitman-leaves.txt\n"
     ]
    }
   ],
   "source": [
    "for fileid in gutenberg.fileids():\n",
    "    num_chars = len(gutenberg.raw(fileid))\n",
    "    num_words = len(gutenberg.words(fileid))\n",
    "    num_sents = len(gutenberg.sents(fileid))\n",
    "    num_vocab = len(set([w.lower() for w in gutenberg.words(fileid)]))\n",
    "    print( int(num_chars/num_words), int(num_chars/num_sents), int(num_words/num_vocab), fileid)"
   ]
  },
  {
   "cell_type": "code",
   "execution_count": 11,
   "id": "bfae4728",
   "metadata": {},
   "outputs": [],
   "source": [
    "from nltk.corpus import webtext"
   ]
  },
  {
   "cell_type": "code",
   "execution_count": 12,
   "id": "6c19166b",
   "metadata": {},
   "outputs": [
    {
     "name": "stdout",
     "output_type": "stream",
     "text": [
      "firefox.txt Cookie Manager: \"Don't allow sites that set removed cookies to se\n",
      "grail.txt SCENE 1: [wind] [clop clop clop] \n",
      "KING ARTHUR: Whoa there!  [clop\n",
      "overheard.txt White guy: So, do you have any plans for this evening?\n",
      "Asian girl\n",
      "pirates.txt PIRATES OF THE CARRIBEAN: DEAD MAN'S CHEST, by Ted Elliott & Terr\n",
      "singles.txt 25 SEXY MALE, seeks attrac older single lady, for discreet encoun\n",
      "wine.txt Lovely delicate, fragrant Rhone wine. Polished leather and strawb\n"
     ]
    }
   ],
   "source": [
    "for fileid in webtext.fileids():\n",
    "    print(fileid, webtext.raw(fileid)[:65])"
   ]
  },
  {
   "cell_type": "code",
   "execution_count": 13,
   "id": "efd7c043",
   "metadata": {},
   "outputs": [],
   "source": [
    "from nltk.corpus import brown"
   ]
  },
  {
   "cell_type": "code",
   "execution_count": 14,
   "id": "0b3d39f5",
   "metadata": {},
   "outputs": [
    {
     "data": {
      "text/plain": [
       "['adventure',\n",
       " 'belles_lettres',\n",
       " 'editorial',\n",
       " 'fiction',\n",
       " 'government',\n",
       " 'hobbies',\n",
       " 'humor',\n",
       " 'learned',\n",
       " 'lore',\n",
       " 'mystery',\n",
       " 'news',\n",
       " 'religion',\n",
       " 'reviews',\n",
       " 'romance',\n",
       " 'science_fiction']"
      ]
     },
     "execution_count": 14,
     "metadata": {},
     "output_type": "execute_result"
    }
   ],
   "source": [
    "brown.categories()"
   ]
  },
  {
   "cell_type": "code",
   "execution_count": 15,
   "id": "c78edba2",
   "metadata": {},
   "outputs": [],
   "source": [
    "news_text = brown.words(categories = \"news\")"
   ]
  },
  {
   "cell_type": "code",
   "execution_count": 16,
   "id": "427a9c4d",
   "metadata": {},
   "outputs": [],
   "source": [
    "fdist = nltk.FreqDist([w.lower() for w in news_text])"
   ]
  },
  {
   "cell_type": "code",
   "execution_count": 17,
   "id": "fcb7df8e",
   "metadata": {},
   "outputs": [],
   "source": [
    "modals = [\"can\", \"could\", 'may', 'might', \"must\", 'will']"
   ]
  },
  {
   "cell_type": "code",
   "execution_count": 18,
   "id": "6edb2e19",
   "metadata": {},
   "outputs": [
    {
     "name": "stdout",
     "output_type": "stream",
     "text": [
      "can : 94\n",
      "could : 87\n",
      "may : 93\n",
      "might : 38\n",
      "must : 53\n",
      "will : 389\n"
     ]
    }
   ],
   "source": [
    "for m in modals:\n",
    "    print(m, \":\", fdist[m])"
   ]
  },
  {
   "cell_type": "code",
   "execution_count": 19,
   "id": "f48b8fc2",
   "metadata": {},
   "outputs": [],
   "source": [
    "cfd = nltk.ConditionalFreqDist(\n",
    "    (genre, word) \n",
    "    for genre in brown.categories()\n",
    "    for word in brown.words(categories = genre)\n",
    ")"
   ]
  },
  {
   "cell_type": "code",
   "execution_count": 20,
   "id": "b90f7e64",
   "metadata": {},
   "outputs": [],
   "source": [
    "genre = [\"news\", \"religion\", \"hobbies\", \"science_fiction\", \"romance\", \"humor\"]"
   ]
  },
  {
   "cell_type": "code",
   "execution_count": 21,
   "id": "3d06eb3d",
   "metadata": {},
   "outputs": [
    {
     "name": "stdout",
     "output_type": "stream",
     "text": [
      "                  can could   may might  must  will \n",
      "           news    93    86    66    38    50   389 \n",
      "       religion    82    59    78    12    54    71 \n",
      "        hobbies   268    58   131    22    83   264 \n",
      "science_fiction    16    49     4    12     8    16 \n",
      "        romance    74   193    11    51    45    43 \n",
      "          humor    16    30     8     8     9    13 \n"
     ]
    }
   ],
   "source": [
    "cfd.tabulate(conditions = genre, samples = modals)"
   ]
  },
  {
   "cell_type": "code",
   "execution_count": 22,
   "id": "b6a844f0",
   "metadata": {},
   "outputs": [],
   "source": [
    "from nltk.corpus import reuters"
   ]
  },
  {
   "cell_type": "code",
   "execution_count": 25,
   "id": "1270cd69",
   "metadata": {},
   "outputs": [
    {
     "data": {
      "text/plain": [
       "['test/14826',\n",
       " 'test/14828',\n",
       " 'test/14829',\n",
       " 'test/14832',\n",
       " 'test/14833',\n",
       " 'test/14839',\n",
       " 'test/14840',\n",
       " 'test/14841',\n",
       " 'test/14842',\n",
       " 'test/14843',\n",
       " 'test/14844',\n",
       " 'test/14849',\n",
       " 'test/14852',\n",
       " 'test/14854',\n",
       " 'test/14858',\n",
       " 'test/14859',\n",
       " 'test/14860',\n",
       " 'test/14861',\n",
       " 'test/14862',\n",
       " 'test/14863']"
      ]
     },
     "execution_count": 25,
     "metadata": {},
     "output_type": "execute_result"
    }
   ],
   "source": [
    "reuters.fileids()[:20]"
   ]
  },
  {
   "cell_type": "code",
   "execution_count": 26,
   "id": "be8b2309",
   "metadata": {},
   "outputs": [
    {
     "data": {
      "text/plain": [
       "['barley', 'corn', 'grain', 'wheat']"
      ]
     },
     "execution_count": 26,
     "metadata": {},
     "output_type": "execute_result"
    }
   ],
   "source": [
    "reuters.categories(\"training/9865\")"
   ]
  },
  {
   "cell_type": "code",
   "execution_count": 29,
   "id": "689473d0",
   "metadata": {},
   "outputs": [
    {
     "data": {
      "text/plain": [
       "['test/15618',\n",
       " 'test/15649',\n",
       " 'test/15676',\n",
       " 'test/15728',\n",
       " 'test/15871',\n",
       " 'test/15875',\n",
       " 'test/15952',\n",
       " 'test/17767',\n",
       " 'test/17769',\n",
       " 'test/18024',\n",
       " 'test/18263',\n",
       " 'test/18908',\n",
       " 'test/19275',\n",
       " 'test/19668',\n",
       " 'training/10175',\n",
       " 'training/1067',\n",
       " 'training/11208',\n",
       " 'training/11316',\n",
       " 'training/11885',\n",
       " 'training/12428']"
      ]
     },
     "execution_count": 29,
     "metadata": {},
     "output_type": "execute_result"
    }
   ],
   "source": [
    "reuters.fileids(\"barley\")[:20]"
   ]
  },
  {
   "cell_type": "code",
   "execution_count": 30,
   "id": "4cd5e4b2",
   "metadata": {},
   "outputs": [
    {
     "data": {
      "text/plain": [
       "['FRENCH',\n",
       " 'FREE',\n",
       " 'MARKET',\n",
       " 'CEREAL',\n",
       " 'EXPORT',\n",
       " 'BIDS',\n",
       " 'DETAILED',\n",
       " 'French',\n",
       " 'operators',\n",
       " 'have',\n",
       " 'requested',\n",
       " 'licences',\n",
       " 'to',\n",
       " 'export']"
      ]
     },
     "execution_count": 30,
     "metadata": {},
     "output_type": "execute_result"
    }
   ],
   "source": [
    "reuters.words('training/9865')[:14]"
   ]
  },
  {
   "cell_type": "code",
   "execution_count": 31,
   "id": "0938fb6b",
   "metadata": {},
   "outputs": [],
   "source": [
    "from nltk.corpus import inaugural"
   ]
  },
  {
   "cell_type": "code",
   "execution_count": 32,
   "id": "085b26e6",
   "metadata": {},
   "outputs": [
    {
     "data": {
      "text/plain": [
       "['1789-Washington.txt',\n",
       " '1793-Washington.txt',\n",
       " '1797-Adams.txt',\n",
       " '1801-Jefferson.txt',\n",
       " '1805-Jefferson.txt',\n",
       " '1809-Madison.txt',\n",
       " '1813-Madison.txt',\n",
       " '1817-Monroe.txt',\n",
       " '1821-Monroe.txt',\n",
       " '1825-Adams.txt',\n",
       " '1829-Jackson.txt',\n",
       " '1833-Jackson.txt',\n",
       " '1837-VanBuren.txt',\n",
       " '1841-Harrison.txt',\n",
       " '1845-Polk.txt',\n",
       " '1849-Taylor.txt',\n",
       " '1853-Pierce.txt',\n",
       " '1857-Buchanan.txt',\n",
       " '1861-Lincoln.txt',\n",
       " '1865-Lincoln.txt',\n",
       " '1869-Grant.txt',\n",
       " '1873-Grant.txt',\n",
       " '1877-Hayes.txt',\n",
       " '1881-Garfield.txt',\n",
       " '1885-Cleveland.txt',\n",
       " '1889-Harrison.txt',\n",
       " '1893-Cleveland.txt',\n",
       " '1897-McKinley.txt',\n",
       " '1901-McKinley.txt',\n",
       " '1905-Roosevelt.txt',\n",
       " '1909-Taft.txt',\n",
       " '1913-Wilson.txt',\n",
       " '1917-Wilson.txt',\n",
       " '1921-Harding.txt',\n",
       " '1925-Coolidge.txt',\n",
       " '1929-Hoover.txt',\n",
       " '1933-Roosevelt.txt',\n",
       " '1937-Roosevelt.txt',\n",
       " '1941-Roosevelt.txt',\n",
       " '1945-Roosevelt.txt',\n",
       " '1949-Truman.txt',\n",
       " '1953-Eisenhower.txt',\n",
       " '1957-Eisenhower.txt',\n",
       " '1961-Kennedy.txt',\n",
       " '1965-Johnson.txt',\n",
       " '1969-Nixon.txt',\n",
       " '1973-Nixon.txt',\n",
       " '1977-Carter.txt',\n",
       " '1981-Reagan.txt',\n",
       " '1985-Reagan.txt',\n",
       " '1989-Bush.txt',\n",
       " '1993-Clinton.txt',\n",
       " '1997-Clinton.txt',\n",
       " '2001-Bush.txt',\n",
       " '2005-Bush.txt',\n",
       " '2009-Obama.txt',\n",
       " '2013-Obama.txt',\n",
       " '2017-Trump.txt',\n",
       " '2021-Biden.txt']"
      ]
     },
     "execution_count": 32,
     "metadata": {},
     "output_type": "execute_result"
    }
   ],
   "source": [
    "inaugural.fileids()"
   ]
  },
  {
   "cell_type": "code",
   "execution_count": 33,
   "id": "be50e010",
   "metadata": {},
   "outputs": [
    {
     "data": {
      "text/plain": [
       "['1789',\n",
       " '1793',\n",
       " '1797',\n",
       " '1801',\n",
       " '1805',\n",
       " '1809',\n",
       " '1813',\n",
       " '1817',\n",
       " '1821',\n",
       " '1825',\n",
       " '1829',\n",
       " '1833',\n",
       " '1837',\n",
       " '1841',\n",
       " '1845',\n",
       " '1849',\n",
       " '1853',\n",
       " '1857',\n",
       " '1861',\n",
       " '1865',\n",
       " '1869',\n",
       " '1873',\n",
       " '1877',\n",
       " '1881',\n",
       " '1885',\n",
       " '1889',\n",
       " '1893',\n",
       " '1897',\n",
       " '1901',\n",
       " '1905',\n",
       " '1909',\n",
       " '1913',\n",
       " '1917',\n",
       " '1921',\n",
       " '1925',\n",
       " '1929',\n",
       " '1933',\n",
       " '1937',\n",
       " '1941',\n",
       " '1945',\n",
       " '1949',\n",
       " '1953',\n",
       " '1957',\n",
       " '1961',\n",
       " '1965',\n",
       " '1969',\n",
       " '1973',\n",
       " '1977',\n",
       " '1981',\n",
       " '1985',\n",
       " '1989',\n",
       " '1993',\n",
       " '1997',\n",
       " '2001',\n",
       " '2005',\n",
       " '2009',\n",
       " '2013',\n",
       " '2017',\n",
       " '2021']"
      ]
     },
     "execution_count": 33,
     "metadata": {},
     "output_type": "execute_result"
    }
   ],
   "source": [
    "[fileid[:4] for fileid in inaugural.fileids()]"
   ]
  },
  {
   "cell_type": "code",
   "execution_count": 35,
   "id": "d4f0fcd3",
   "metadata": {},
   "outputs": [],
   "source": [
    "cfd = nltk.ConditionalFreqDist(\n",
    "    (target, fileid[:4])\n",
    "    for fileid in inaugural.fileids()\n",
    "    for w in inaugural.words(fileid)\n",
    "    for target in ['america', 'citizen']\n",
    "    if w.lower().startswith(target)\n",
    ")"
   ]
  },
  {
   "cell_type": "code",
   "execution_count": 36,
   "id": "b9f88dcd",
   "metadata": {},
   "outputs": [
    {
     "data": {
      "image/png": "[encoded data removed]",
      "text/plain": [
       "<Figure size 640x480 with 1 Axes>"
      ]
     },
     "metadata": {},
     "output_type": "display_data"
    },
    {
     "data": {
      "text/plain": [
       "<Axes: xlabel='Samples', ylabel='Counts'>"
      ]
     },
     "execution_count": 36,
     "metadata": {},
     "output_type": "execute_result"
    }
   ],
   "source": [
    "cfd.plot()"
   ]
  },
  {
   "cell_type": "code",
   "execution_count": 37,
   "id": "a594cf84",
   "metadata": {},
   "outputs": [],
   "source": [
    "from nltk.corpus import PlaintextCorpusReader"
   ]
  },
  {
   "cell_type": "code",
   "execution_count": 41,
   "id": "8bb1c6f2",
   "metadata": {},
   "outputs": [],
   "source": [
    "corpus_root = \"/Users/jiashu/Documents/LeetCode/company/Amazon \""
   ]
  },
  {
   "cell_type": "code",
   "execution_count": 42,
   "id": "336b0d7f",
   "metadata": {},
   "outputs": [],
   "source": [
    "wordlist = PlaintextCorpusReader(corpus_root, '.*')"
   ]
  },
  {
   "cell_type": "code",
   "execution_count": 43,
   "id": "cd260d24",
   "metadata": {},
   "outputs": [
    {
     "data": {
      "text/plain": [
       "['3Sum.py',\n",
       " 'AddTwoNumbers.py',\n",
       " 'LongestCommonPrefix.py',\n",
       " 'MaximumSubarray.py',\n",
       " 'MedianofTwoSortedArrays.py',\n",
       " 'MergekSortedLists.py',\n",
       " 'TrappingRainWater.py',\n",
       " 'ValidParentheses.py',\n",
       " 'WordLadder.py',\n",
       " 'WordSearch.py']"
      ]
     },
     "execution_count": 43,
     "metadata": {},
     "output_type": "execute_result"
    }
   ],
   "source": [
    "wordlist.fileids()"
   ]
  },
  {
   "cell_type": "code",
   "execution_count": 44,
   "id": "0d556cbf",
   "metadata": {},
   "outputs": [
    {
     "data": {
      "text/plain": [
       "['#', '15', '.', '3Sum', 'from', 'typing', 'import', ...]"
      ]
     },
     "execution_count": 44,
     "metadata": {},
     "output_type": "execute_result"
    }
   ],
   "source": [
    "wordlist.words(\"3Sum.py\")"
   ]
  },
  {
   "cell_type": "code",
   "execution_count": 45,
   "id": "66c9a95e",
   "metadata": {},
   "outputs": [],
   "source": [
    "genre_word = [(genre, word)\n",
    "             for genre in ['news', 'romance']\n",
    "              for word in brown.words(categories = genre)\n",
    "]"
   ]
  },
  {
   "cell_type": "code",
   "execution_count": 46,
   "id": "f8ed7b79",
   "metadata": {},
   "outputs": [
    {
     "data": {
      "text/plain": [
       "170576"
      ]
     },
     "execution_count": 46,
     "metadata": {},
     "output_type": "execute_result"
    }
   ],
   "source": [
    "len(genre_word)"
   ]
  },
  {
   "cell_type": "code",
   "execution_count": 47,
   "id": "541c0c77",
   "metadata": {},
   "outputs": [
    {
     "data": {
      "text/plain": [
       "[('news', 'The'), ('news', 'Fulton'), ('news', 'County')]"
      ]
     },
     "execution_count": 47,
     "metadata": {},
     "output_type": "execute_result"
    }
   ],
   "source": [
    "genre_word[:3]"
   ]
  },
  {
   "cell_type": "code",
   "execution_count": 48,
   "id": "e749142f",
   "metadata": {},
   "outputs": [],
   "source": [
    "cfd = nltk.ConditionalFreqDist(genre_word)"
   ]
  },
  {
   "cell_type": "code",
   "execution_count": 52,
   "id": "c1abbc44",
   "metadata": {},
   "outputs": [
    {
     "data": {
      "text/plain": [
       "['news', 'romance']"
      ]
     },
     "execution_count": 52,
     "metadata": {},
     "output_type": "execute_result"
    }
   ],
   "source": [
    "cfd.conditions()"
   ]
  },
  {
   "cell_type": "code",
   "execution_count": 53,
   "id": "9bec52f8",
   "metadata": {},
   "outputs": [
    {
     "data": {
      "text/plain": [
       "FreqDist({'the': 5580, ',': 5188, '.': 4030, 'of': 2849, 'and': 2146, 'to': 2116, 'a': 1993, 'in': 1893, 'for': 943, 'The': 806, ...})"
      ]
     },
     "execution_count": 53,
     "metadata": {},
     "output_type": "execute_result"
    }
   ],
   "source": [
    "cfd['news']"
   ]
  },
  {
   "cell_type": "code",
   "execution_count": 54,
   "id": "ac5978c8",
   "metadata": {},
   "outputs": [
    {
     "data": {
      "text/plain": [
       "32"
      ]
     },
     "execution_count": 54,
     "metadata": {},
     "output_type": "execute_result"
    }
   ],
   "source": [
    "cfd['romance']['love']"
   ]
  },
  {
   "cell_type": "code",
   "execution_count": 55,
   "id": "252f55f2",
   "metadata": {},
   "outputs": [
    {
     "data": {
      "text/plain": [
       "3"
      ]
     },
     "execution_count": 55,
     "metadata": {},
     "output_type": "execute_result"
    }
   ],
   "source": [
    "cfd['news']['love']"
   ]
  },
  {
   "cell_type": "code",
   "execution_count": 56,
   "id": "d0ce14e2",
   "metadata": {},
   "outputs": [],
   "source": [
    "sent = ['In', 'the', 'beginning', 'God', 'created', 'the', 'heaven', 'and', 'the', 'earth', '.']"
   ]
  },
  {
   "cell_type": "code",
   "execution_count": 58,
   "id": "39923e4f",
   "metadata": {},
   "outputs": [
    {
     "data": {
      "text/plain": [
       "[('In', 'the'),\n",
       " ('the', 'beginning'),\n",
       " ('beginning', 'God'),\n",
       " ('God', 'created'),\n",
       " ('created', 'the'),\n",
       " ('the', 'heaven'),\n",
       " ('heaven', 'and'),\n",
       " ('and', 'the'),\n",
       " ('the', 'earth'),\n",
       " ('earth', '.')]"
      ]
     },
     "execution_count": 58,
     "metadata": {},
     "output_type": "execute_result"
    }
   ],
   "source": [
    "list(nltk.bigrams(sent))"
   ]
  },
  {
   "cell_type": "code",
   "execution_count": 59,
   "id": "e7c50628",
   "metadata": {},
   "outputs": [],
   "source": [
    "def generate_model(cfd, word, num = 15):\n",
    "    for i in range(num):\n",
    "        print(word)\n",
    "        word = cfd[word].max()"
   ]
  },
  {
   "cell_type": "code",
   "execution_count": 60,
   "id": "05ec52a1",
   "metadata": {},
   "outputs": [],
   "source": [
    "text = nltk.corpus.genesis.words(\"english-kjv.txt\")"
   ]
  },
  {
   "cell_type": "code",
   "execution_count": 61,
   "id": "1fa94673",
   "metadata": {},
   "outputs": [],
   "source": [
    "bigrams = nltk.bigrams(text)"
   ]
  },
  {
   "cell_type": "code",
   "execution_count": 62,
   "id": "ef467d5a",
   "metadata": {},
   "outputs": [],
   "source": [
    "cfd = nltk.ConditionalFreqDist(bigrams)"
   ]
  },
  {
   "cell_type": "code",
   "execution_count": 66,
   "id": "b8818020",
   "metadata": {},
   "outputs": [
    {
     "data": {
      "text/plain": [
       "FreqDist({'creature': 7, 'thing': 4, 'substance': 2, 'soul': 1, '.': 1, ',': 1})"
      ]
     },
     "execution_count": 66,
     "metadata": {},
     "output_type": "execute_result"
    }
   ],
   "source": [
    "cfd.get(\"living\")"
   ]
  },
  {
   "cell_type": "code",
   "execution_count": 67,
   "id": "6948683d",
   "metadata": {},
   "outputs": [
    {
     "name": "stdout",
     "output_type": "stream",
     "text": [
      "living\n",
      "creature\n",
      "that\n",
      "he\n",
      "said\n",
      ",\n",
      "and\n",
      "the\n",
      "land\n",
      "of\n",
      "the\n",
      "land\n",
      "of\n",
      "the\n",
      "land\n"
     ]
    }
   ],
   "source": [
    "generate_model(cfd, \"living\")"
   ]
  },
  {
   "cell_type": "code",
   "execution_count": 68,
   "id": "8261e440",
   "metadata": {},
   "outputs": [],
   "source": [
    "import sys"
   ]
  },
  {
   "cell_type": "code",
   "execution_count": 69,
   "id": "8ebb9132",
   "metadata": {},
   "outputs": [
    {
     "name": "stdout",
     "output_type": "stream",
     "text": [
      "['/Users/jiashu/Documents/StudyNotes/nlp', '/Users/jiashu/miniforge3/lib/python310.zip', '/Users/jiashu/miniforge3/lib/python3.10', '/Users/jiashu/miniforge3/lib/python3.10/lib-dynload', '', '/Users/jiashu/.local/lib/python3.10/site-packages', '/Users/jiashu/miniforge3/lib/python3.10/site-packages']\n"
     ]
    }
   ],
   "source": [
    "print(sys.path)"
   ]
  },
  {
   "cell_type": "code",
   "execution_count": 70,
   "id": "0634b8aa",
   "metadata": {},
   "outputs": [
    {
     "data": {
      "text/plain": [
       "['A',\n",
       " 'a',\n",
       " 'aa',\n",
       " 'aal',\n",
       " 'aalii',\n",
       " 'aam',\n",
       " 'Aani',\n",
       " 'aardvark',\n",
       " 'aardwolf',\n",
       " 'Aaron',\n",
       " 'Aaronic',\n",
       " 'Aaronical',\n",
       " 'Aaronite',\n",
       " 'Aaronitic',\n",
       " 'Aaru',\n",
       " 'Ab',\n",
       " 'aba',\n",
       " 'Ababdeh',\n",
       " 'Ababua',\n",
       " 'abac']"
      ]
     },
     "execution_count": 70,
     "metadata": {},
     "output_type": "execute_result"
    }
   ],
   "source": [
    "nltk.corpus.words.words()[:20]"
   ]
  },
  {
   "cell_type": "code",
   "execution_count": 73,
   "id": "a8ddf4e2",
   "metadata": {},
   "outputs": [
    {
     "data": {
      "text/plain": [
       "{'1', 'w'}"
      ]
     },
     "execution_count": 73,
     "metadata": {},
     "output_type": "execute_result"
    }
   ],
   "source": [
    "a = set([\"1\", 'a', 'w'])\n",
    "b = set(['a', 'b'])\n",
    "\n",
    "a.difference(b)"
   ]
  },
  {
   "cell_type": "code",
   "execution_count": 74,
   "id": "e1912eac",
   "metadata": {},
   "outputs": [],
   "source": [
    "def unusual_words(text):\n",
    "    text_vocab = set(w.lower() for w in text if w.isalpha())\n",
    "    english_vocab = set(w.lower() for w in nltk.corpus.words.words())\n",
    "    unusual = text_vocab.difference(english_vocab)\n",
    "    return sorted(unusual)"
   ]
  },
  {
   "cell_type": "code",
   "execution_count": 76,
   "id": "2574cb2b",
   "metadata": {},
   "outputs": [
    {
     "data": {
      "text/plain": [
       "['abbeyland',\n",
       " 'abhorred',\n",
       " 'abilities',\n",
       " 'abounded',\n",
       " 'abridgement',\n",
       " 'abused',\n",
       " 'abuses',\n",
       " 'accents',\n",
       " 'accepting',\n",
       " 'accommodations',\n",
       " 'accompanied',\n",
       " 'accounted',\n",
       " 'accounts',\n",
       " 'accustomary',\n",
       " 'aches',\n",
       " 'acknowledging',\n",
       " 'acknowledgment',\n",
       " 'acknowledgments',\n",
       " 'acquaintances',\n",
       " 'acquiesced']"
      ]
     },
     "execution_count": 76,
     "metadata": {},
     "output_type": "execute_result"
    }
   ],
   "source": [
    "unusual_words(nltk.corpus.gutenberg.words(\"austen-sense.txt\"))[:20]"
   ]
  },
  {
   "cell_type": "code",
   "execution_count": 77,
   "id": "2bc8aada",
   "metadata": {},
   "outputs": [],
   "source": [
    "from nltk.corpus import stopwords"
   ]
  },
  {
   "cell_type": "code",
   "execution_count": 79,
   "id": "4f18a352",
   "metadata": {},
   "outputs": [
    {
     "data": {
      "text/plain": [
       "['i',\n",
       " 'me',\n",
       " 'my',\n",
       " 'myself',\n",
       " 'we',\n",
       " 'our',\n",
       " 'ours',\n",
       " 'ourselves',\n",
       " 'you',\n",
       " \"you're\",\n",
       " \"you've\",\n",
       " \"you'll\",\n",
       " \"you'd\",\n",
       " 'your',\n",
       " 'yours',\n",
       " 'yourself',\n",
       " 'yourselves',\n",
       " 'he',\n",
       " 'him',\n",
       " 'his']"
      ]
     },
     "execution_count": 79,
     "metadata": {},
     "output_type": "execute_result"
    }
   ],
   "source": [
    "stopwords.words(\"english\")[:20]"
   ]
  },
  {
   "cell_type": "code",
   "execution_count": 80,
   "id": "0e7a1357",
   "metadata": {},
   "outputs": [],
   "source": [
    "def content_fraction(text):\n",
    "    stopwords = nltk.corpus.stopwords.words(\"english\")\n",
    "    content = [w for w in text if w.lower() not in stopwords]\n",
    "    return len(content)/len(text)"
   ]
  },
  {
   "cell_type": "code",
   "execution_count": 81,
   "id": "8cb11eb1",
   "metadata": {},
   "outputs": [
    {
     "data": {
      "text/plain": [
       "0.735240435097661"
      ]
     },
     "execution_count": 81,
     "metadata": {},
     "output_type": "execute_result"
    }
   ],
   "source": [
    "content_fraction(nltk.corpus.reuters.words())"
   ]
  },
  {
   "cell_type": "code",
   "execution_count": 82,
   "id": "00d3cf44",
   "metadata": {},
   "outputs": [],
   "source": [
    "names = nltk.corpus.names"
   ]
  },
  {
   "cell_type": "code",
   "execution_count": 83,
   "id": "fd142fed",
   "metadata": {},
   "outputs": [
    {
     "data": {
      "text/plain": [
       "['female.txt', 'male.txt']"
      ]
     },
     "execution_count": 83,
     "metadata": {},
     "output_type": "execute_result"
    }
   ],
   "source": [
    "names.fileids()"
   ]
  },
  {
   "cell_type": "code",
   "execution_count": 84,
   "id": "17277981",
   "metadata": {},
   "outputs": [],
   "source": [
    "male_names = names.words(\"male.txt\")"
   ]
  },
  {
   "cell_type": "code",
   "execution_count": 85,
   "id": "e495e116",
   "metadata": {},
   "outputs": [],
   "source": [
    "female_names = names.words(\"female.txt\")"
   ]
  },
  {
   "cell_type": "code",
   "execution_count": 86,
   "id": "60febacb",
   "metadata": {},
   "outputs": [
    {
     "data": {
      "text/plain": [
       "['Abbey',\n",
       " 'Abbie',\n",
       " 'Abby',\n",
       " 'Addie',\n",
       " 'Adrian',\n",
       " 'Adrien',\n",
       " 'Ajay',\n",
       " 'Alex',\n",
       " 'Alexis',\n",
       " 'Alfie',\n",
       " 'Ali',\n",
       " 'Alix',\n",
       " 'Allie',\n",
       " 'Allyn',\n",
       " 'Andie',\n",
       " 'Andrea',\n",
       " 'Andy',\n",
       " 'Angel',\n",
       " 'Angie',\n",
       " 'Ariel']"
      ]
     },
     "execution_count": 86,
     "metadata": {},
     "output_type": "execute_result"
    }
   ],
   "source": [
    "[w for w in male_names if w in female_names][:20]"
   ]
  },
  {
   "cell_type": "code",
   "execution_count": 87,
   "id": "11aa8cdf",
   "metadata": {},
   "outputs": [],
   "source": [
    "cfd = nltk.ConditionalFreqDist(\n",
    "    (fileid, name[-1])\n",
    "    for fileid in names.fileids()\n",
    "    for name in names.words(fileid)\n",
    ")"
   ]
  },
  {
   "cell_type": "code",
   "execution_count": 88,
   "id": "651c3ae1",
   "metadata": {},
   "outputs": [
    {
     "data": {
      "image/png": "[encoded data removed]",
      "text/plain": [
       "<Figure size 640x480 with 1 Axes>"
      ]
     },
     "metadata": {},
     "output_type": "display_data"
    },
    {
     "data": {
      "text/plain": [
       "<Axes: xlabel='Samples', ylabel='Counts'>"
      ]
     },
     "execution_count": 88,
     "metadata": {},
     "output_type": "execute_result"
    }
   ],
   "source": [
    "cfd.plot()"
   ]
  },
  {
   "cell_type": "code",
   "execution_count": 3,
   "id": "22c1440d",
   "metadata": {},
   "outputs": [],
   "source": [
    "entries = nltk.corpus.cmudict.entries()"
   ]
  },
  {
   "cell_type": "code",
   "execution_count": 4,
   "id": "addc53d4",
   "metadata": {},
   "outputs": [
    {
     "data": {
      "text/plain": [
       "133737"
      ]
     },
     "execution_count": 4,
     "metadata": {},
     "output_type": "execute_result"
    }
   ],
   "source": [
    "len(entries)"
   ]
  },
  {
   "cell_type": "code",
   "execution_count": 27,
   "id": "bc09bfd5",
   "metadata": {},
   "outputs": [],
   "source": [
    "syllable = ['N', 'IH0', 'K', 'S']"
   ]
  },
  {
   "cell_type": "code",
   "execution_count": 29,
   "id": "c96964b3",
   "metadata": {},
   "outputs": [],
   "source": [
    "x1 = [pron[-4:] for word, pron in entries if word == 'enix'][0]"
   ]
  },
  {
   "cell_type": "code",
   "execution_count": 31,
   "id": "e0cbf870",
   "metadata": {},
   "outputs": [
    {
     "data": {
      "text/plain": [
       "True"
      ]
     },
     "execution_count": 31,
     "metadata": {},
     "output_type": "execute_result"
    }
   ],
   "source": [
    "syllable == x1"
   ]
  },
  {
   "cell_type": "code",
   "execution_count": 32,
   "id": "3e8f60da",
   "metadata": {},
   "outputs": [
    {
     "data": {
      "text/plain": [
       "[\"atlantic's\",\n",
       " 'audiotronics',\n",
       " 'avionics',\n",
       " 'beatniks',\n",
       " 'calisthenics',\n",
       " 'centronics',\n",
       " 'chamonix',\n",
       " 'chetniks',\n",
       " \"clinic's\",\n",
       " 'clinics',\n",
       " 'conics',\n",
       " 'conics',\n",
       " 'cryogenics',\n",
       " 'cynics',\n",
       " 'diasonics',\n",
       " \"dominic's\",\n",
       " 'ebonics',\n",
       " 'electronics',\n",
       " \"electronics'\",\n",
       " \"endotronics'\",\n",
       " 'endotronics',\n",
       " 'enix',\n",
       " 'environics',\n",
       " 'ethnics',\n",
       " 'eugenics',\n",
       " 'fibronics',\n",
       " 'flextronics',\n",
       " 'harmonics',\n",
       " 'hispanics',\n",
       " 'histrionics',\n",
       " 'identics',\n",
       " 'ionics',\n",
       " 'kibbutzniks',\n",
       " 'lasersonics',\n",
       " 'lumonics',\n",
       " 'mannix',\n",
       " 'mechanics',\n",
       " \"mechanics'\",\n",
       " 'microelectronics',\n",
       " 'minix',\n",
       " 'minnix',\n",
       " 'mnemonics',\n",
       " 'mnemonics',\n",
       " 'molonicks',\n",
       " 'mullenix',\n",
       " 'mullenix',\n",
       " 'mullinix',\n",
       " 'mulnix',\n",
       " \"munich's\",\n",
       " 'nucleonics',\n",
       " 'onyx',\n",
       " 'organics',\n",
       " \"panic's\",\n",
       " 'panics',\n",
       " 'penix',\n",
       " 'pennix',\n",
       " 'personics',\n",
       " 'phenix',\n",
       " \"philharmonic's\",\n",
       " 'phoenix',\n",
       " 'phonics',\n",
       " 'photronics',\n",
       " 'pinnix',\n",
       " 'plantronics',\n",
       " 'pyrotechnics',\n",
       " 'refuseniks',\n",
       " \"resnick's\",\n",
       " 'respironics',\n",
       " 'sconnix',\n",
       " 'siliconix',\n",
       " 'skolniks',\n",
       " 'sonics',\n",
       " 'sputniks',\n",
       " 'technics',\n",
       " 'tectonics',\n",
       " 'tektronix',\n",
       " 'telectronics',\n",
       " 'telephonics',\n",
       " 'tonics',\n",
       " 'unix',\n",
       " \"vinick's\",\n",
       " \"vinnick's\",\n",
       " 'vitronics']"
      ]
     },
     "execution_count": 32,
     "metadata": {},
     "output_type": "execute_result"
    }
   ],
   "source": [
    "[word for word, pron in entries if pron[-4:] == syllable]"
   ]
  },
  {
   "cell_type": "code",
   "execution_count": 33,
   "id": "3b7586b9",
   "metadata": {},
   "outputs": [
    {
     "data": {
      "text/plain": [
       "['autumn', 'column', 'condemn', 'damn', 'goddamn', 'hymn', 'solemn']"
      ]
     },
     "execution_count": 33,
     "metadata": {},
     "output_type": "execute_result"
    }
   ],
   "source": [
    "[w for w, pron in entries if pron[-1] == 'M' and w[-1] == 'n']"
   ]
  },
  {
   "cell_type": "code",
   "execution_count": 34,
   "id": "96ed4754",
   "metadata": {},
   "outputs": [],
   "source": [
    "def stress(pron):\n",
    "    return [char for phone in pron for char in phone if char.isdigit()]"
   ]
  },
  {
   "cell_type": "code",
   "execution_count": 36,
   "id": "f8e07be0",
   "metadata": {},
   "outputs": [
    {
     "data": {
      "text/plain": [
       "['abbreviated',\n",
       " 'abbreviated',\n",
       " 'abbreviating',\n",
       " 'accelerated',\n",
       " 'accelerating',\n",
       " 'accelerator',\n",
       " 'accelerators',\n",
       " 'accentuated',\n",
       " 'accentuating',\n",
       " 'accommodated',\n",
       " 'accommodating',\n",
       " 'accommodative',\n",
       " 'accumulated',\n",
       " 'accumulating',\n",
       " 'accumulative',\n",
       " 'accumulator',\n",
       " 'accumulators',\n",
       " 'accusatory',\n",
       " 'adenovirus',\n",
       " 'adjudicated']"
      ]
     },
     "execution_count": 36,
     "metadata": {},
     "output_type": "execute_result"
    }
   ],
   "source": [
    "[w for w, pron in entries if stress(pron) == ['0', '1', '0', '2', '0']] [:20]"
   ]
  },
  {
   "cell_type": "code",
   "execution_count": 37,
   "id": "5dd4b4c0",
   "metadata": {},
   "outputs": [],
   "source": [
    "p3 = [(pron[0] + '-' + pron[2], word)\n",
    "      for (word, pron) in entries\n",
    "      if pron[0] == 'P' and len(pron) == 3\n",
    "     ]"
   ]
  },
  {
   "cell_type": "code",
   "execution_count": 38,
   "id": "b5bc7a00",
   "metadata": {},
   "outputs": [],
   "source": [
    "cfd = nltk.ConditionalFreqDist(p3)"
   ]
  },
  {
   "cell_type": "code",
   "execution_count": 39,
   "id": "8fffc487",
   "metadata": {},
   "outputs": [
    {
     "name": "stdout",
     "output_type": "stream",
     "text": [
      "P-P paap paape pap pape papp paup peep pep pip pipe pipp poop pop pope pop...\n",
      "P-R paar pair par pare parr pear peer pier poor poore por pore porr pour...\n",
      "P-K pac pack paek paik pak pake paque peak peake pech peck peek perc perk ...\n",
      "P-S pace pass pasts peace pearse pease perce pers perse pesce piece piss p...\n",
      "P-L pahl pail paille pal pale pall paul paule paull peal peale pearl pearl...\n",
      "P-N paign pain paine pan pane pawn payne peine pen penh penn pin pine pinn...\n",
      "P-Z pais paiz pao's pas pause paws pays paz peas pease pei's perz pez pies...\n",
      "P-T pait pat pate patt peart peat peet peete pert pet pete pett piet piett...\n",
      "P-CH patch pautsch peach perch petsch petsche piche piech pietsch pitch pit...\n",
      "P-UW1 peru peugh pew plew plue prew pru prue prugh pshew pugh...\n"
     ]
    }
   ],
   "source": [
    "for template in cfd.conditions():\n",
    "    if len(cfd[template]) > 10:\n",
    "        words = cfd[template].keys()\n",
    "        wordlist = ' '.join(words)\n",
    "        print(template, wordlist[:70] + \"...\")"
   ]
  },
  {
   "cell_type": "code",
   "execution_count": 41,
   "id": "1b09fa5c",
   "metadata": {},
   "outputs": [],
   "source": [
    "prondict = nltk.corpus.cmudict.dict()"
   ]
  },
  {
   "cell_type": "code",
   "execution_count": 42,
   "id": "fa3998fb",
   "metadata": {},
   "outputs": [
    {
     "data": {
      "text/plain": [
       "[['F', 'AY1', 'ER0'], ['F', 'AY1', 'R']]"
      ]
     },
     "execution_count": 42,
     "metadata": {},
     "output_type": "execute_result"
    }
   ],
   "source": [
    "prondict[\"fire\"]"
   ]
  },
  {
   "cell_type": "code",
   "execution_count": 43,
   "id": "210d0357",
   "metadata": {},
   "outputs": [
    {
     "data": {
      "text/plain": [
       "[['JH', 'IY1', 'AH0']]"
      ]
     },
     "execution_count": 43,
     "metadata": {},
     "output_type": "execute_result"
    }
   ],
   "source": [
    "prondict['jia']"
   ]
  },
  {
   "cell_type": "code",
   "execution_count": 44,
   "id": "08bfed88",
   "metadata": {},
   "outputs": [
    {
     "data": {
      "text/plain": [
       "[['SH', 'UW1']]"
      ]
     },
     "execution_count": 44,
     "metadata": {},
     "output_type": "execute_result"
    }
   ],
   "source": [
    "prondict['shu']"
   ]
  },
  {
   "cell_type": "code",
   "execution_count": 45,
   "id": "db76de62",
   "metadata": {},
   "outputs": [
    {
     "data": {
      "text/plain": [
       "[['CH', 'EH1', 'N']]"
      ]
     },
     "execution_count": 45,
     "metadata": {},
     "output_type": "execute_result"
    }
   ],
   "source": [
    "prondict['chen']"
   ]
  },
  {
   "cell_type": "code",
   "execution_count": 46,
   "id": "a1d765b8",
   "metadata": {},
   "outputs": [],
   "source": [
    "name = ['jia', 'shu', 'chen']"
   ]
  },
  {
   "cell_type": "code",
   "execution_count": 47,
   "id": "39114517",
   "metadata": {},
   "outputs": [
    {
     "data": {
      "text/plain": [
       "['JH', 'IY1', 'AH0', 'SH', 'UW1', 'CH', 'EH1', 'N']"
      ]
     },
     "execution_count": 47,
     "metadata": {},
     "output_type": "execute_result"
    }
   ],
   "source": [
    "[ph for w in name for ph in prondict[w][0]]"
   ]
  },
  {
   "cell_type": "code",
   "execution_count": 136,
   "id": "d70294b3",
   "metadata": {},
   "outputs": [],
   "source": [
    "from nltk.corpus import swadesh"
   ]
  },
  {
   "cell_type": "code",
   "execution_count": 49,
   "id": "d95f5379",
   "metadata": {},
   "outputs": [
    {
     "data": {
      "text/plain": [
       "['be',\n",
       " 'bg',\n",
       " 'bs',\n",
       " 'ca',\n",
       " 'cs',\n",
       " 'cu',\n",
       " 'de',\n",
       " 'en',\n",
       " 'es',\n",
       " 'fr',\n",
       " 'hr',\n",
       " 'it',\n",
       " 'la',\n",
       " 'mk',\n",
       " 'nl',\n",
       " 'pl',\n",
       " 'pt',\n",
       " 'ro',\n",
       " 'ru',\n",
       " 'sk',\n",
       " 'sl',\n",
       " 'sr',\n",
       " 'sw',\n",
       " 'uk']"
      ]
     },
     "execution_count": 49,
     "metadata": {},
     "output_type": "execute_result"
    }
   ],
   "source": [
    "swadesh.fileids()"
   ]
  },
  {
   "cell_type": "code",
   "execution_count": 67,
   "id": "18aad977",
   "metadata": {},
   "outputs": [
    {
     "data": {
      "text/plain": [
       "['I',\n",
       " 'you (singular), thou',\n",
       " 'he',\n",
       " 'we',\n",
       " 'you (plural)',\n",
       " 'they',\n",
       " 'this',\n",
       " 'that',\n",
       " 'here',\n",
       " 'there',\n",
       " 'who',\n",
       " 'what',\n",
       " 'where',\n",
       " 'when',\n",
       " 'how',\n",
       " 'not',\n",
       " 'all',\n",
       " 'many',\n",
       " 'some',\n",
       " 'few']"
      ]
     },
     "execution_count": 67,
     "metadata": {},
     "output_type": "execute_result"
    }
   ],
   "source": [
    "swadesh.words(\"en\")[:20]"
   ]
  },
  {
   "cell_type": "code",
   "execution_count": 68,
   "id": "c965f9eb",
   "metadata": {},
   "outputs": [],
   "source": [
    "fr2en = swadesh.entries(['fr', 'en'])"
   ]
  },
  {
   "cell_type": "code",
   "execution_count": 70,
   "id": "36138919",
   "metadata": {},
   "outputs": [
    {
     "data": {
      "text/plain": [
       "[('je', 'I'),\n",
       " ('tu, vous', 'you (singular), thou'),\n",
       " ('il', 'he'),\n",
       " ('nous', 'we'),\n",
       " ('vous', 'you (plural)'),\n",
       " ('ils, elles', 'they'),\n",
       " ('ceci', 'this'),\n",
       " ('cela', 'that'),\n",
       " ('ici', 'here'),\n",
       " ('là', 'there'),\n",
       " ('qui', 'who'),\n",
       " ('quoi', 'what'),\n",
       " ('où', 'where'),\n",
       " ('quand', 'when'),\n",
       " ('comment', 'how'),\n",
       " ('ne...pas', 'not'),\n",
       " ('tout', 'all'),\n",
       " ('plusieurs', 'many'),\n",
       " ('quelques', 'some'),\n",
       " ('peu', 'few')]"
      ]
     },
     "execution_count": 70,
     "metadata": {},
     "output_type": "execute_result"
    }
   ],
   "source": [
    "fr2en[:20]"
   ]
  },
  {
   "cell_type": "code",
   "execution_count": 71,
   "id": "9e174080",
   "metadata": {},
   "outputs": [],
   "source": [
    "translate = dict(fr2en)"
   ]
  },
  {
   "cell_type": "code",
   "execution_count": 73,
   "id": "2e123c2f",
   "metadata": {},
   "outputs": [
    {
     "data": {
      "text/plain": [
       "'few'"
      ]
     },
     "execution_count": 73,
     "metadata": {},
     "output_type": "execute_result"
    }
   ],
   "source": [
    "translate[\"peu\"]"
   ]
  },
  {
   "cell_type": "code",
   "execution_count": 74,
   "id": "f9957a80",
   "metadata": {},
   "outputs": [],
   "source": [
    "from nltk.corpus import wordnet as wn"
   ]
  },
  {
   "cell_type": "code",
   "execution_count": 75,
   "id": "df84bd3a",
   "metadata": {},
   "outputs": [
    {
     "data": {
      "text/plain": [
       "[Synset('car.n.01')]"
      ]
     },
     "execution_count": 75,
     "metadata": {},
     "output_type": "execute_result"
    }
   ],
   "source": [
    "wn.synsets(\"motorcar\")"
   ]
  },
  {
   "cell_type": "code",
   "execution_count": 79,
   "id": "1c601db9",
   "metadata": {},
   "outputs": [
    {
     "data": {
      "text/plain": [
       "['car', 'auto', 'automobile', 'machine', 'motorcar']"
      ]
     },
     "execution_count": 79,
     "metadata": {},
     "output_type": "execute_result"
    }
   ],
   "source": [
    "wn.synset('car.n.01').lemma_names()"
   ]
  },
  {
   "cell_type": "code",
   "execution_count": 80,
   "id": "af3cbfe7",
   "metadata": {},
   "outputs": [
    {
     "data": {
      "text/plain": [
       "'a motor vehicle with four wheels; usually propelled by an internal combustion engine'"
      ]
     },
     "execution_count": 80,
     "metadata": {},
     "output_type": "execute_result"
    }
   ],
   "source": [
    "wn.synset('car.n.01').definition()"
   ]
  },
  {
   "cell_type": "code",
   "execution_count": 82,
   "id": "39e9b6e3",
   "metadata": {},
   "outputs": [
    {
     "data": {
      "text/plain": [
       "['he needs a car to get to work']"
      ]
     },
     "execution_count": 82,
     "metadata": {},
     "output_type": "execute_result"
    }
   ],
   "source": [
    "wn.synset('car.n.01').examples()"
   ]
  },
  {
   "cell_type": "code",
   "execution_count": 93,
   "id": "5098627d",
   "metadata": {},
   "outputs": [
    {
     "data": {
      "text/plain": [
       "[Synset('bank.n.01'),\n",
       " Synset('depository_financial_institution.n.01'),\n",
       " Synset('bank.n.03'),\n",
       " Synset('bank.n.04'),\n",
       " Synset('bank.n.05'),\n",
       " Synset('bank.n.06'),\n",
       " Synset('bank.n.07'),\n",
       " Synset('savings_bank.n.02'),\n",
       " Synset('bank.n.09'),\n",
       " Synset('bank.n.10'),\n",
       " Synset('bank.v.01'),\n",
       " Synset('bank.v.02'),\n",
       " Synset('bank.v.03'),\n",
       " Synset('bank.v.04'),\n",
       " Synset('bank.v.05'),\n",
       " Synset('deposit.v.02'),\n",
       " Synset('bank.v.07'),\n",
       " Synset('trust.v.01')]"
      ]
     },
     "execution_count": 93,
     "metadata": {},
     "output_type": "execute_result"
    }
   ],
   "source": [
    "wn.synsets(\"bank\")"
   ]
  },
  {
   "cell_type": "code",
   "execution_count": 94,
   "id": "37afda9e",
   "metadata": {},
   "outputs": [
    {
     "name": "stdout",
     "output_type": "stream",
     "text": [
      "sloping land (especially the slope beside a body of water)\n",
      "['they pulled the canoe up on the bank', 'he sat on the bank of the river and watched the currents']\n",
      "---\n",
      "a financial institution that accepts deposits and channels the money into lending activities\n",
      "['he cashed a check at the bank', 'that bank holds the mortgage on my home']\n",
      "---\n",
      "a long ridge or pile\n",
      "['a huge bank of earth']\n",
      "---\n",
      "an arrangement of similar objects in a row or in tiers\n",
      "['he operated a bank of switches']\n",
      "---\n",
      "a supply or stock held in reserve for future use (especially in emergencies)\n",
      "[]\n",
      "---\n",
      "the funds held by a gambling house or the dealer in some gambling games\n",
      "['he tried to break the bank at Monte Carlo']\n",
      "---\n",
      "a slope in the turn of a road or track; the outside is higher than the inside in order to reduce the effects of centrifugal force\n",
      "[]\n",
      "---\n",
      "a container (usually with a slot in the top) for keeping money at home\n",
      "['the coin bank was empty']\n",
      "---\n",
      "a building in which the business of banking transacted\n",
      "['the bank is on the corner of Nassau and Witherspoon']\n",
      "---\n",
      "a flight maneuver; aircraft tips laterally about its longitudinal axis (especially in turning)\n",
      "['the plane went into a steep bank']\n",
      "---\n",
      "tip laterally\n",
      "['the pilot had to bank the aircraft']\n",
      "---\n",
      "enclose with a bank\n",
      "['bank roads']\n",
      "---\n",
      "do business with a bank or keep an account at a bank\n",
      "['Where do you bank in this town?']\n",
      "---\n",
      "act as the banker in a game or in gambling\n",
      "[]\n",
      "---\n",
      "be in the banking business\n",
      "[]\n",
      "---\n",
      "put into a bank account\n",
      "['She deposits her paycheck every month']\n",
      "---\n",
      "cover with ashes so to control the rate of burning\n",
      "['bank a fire']\n",
      "---\n",
      "have confidence or faith in\n",
      "['We can trust in God', 'Rely on your friends', 'bank on your good education', \"I swear by my grandmother's recipes\"]\n",
      "---\n"
     ]
    }
   ],
   "source": [
    "for synset in wn.synsets(\"bank\"):\n",
    "    print(synset.definition())\n",
    "    print(synset.examples())\n",
    "    print(\"---\")"
   ]
  },
  {
   "cell_type": "code",
   "execution_count": 96,
   "id": "222195a5",
   "metadata": {},
   "outputs": [
    {
     "data": {
      "text/plain": [
       "[Lemma('car.n.01.car'),\n",
       " Lemma('car.n.01.auto'),\n",
       " Lemma('car.n.01.automobile'),\n",
       " Lemma('car.n.01.machine'),\n",
       " Lemma('car.n.01.motorcar')]"
      ]
     },
     "execution_count": 96,
     "metadata": {},
     "output_type": "execute_result"
    }
   ],
   "source": [
    "wn.synset('car.n.01').lemmas()"
   ]
  },
  {
   "cell_type": "code",
   "execution_count": 97,
   "id": "b2a15f8b",
   "metadata": {},
   "outputs": [
    {
     "data": {
      "text/plain": [
       "Lemma('car.n.01.automobile')"
      ]
     },
     "execution_count": 97,
     "metadata": {},
     "output_type": "execute_result"
    }
   ],
   "source": [
    "wn.lemma('car.n.01.automobile')"
   ]
  },
  {
   "cell_type": "code",
   "execution_count": 101,
   "id": "9f85ba54",
   "metadata": {},
   "outputs": [
    {
     "data": {
      "text/plain": [
       "Synset('car.n.01')"
      ]
     },
     "execution_count": 101,
     "metadata": {},
     "output_type": "execute_result"
    }
   ],
   "source": [
    "wn.lemma('car.n.01.automobile').synset()"
   ]
  },
  {
   "cell_type": "code",
   "execution_count": 104,
   "id": "1437fd38",
   "metadata": {},
   "outputs": [
    {
     "data": {
      "text/plain": [
       "'automobile'"
      ]
     },
     "execution_count": 104,
     "metadata": {},
     "output_type": "execute_result"
    }
   ],
   "source": [
    "wn.lemma('car.n.01.automobile').name()"
   ]
  },
  {
   "cell_type": "code",
   "execution_count": 105,
   "id": "59ce310b",
   "metadata": {},
   "outputs": [
    {
     "data": {
      "text/plain": [
       "[Synset('car.n.01'),\n",
       " Synset('car.n.02'),\n",
       " Synset('car.n.03'),\n",
       " Synset('car.n.04'),\n",
       " Synset('cable_car.n.01')]"
      ]
     },
     "execution_count": 105,
     "metadata": {},
     "output_type": "execute_result"
    }
   ],
   "source": [
    "wn.synsets(\"car\")"
   ]
  },
  {
   "cell_type": "code",
   "execution_count": 107,
   "id": "1789ab31",
   "metadata": {},
   "outputs": [
    {
     "name": "stdout",
     "output_type": "stream",
     "text": [
      "['car', 'auto', 'automobile', 'machine', 'motorcar']\n",
      "['car', 'railcar', 'railway_car', 'railroad_car']\n",
      "['car', 'gondola']\n",
      "['car', 'elevator_car']\n",
      "['cable_car', 'car']\n"
     ]
    }
   ],
   "source": [
    "for synset in wn.synsets(\"car\"):\n",
    "    print(synset.lemma_names())"
   ]
  },
  {
   "cell_type": "code",
   "execution_count": 108,
   "id": "7d36c551",
   "metadata": {},
   "outputs": [
    {
     "data": {
      "text/plain": [
       "[Lemma('car.n.01.car'),\n",
       " Lemma('car.n.02.car'),\n",
       " Lemma('car.n.03.car'),\n",
       " Lemma('car.n.04.car'),\n",
       " Lemma('cable_car.n.01.car')]"
      ]
     },
     "execution_count": 108,
     "metadata": {},
     "output_type": "execute_result"
    }
   ],
   "source": [
    "wn.lemmas(\"car\")"
   ]
  },
  {
   "cell_type": "code",
   "execution_count": null,
   "id": "32f5033e",
   "metadata": {},
   "outputs": [],
   "source": [
    "motorcar = wn.synset('car.n')"
   ]
  },
  {
   "cell_type": "markdown",
   "id": "f0d008be",
   "metadata": {},
   "source": [
    "## Exercise"
   ]
  },
  {
   "cell_type": "markdown",
   "id": "09c06d1e",
   "metadata": {},
   "source": [
    "### 1. Create a variable phrase containing a list of words. Experiment with the operations described in this chapter, including addition, multiplication, indexing, slicing, and sorting."
   ]
  },
  {
   "cell_type": "code",
   "execution_count": 185,
   "id": "fba3592b",
   "metadata": {},
   "outputs": [],
   "source": [
    "phrase_1 = ['machine', 'learning', 'engineer']\n",
    "phrase_2 = ['data', 'scientist']"
   ]
  },
  {
   "cell_type": "code",
   "execution_count": 186,
   "id": "e11989ee",
   "metadata": {},
   "outputs": [
    {
     "data": {
      "text/plain": [
       "['machine', 'learning', 'engineer', 'data', 'scientist']"
      ]
     },
     "execution_count": 186,
     "metadata": {},
     "output_type": "execute_result"
    }
   ],
   "source": [
    "phrase_1 + phrase_2"
   ]
  },
  {
   "cell_type": "code",
   "execution_count": 190,
   "id": "3f5624ef",
   "metadata": {},
   "outputs": [
    {
     "name": "stdout",
     "output_type": "stream",
     "text": [
      "['machine', 'learning', 'engineer', 'machine', 'learning', 'engineer', 'machine', 'learning', 'engineer']"
     ]
    }
   ],
   "source": [
    "print(phrase_1 * 3, end = '')"
   ]
  },
  {
   "cell_type": "code",
   "execution_count": 191,
   "id": "9766dcd6",
   "metadata": {},
   "outputs": [
    {
     "data": {
      "text/plain": [
       "'engineer'"
      ]
     },
     "execution_count": 191,
     "metadata": {},
     "output_type": "execute_result"
    }
   ],
   "source": [
    "phrase_1[-1]"
   ]
  },
  {
   "cell_type": "code",
   "execution_count": 192,
   "id": "e1feaaff",
   "metadata": {},
   "outputs": [
    {
     "data": {
      "text/plain": [
       "['data', 'engineer', 'learning', 'machine', 'scientist']"
      ]
     },
     "execution_count": 192,
     "metadata": {},
     "output_type": "execute_result"
    }
   ],
   "source": [
    "sorted(phrase_1 + phrase_2)"
   ]
  },
  {
   "cell_type": "markdown",
   "id": "82d1a3b0",
   "metadata": {},
   "source": [
    "### 2. Use the corpus module to explore austen-persuasion.txt. How many word tokens does this book have? How many word types?"
   ]
  },
  {
   "cell_type": "code",
   "execution_count": 194,
   "id": "2ed3672a",
   "metadata": {},
   "outputs": [],
   "source": [
    "from nltk.corpus import gutenberg\n",
    "\n",
    "austen = \"austen-persuasion.txt\"\n",
    "enclitics = {\"d\", \"ll\", \"m\", \"re\", \"s\", \"t\", \"ve\"}\n",
    "words = gutenberg.words(austen)"
   ]
  },
  {
   "cell_type": "code",
   "execution_count": 196,
   "id": "58fa580f",
   "metadata": {
    "scrolled": true
   },
   "outputs": [
    {
     "data": {
      "text/plain": [
       "83617"
      ]
     },
     "execution_count": 196,
     "metadata": {},
     "output_type": "execute_result"
    }
   ],
   "source": [
    "# number of tokens\n",
    "num_tokens = len([w for w in words if w.isalpha() and w not in enclitics])\n",
    "num_tokens"
   ]
  },
  {
   "cell_type": "code",
   "execution_count": 198,
   "id": "e935ff7d",
   "metadata": {},
   "outputs": [
    {
     "data": {
      "text/plain": [
       "6031"
      ]
     },
     "execution_count": 198,
     "metadata": {},
     "output_type": "execute_result"
    }
   ],
   "source": [
    "num_wt = len(set(w for w in words if w.isalpha() and w not in enclitics))\n",
    "num_wt"
   ]
  },
  {
   "cell_type": "markdown",
   "id": "02849aec",
   "metadata": {},
   "source": [
    "### 3. Use the Brown Corpus reader nltk.corpus.brown.words() or the Web Text Corpus reader nltk.corpus.webtext.words() to access some sample text in two different genres."
   ]
  },
  {
   "cell_type": "code",
   "execution_count": 208,
   "id": "33379bf6",
   "metadata": {},
   "outputs": [],
   "source": [
    "from nltk.corpus import brown\n",
    "import random"
   ]
  },
  {
   "cell_type": "code",
   "execution_count": 220,
   "id": "00b6f05e",
   "metadata": {},
   "outputs": [
    {
     "data": {
      "text/plain": [
       "'government'"
      ]
     },
     "execution_count": 220,
     "metadata": {},
     "output_type": "execute_result"
    }
   ],
   "source": [
    "random_category = random.choice(brown.categories())\n",
    "random_category"
   ]
  },
  {
   "cell_type": "code",
   "execution_count": 221,
   "id": "3cdcaeb5",
   "metadata": {},
   "outputs": [],
   "source": [
    "random_place = random.randint(0, len(brown.sents(categories = random_category)) - 5)"
   ]
  },
  {
   "cell_type": "code",
   "execution_count": 222,
   "id": "95aee3b2",
   "metadata": {},
   "outputs": [],
   "source": [
    "text = brown.sents(categories = random_category)[random_place:random_place+5]"
   ]
  },
  {
   "cell_type": "code",
   "execution_count": 223,
   "id": "7c55cc6b",
   "metadata": {},
   "outputs": [
    {
     "name": "stdout",
     "output_type": "stream",
     "text": [
      "[['(', 'A', ')'], ['There', 'are', 'hereby', 'created', 'in', 'the', 'Treasury', 'of', 'the', 'United', 'States', '(', '1', ')', 'a', 'special', 'fund', 'to', 'be', 'known', 'as', 'the', 'Yugoslav', 'Claims', 'Fund', ';', ';'], ['and', '(', '2', ')', 'such', 'other', 'special', 'funds', 'as', 'may', ',', 'in', 'the', 'discretion', 'of', 'the', 'Secretary', 'of', 'the', 'Treasury', ',', 'be', 'required', 'each', 'to', 'be', 'a', 'claims', 'fund', 'to', 'be', 'known', 'by', 'the', 'name', 'of', 'the', 'foreign', 'government', 'which', 'has', 'entered', 'into', 'a', 'settlement', 'agreement', 'with', 'the', 'Government', 'of', 'the', 'United', 'States', 'as', 'described', 'in', 'subsection', '(', 'A', ')', 'of', 'Section', '4', 'of', 'this', 'Title', '.'], ['There', 'shall', 'be', 'covered', 'into', 'the', 'Treasury', 'to', 'the', 'credit', 'of', 'the', 'proper', 'special', 'fund', 'all', 'funds', 'hereinafter', 'specified', '.'], ['All', 'payments', 'authorized', 'under', 'Section', '7', 'of', 'this', 'Title', 'shall', 'be', 'disbursed', 'from', 'the', 'proper', 'fund', ',', 'as', 'the', 'case', 'may', 'be', ',', 'and', 'all', 'amounts', 'covered', 'into', 'the', 'Treasury', 'to', 'the', 'credit', 'of', 'the', 'aforesaid', 'funds', 'are', 'hereby', 'permanently', 'appropriated', 'for', 'the', 'making', 'of', 'the', 'payments', 'authorized', 'by', 'Section', '7', 'of', 'this', 'Title', '.']]"
     ]
    }
   ],
   "source": [
    "print(text, end = \"\")"
   ]
  },
  {
   "cell_type": "code",
   "execution_count": 224,
   "id": "2197d7b0",
   "metadata": {},
   "outputs": [],
   "source": [
    "def join_punctuation(text, characters = [\"'\", \")\", '.', \",\", \":\", \";\", \"?\", \"!\", ']', \"''\"]):\n",
    "    \"\"\"\n",
    "    Take a list of strings and attach punctuation to \n",
    "    the preceding string in the list.\n",
    "    \"\"\"\n",
    "    \n",
    "    text = iter(text)\n",
    "    current = next(text)\n",
    "    \n",
    "    for nxt in text:\n",
    "        if nxt in characters:\n",
    "            current += nxt\n",
    "        else:\n",
    "            yield current\n",
    "            current = nxt\n",
    "\n",
    "    yield current"
   ]
  },
  {
   "cell_type": "code",
   "execution_count": 233,
   "id": "30e9b6ec",
   "metadata": {},
   "outputs": [],
   "source": [
    "a = join_punctuation(text[0])"
   ]
  },
  {
   "cell_type": "code",
   "execution_count": 238,
   "id": "eeb3ab8d",
   "metadata": {},
   "outputs": [],
   "source": [
    "def join_brackets(text, characters = ['``', '(', '[']):\n",
    "    \"\"\"\n",
    "    Take a list of strings and attachs punctuations to\n",
    "    the following string in the list.\n",
    "    the maximum number of successive puctuation marks is two\n",
    "    \"\"\"\n",
    "    \n",
    "    text = iter(text)\n",
    "    \n",
    "    for s in text:\n",
    "        if s in characters:\n",
    "            yield s + next(text, '')\n",
    "        else:\n",
    "            yield s"
   ]
  },
  {
   "cell_type": "code",
   "execution_count": 239,
   "id": "7c283497",
   "metadata": {},
   "outputs": [],
   "source": [
    "b = join_brackets(text[0])"
   ]
  },
  {
   "cell_type": "code",
   "execution_count": 244,
   "id": "6dc0cda4",
   "metadata": {},
   "outputs": [],
   "source": [
    "def remove_duplicate_punctuation(text):\n",
    "    seq = iter(text)\n",
    "    current = next(seq)\n",
    "    \n",
    "    for nxt in seq:\n",
    "        if nxt == current:\n",
    "            pass\n",
    "        else:\n",
    "            yield current\n",
    "            current = nxt\n",
    "    yield current"
   ]
  },
  {
   "cell_type": "code",
   "execution_count": 246,
   "id": "a68e7e1e",
   "metadata": {},
   "outputs": [],
   "source": [
    "def switch_quotes(text):\n",
    "    \"\"\"\n",
    "    switch positions of single quotes and spaces on odd-numbered occurrences. Fixes an\n",
    "    idiosyncracy that arises when formatting text from the Brown corpus.\n",
    "    \"\"\"\n",
    "    temp = list(text)\n",
    "    flag = False\n",
    "    for t in range(len(temp)):\n",
    "        if temp[t] == \"'\" and temp[t+1] == \" \":\n",
    "            if temp[t-1] == \"'\":\n",
    "                pass\n",
    "            elif flag == False:\n",
    "                temp[t], temp[t+1] = temp[t+1], temp[t]\n",
    "                flag = True\n",
    "            else:\n",
    "                flag = False\n",
    "    return ''.join(temp)"
   ]
  },
  {
   "cell_type": "code",
   "execution_count": 247,
   "id": "0b885ded",
   "metadata": {},
   "outputs": [],
   "source": [
    "def clean_brown(text):\n",
    "    full_text = []\n",
    "    for t in text:\n",
    "        full_text.append(' '.join(join_brackets(join_punctuation(remove_duplicate_punctuation(t)))))\n",
    "    return switch_quotes(' '.join(full_text))"
   ]
  },
  {
   "cell_type": "code",
   "execution_count": 248,
   "id": "930e52aa",
   "metadata": {},
   "outputs": [
    {
     "data": {
      "text/plain": [
       "'(A) There are hereby created in the Treasury of the United States (1) a special fund to be known as the Yugoslav Claims Fund; and (2) such other special funds as may, in the discretion of the Secretary of the Treasury, be required each to be a claims fund to be known by the name of the foreign government which has entered into a settlement agreement with the Government of the United States as described in subsection (A) of Section 4 of this Title. There shall be covered into the Treasury to the credit of the proper special fund all funds hereinafter specified. All payments authorized under Section 7 of this Title shall be disbursed from the proper fund, as the case may be, and all amounts covered into the Treasury to the credit of the aforesaid funds are hereby permanently appropriated for the making of the payments authorized by Section 7 of this Title.'"
      ]
     },
     "execution_count": 248,
     "metadata": {},
     "output_type": "execute_result"
    }
   ],
   "source": [
    "clean_brown(text)"
   ]
  },
  {
   "cell_type": "markdown",
   "id": "e1a9ee4f",
   "metadata": {},
   "source": [
    "### 4. Read in the texts of the State of the Union addresses, using the state_union corpus reader. Count occurrences of men, women, and people in each document. What has happened to the usage of these words over time?"
   ]
  },
  {
   "cell_type": "code",
   "execution_count": 249,
   "id": "98c44099",
   "metadata": {},
   "outputs": [],
   "source": [
    "%matplotlib inline\n",
    "from nltk.corpus import state_union"
   ]
  },
  {
   "cell_type": "code",
   "execution_count": 254,
   "id": "ad61bcba",
   "metadata": {},
   "outputs": [],
   "source": [
    "cfd = nltk.ConditionalFreqDist(\n",
    "    (target, fileid[:4])\n",
    "    for fileid in state_union.fileids()\n",
    "    for w in state_union.words(fileids = fileid)\n",
    "    for target in ['women', 'men', 'people']\n",
    "    if w.lower().startswith(target)\n",
    ")"
   ]
  },
  {
   "cell_type": "code",
   "execution_count": 255,
   "id": "92404e60",
   "metadata": {},
   "outputs": [
    {
     "data": {
      "text/plain": [
       "65"
      ]
     },
     "execution_count": 255,
     "metadata": {},
     "output_type": "execute_result"
    }
   ],
   "source": [
    "len(state_union.fileids())"
   ]
  },
  {
   "cell_type": "code",
   "execution_count": 256,
   "id": "0e32aa08",
   "metadata": {},
   "outputs": [
    {
     "name": "stdout",
     "output_type": "stream",
     "text": [
      "       1945 1949 1953 1957 1961 1965 1969 1973 1977 1981 1985 1989 1993 1997 2001 2005 \n",
      "   men    2    2    5    7    6   22    5    1    2    3    1    4    1    1    6    8 \n",
      " women    2    1    0    2    0    3    2    0    1    1    1    3    2    2    6   11 \n",
      "people   10   18   20   17   13   30    6   10   20   11   12   13   45   31   27   18 \n"
     ]
    }
   ],
   "source": [
    "years = range(1945, 2007, 4)\n",
    "\n",
    "cfd.tabulate(samples= [str(y) for y in years], conditions = ['men', 'women', 'people'])"
   ]
  },
  {
   "cell_type": "code",
   "execution_count": 8,
   "id": "53f49223",
   "metadata": {},
   "outputs": [
    {
     "ename": "NameError",
     "evalue": "name 'cfd' is not defined",
     "output_type": "error",
     "traceback": [
      "\u001b[0;31m---------------------------------------------------------------------------\u001b[0m",
      "\u001b[0;31mNameError\u001b[0m                                 Traceback (most recent call last)",
      "Cell \u001b[0;32mIn[8], line 4\u001b[0m\n\u001b[1;32m      1\u001b[0m \u001b[38;5;28;01mimport\u001b[39;00m \u001b[38;5;21;01mmatplotlib\u001b[39;00m\u001b[38;5;21;01m.\u001b[39;00m\u001b[38;5;21;01mpyplot\u001b[39;00m \u001b[38;5;28;01mas\u001b[39;00m \u001b[38;5;21;01mplt\u001b[39;00m\n\u001b[1;32m      3\u001b[0m plt\u001b[38;5;241m.\u001b[39mfigure(figsize \u001b[38;5;241m=\u001b[39m (\u001b[38;5;241m15\u001b[39m, \u001b[38;5;241m10\u001b[39m))\n\u001b[0;32m----> 4\u001b[0m \u001b[43mcfd\u001b[49m\u001b[38;5;241m.\u001b[39mplot()\n",
      "\u001b[0;31mNameError\u001b[0m: name 'cfd' is not defined"
     ]
    },
    {
     "data": {
      "text/plain": [
       "<Figure size 1500x1000 with 0 Axes>"
      ]
     },
     "metadata": {},
     "output_type": "display_data"
    }
   ],
   "source": [
    "import matplotlib.pyplot as plt\n",
    "\n",
    "plt.figure(figsize = (15, 10))\n",
    "cfd.plot()"
   ]
  },
  {
   "cell_type": "markdown",
   "id": "6509ab9a",
   "metadata": {},
   "source": [
    "### 5. Investigate the holonym-meronym relations for some nouns. Remember that there are three kinds of holonym-meronym relation, so you need to use member_meronyms(), part_meronyms(), substance_meronyms(), member_holonyms(), part_holonyms(), and substance_holonyms()."
   ]
  },
  {
   "cell_type": "code",
   "execution_count": 258,
   "id": "181370a3",
   "metadata": {},
   "outputs": [],
   "source": [
    "from nltk.corpus import wordnet as wn"
   ]
  },
  {
   "cell_type": "code",
   "execution_count": 259,
   "id": "4f5c1383",
   "metadata": {},
   "outputs": [
    {
     "data": {
      "text/plain": [
       "['an educational institution',\n",
       " 'a building where young people receive education',\n",
       " 'the process of being formally educated at a school',\n",
       " 'a body of creative artists or writers or thinkers linked by a similar style or by similar teachers',\n",
       " 'the period of instruction in a school; the time period when school is in session',\n",
       " \"an educational institution's faculty and students\",\n",
       " 'a large group of fish',\n",
       " 'educate in or as if in a school',\n",
       " 'teach or refine to be discriminative in taste or judgment',\n",
       " 'swim in or form a large group of fish']"
      ]
     },
     "execution_count": 259,
     "metadata": {},
     "output_type": "execute_result"
    }
   ],
   "source": [
    "[s.definition() for s in wn.synsets(\"school\")]"
   ]
  },
  {
   "cell_type": "code",
   "execution_count": 260,
   "id": "3b20cf14",
   "metadata": {},
   "outputs": [
    {
     "data": {
      "text/plain": [
       "[Synset('schoolteacher.n.01'), Synset('staff.n.03')]"
      ]
     },
     "execution_count": 260,
     "metadata": {},
     "output_type": "execute_result"
    }
   ],
   "source": [
    "wn.synset(\"school.n.01\").member_meronyms()"
   ]
  },
  {
   "cell_type": "code",
   "execution_count": 263,
   "id": "3d39b014",
   "metadata": {},
   "outputs": [
    {
     "data": {
      "text/plain": [
       "['a cooperative unit (especially in sports)',\n",
       " 'two or more draft animals that work together to pull something',\n",
       " 'form a team']"
      ]
     },
     "execution_count": 263,
     "metadata": {},
     "output_type": "execute_result"
    }
   ],
   "source": [
    "[s.definition() for s in wn.synsets(\"team\")]"
   ]
  },
  {
   "cell_type": "code",
   "execution_count": 265,
   "id": "8b37a385",
   "metadata": {},
   "outputs": [
    {
     "data": {
      "text/plain": [
       "[Synset('stringer.n.01')]"
      ]
     },
     "execution_count": 265,
     "metadata": {},
     "output_type": "execute_result"
    }
   ],
   "source": [
    "wn.synset(\"team.n.01\").member_meronyms()"
   ]
  },
  {
   "cell_type": "code",
   "execution_count": 267,
   "id": "fe27673f",
   "metadata": {},
   "outputs": [
    {
     "data": {
      "text/plain": [
       "[Synset('classroom.n.01')]"
      ]
     },
     "execution_count": 267,
     "metadata": {},
     "output_type": "execute_result"
    }
   ],
   "source": [
    "wn.synset(\"school.n.02\").part_meronyms()"
   ]
  },
  {
   "cell_type": "code",
   "execution_count": 268,
   "id": "5fa2d658",
   "metadata": {},
   "outputs": [
    {
     "data": {
      "text/plain": [
       "[Synset('bench.n.06')]"
      ]
     },
     "execution_count": 268,
     "metadata": {},
     "output_type": "execute_result"
    }
   ],
   "source": [
    "wn.synset(\"team.n.01\").part_meronyms()"
   ]
  },
  {
   "cell_type": "code",
   "execution_count": 269,
   "id": "e5ac79b8",
   "metadata": {},
   "outputs": [
    {
     "data": {
      "text/plain": [
       "[Synset('hydrogen.n.01'), Synset('oxygen.n.01')]"
      ]
     },
     "execution_count": 269,
     "metadata": {},
     "output_type": "execute_result"
    }
   ],
   "source": [
    "wn.synset(\"water.n.01\").substance_meronyms()"
   ]
  },
  {
   "cell_type": "code",
   "execution_count": 270,
   "id": "750cac73",
   "metadata": {},
   "outputs": [
    {
     "data": {
      "text/plain": [
       "[Synset('serum.n.01')]"
      ]
     },
     "execution_count": 270,
     "metadata": {},
     "output_type": "execute_result"
    }
   ],
   "source": [
    "wn.synset(\"blood.n.01\").substance_meronyms()"
   ]
  },
  {
   "cell_type": "code",
   "execution_count": 271,
   "id": "ccb70962",
   "metadata": {},
   "outputs": [
    {
     "data": {
      "text/plain": [
       "['a person who participates in or is skilled at some game',\n",
       " 'someone who plays a musical instrument (as a profession)',\n",
       " 'a theatrical performer',\n",
       " 'a person who pursues a number of different social and sexual partners simultaneously',\n",
       " 'an important participant (as in a business deal)']"
      ]
     },
     "execution_count": 271,
     "metadata": {},
     "output_type": "execute_result"
    }
   ],
   "source": [
    "[s.definition() for s in wn.synsets(\"player\")]"
   ]
  },
  {
   "cell_type": "code",
   "execution_count": 272,
   "id": "d090e4d9",
   "metadata": {},
   "outputs": [
    {
     "data": {
      "text/plain": [
       "[]"
      ]
     },
     "execution_count": 272,
     "metadata": {},
     "output_type": "execute_result"
    }
   ],
   "source": [
    "wn.synset(\"player.n.01\").member_holonyms()"
   ]
  },
  {
   "cell_type": "code",
   "execution_count": 273,
   "id": "62fcad9b",
   "metadata": {},
   "outputs": [
    {
     "data": {
      "text/plain": [
       "[]"
      ]
     },
     "execution_count": 273,
     "metadata": {},
     "output_type": "execute_result"
    }
   ],
   "source": [
    "wn.synset(\"player.n.01\").part_holonyms()"
   ]
  },
  {
   "cell_type": "code",
   "execution_count": 274,
   "id": "72c5bc39",
   "metadata": {},
   "outputs": [
    {
     "data": {
      "text/plain": [
       "[Synset('angel.n.01'),\n",
       " Synset('bat.n.01'),\n",
       " Synset('bird.n.01'),\n",
       " Synset('insect.n.01')]"
      ]
     },
     "execution_count": 274,
     "metadata": {},
     "output_type": "execute_result"
    }
   ],
   "source": [
    "wn.synset(\"wing.n.01\").part_holonyms()"
   ]
  },
  {
   "cell_type": "code",
   "execution_count": 276,
   "id": "ccce790d",
   "metadata": {},
   "outputs": [
    {
     "data": {
      "text/plain": [
       "[Synset('animalia.n.01')]"
      ]
     },
     "execution_count": 276,
     "metadata": {},
     "output_type": "execute_result"
    }
   ],
   "source": [
    "wn.synset(\"animal.n.01\").member_holonyms()"
   ]
  },
  {
   "cell_type": "code",
   "execution_count": 277,
   "id": "c4a3fce1",
   "metadata": {},
   "outputs": [
    {
     "data": {
      "text/plain": [
       "[Synset('aves.n.01'), Synset('flock.n.02')]"
      ]
     },
     "execution_count": 277,
     "metadata": {},
     "output_type": "execute_result"
    }
   ],
   "source": [
    "wn.synset(\"bird.n.01\").member_holonyms()"
   ]
  },
  {
   "cell_type": "code",
   "execution_count": 280,
   "id": "919d6fec",
   "metadata": {},
   "outputs": [
    {
     "data": {
      "text/plain": [
       "[Synset('body_of_water.n.01'),\n",
       " Synset('ice.n.01'),\n",
       " Synset('ice_crystal.n.01'),\n",
       " Synset('perspiration.n.01'),\n",
       " Synset('snowflake.n.01'),\n",
       " Synset('tear.n.01')]"
      ]
     },
     "execution_count": 280,
     "metadata": {},
     "output_type": "execute_result"
    }
   ],
   "source": [
    "wn.synset(\"water.n.01\").substance_holonyms()"
   ]
  },
  {
   "cell_type": "markdown",
   "id": "0075b52e",
   "metadata": {},
   "source": [
    "### 6. In the discussion of comparative wordlists, we created an object called translate, which you could look up using words in both German and Italian in order to get corresponding words in English. What problem might arise with this approach? Can you suggest a way to avoid this problem?"
   ]
  },
  {
   "cell_type": "markdown",
   "id": "e20f00c8",
   "metadata": {},
   "source": [
    "### 7.  According to Strunk and White's Elements of Style, the word however, used at the start of a sentence, means \"in whatever way\" or \"to whatever extent\", and not \"nevertheless\". They give this example of correct usage: However you advise him, he will probably do as he thinks best. Use the concordance tool to study actual usage of this word in the various texts we have been considering. See also the LanguageLog posting \"Fossilized prejudices about 'however'\"."
   ]
  },
  {
   "cell_type": "code",
   "execution_count": 281,
   "id": "b4f088e3",
   "metadata": {},
   "outputs": [],
   "source": [
    "emma = nltk.Text(nltk.corpus.gutenberg.words('austen-emma.txt'))"
   ]
  },
  {
   "cell_type": "code",
   "execution_count": 282,
   "id": "922ae838",
   "metadata": {},
   "outputs": [
    {
     "name": "stdout",
     "output_type": "stream",
     "text": [
      "Displaying 25 of 131 matches:\n",
      " her many enjoyments . The danger , however , was at present so unperceived , t\n",
      "ion would offend . Miss Churchill , however , being of age , and with the full \n",
      "n . From the expense of the child , however , he was soon relieved . The boy ha\n",
      " -- and been very well brought up . However , I do not mean to set up my opinio\n",
      "f and predict . It was not likely , however , that any body should have equalle\n",
      "to be borne . We will not despair , however . Weston may grow cross from the wa\n",
      "is so very handsome and agreeable . However , I do really think Mr . Martin a v\n",
      " accepted after all . This letter , however , was written , and sealed , and se\n",
      "e him .\" \" And if I did , ( which , however , I am far from allowing ) I should\n",
      " slightingly . Waiving that point , however , and supposing her to be , as you \n",
      "e was not so materially cast down , however , but that a little time and the re\n",
      "ld inspire him .\" The very next day however produced some proof of inspiration \n",
      "and staid to look through herself ; however , she called me back presently , an\n",
      "t turn up . His ostensible reason , however , was to ask whether Mr . Woodhouse\n",
      "l and cross . This does not apply , however , to Miss Bates ; she is only too g\n",
      "and sufferings of the poor family , however , were the first subject on meeting\n",
      "ting for her . She gained on them , however , involuntarily : the child ' s pac\n",
      "ould close it . It was not closed , however , it still remained ajar ; but by e\n",
      " believes himself secure .\" Still , however , though every thing had not been a\n",
      "ght advance rapidly if they would , however ; they must advance somehow or othe\n",
      " offence came not . The beginning , however , of every visit displayed none but\n",
      "eed !-- and my memory is very bad . However , it was an exceeding good , pretty\n",
      "first day . Emma ' s sense of right however had decided it ; and besides the co\n",
      "le fatigued . I could have wished , however , as you know , that you had seen M\n",
      "\" Our little friend Harriet Smith , however , is just such another pretty kind \n"
     ]
    }
   ],
   "source": [
    "emma.concordance(\"however\")"
   ]
  },
  {
   "cell_type": "code",
   "execution_count": 284,
   "id": "09dfbf8a",
   "metadata": {},
   "outputs": [],
   "source": [
    "def find_concordance_by_position(text, word, pos = 0):\n",
    "    \"\"\"\n",
    "    return a concordance for a text only if the word is\n",
    "    found at the given position. works on lists where each item\n",
    "    is a separate sentence\n",
    "    \"\"\"\n",
    "    hits = 0\n",
    "    for i in range(len(text)):\n",
    "        if text[i][pos].lower() == word:\n",
    "            prefix = text[i-1]\n",
    "            prefix = ' '.join(prefix)\n",
    "            if len(prefix) < 35:\n",
    "                prefix = (35 - len(prefix)) * ' ' + prefix\n",
    "            suffix = text[i]\n",
    "            suffix = \" \".join(suffix)\n",
    "            print(prefix[-35:] + \" \" + suffix[:40])\n",
    "            hits += 1\n",
    "    if hits == 0:\n",
    "        print(\"No matches\")"
   ]
  },
  {
   "cell_type": "code",
   "execution_count": 285,
   "id": "46cc6230",
   "metadata": {},
   "outputs": [
    {
     "name": "stdout",
     "output_type": "stream",
     "text": [
      " -- and been very well brought up . However , I do not mean to set up my opi\n",
      "is so very handsome and agreeable . However , I do really think Mr . Martin \n",
      "eed !-- and my memory is very bad . However , it was an exceeding good , pre\n",
      "          Jane speaks so distinct ! However , she will not find her grandmam\n",
      "inctly , and was sadly alarmed at . However , when I read on , I found it wa\n",
      "hough she speaks rather too quick . However , she is very agreeable , and Mr\n",
      "at I would not expose any body to . However , as they are so very desirous t\n",
      "ar , I did say as much as I could . However , the very same evening William \n",
      "m often astonished at what I hear . However , this does make a difference ; \n",
      "aks like you and poor Miss Taylor . However , she seems a very obliging , pr\n",
      "emed very much to have enjoyed it . However , _I_ shall always think it a ve\n",
      "t least , but I might be mistaken . However , I think it answered so far as \n"
     ]
    }
   ],
   "source": [
    "find_concordance_by_position(nltk.corpus.gutenberg.sents(\"austen-emma.txt\"), \"however\", 0)"
   ]
  },
  {
   "cell_type": "code",
   "execution_count": 286,
   "id": "f7dd8fd5",
   "metadata": {},
   "outputs": [
    {
     "name": "stdout",
     "output_type": "stream",
     "text": [
      "f scorn , not to be given the Foe . However I with thee have fixed my lot , \n",
      "pride , and joy , for Man seduced . However , some tradition they dispersed \n"
     ]
    }
   ],
   "source": [
    "find_concordance_by_position(nltk.corpus.gutenberg.sents(\"milton-paradise.txt\"), \"however\", 0)"
   ]
  },
  {
   "cell_type": "code",
   "execution_count": 287,
   "id": "147442e5",
   "metadata": {},
   "outputs": [
    {
     "name": "stdout",
     "output_type": "stream",
     "text": [
      "No matches\n"
     ]
    }
   ],
   "source": [
    "find_concordance_by_position(nltk.corpus.gutenberg.sents(\"bible-kjv.txt\"), \"however\", 0)"
   ]
  },
  {
   "cell_type": "code",
   "execution_count": 289,
   "id": "f3292791",
   "metadata": {},
   "outputs": [
    {
     "name": "stdout",
     "output_type": "stream",
     "text": [
      "No matches\n"
     ]
    }
   ],
   "source": [
    "find_concordance_by_position(nltk.corpus.gutenberg.sents(\"shakespeare-hamlet.txt\"), \"however\", 0)"
   ]
  },
  {
   "cell_type": "markdown",
   "id": "9a2a519e",
   "metadata": {},
   "source": [
    "### 8. Define a conditional frequency distribution over the Names Corpus that allows you to see which initial letters are more frequent for males versus females (see Figure 2-7)."
   ]
  },
  {
   "cell_type": "code",
   "execution_count": 292,
   "id": "db787277",
   "metadata": {},
   "outputs": [],
   "source": [
    "names = nltk.corpus.names\n",
    "male_name = names.words('male.txt')\n",
    "female_name = names.words('female.txt')"
   ]
  },
  {
   "cell_type": "code",
   "execution_count": 293,
   "id": "a125c94c",
   "metadata": {},
   "outputs": [
    {
     "data": {
      "image/png": "[encoded data removed]",
      "text/plain": [
       "<Figure size 640x480 with 1 Axes>"
      ]
     },
     "metadata": {},
     "output_type": "display_data"
    },
    {
     "data": {
      "text/plain": [
       "<Axes: xlabel='Samples', ylabel='Counts'>"
      ]
     },
     "execution_count": 293,
     "metadata": {},
     "output_type": "execute_result"
    }
   ],
   "source": [
    "cfd = nltk.ConditionalFreqDist(\n",
    "    (fileid, name[0])\n",
    "    for fileid in names.fileids()\n",
    "    for name in names.words(fileid)\n",
    ")\n",
    "\n",
    "cfd.plot()"
   ]
  },
  {
   "cell_type": "markdown",
   "id": "33cf500a",
   "metadata": {},
   "source": [
    "### 9. Pick a pair of texts and study the differences between them, in terms of vocabulary, vocabulary richness, genre, etc. Can you find pairs of words that have quite different meanings across the two texts, such as monstrous in Moby Dick and in Sense and Sensibility?"
   ]
  },
  {
   "cell_type": "code",
   "execution_count": 294,
   "id": "d736145d",
   "metadata": {},
   "outputs": [
    {
     "name": "stdout",
     "output_type": "stream",
     "text": [
      "King James's Bible:\n",
      "Average number of characters per word: 4\n",
      "Average number of words per sent: 26\n",
      "Lexical diversity: 0.01591\n",
      "Total tokens: 790,052\n",
      "Total word types: 12,567\n"
     ]
    }
   ],
   "source": [
    "enclitics = ['d', 'll', 'm', 're', 's', 't', 've']\n",
    "\n",
    "print(\"King James's Bible:\")\n",
    "num_chars = len([w for w in gutenberg.raw('bible-kjv.txt') if w.isalpha()])\n",
    "num_words = len([w for w in gutenberg.words('bible-kjv.txt') if w.isalpha() and w not in enclitics])\n",
    "num_sents = len(gutenberg.sents('bible-kjv.txt'))\n",
    "num_vocab = len(set(w.lower() for w in gutenberg.words('bible-kjv.txt') if w.isalpha() and w not in enclitics))\n",
    "print('Average number of characters per word:', round(num_chars/num_words))\n",
    "print(\"Average number of words per sent:\", round(num_words/num_sents))\n",
    "print(\"Lexical diversity: {:.5f}\".format(num_vocab/num_words))\n",
    "print(\"Total tokens: {:,}\".format(num_words))\n",
    "print(\"Total word types: {:,}\".format(num_vocab))"
   ]
  },
  {
   "cell_type": "code",
   "execution_count": 295,
   "id": "86a6075c",
   "metadata": {},
   "outputs": [
    {
     "name": "stdout",
     "output_type": "stream",
     "text": [
      "Displaying 2 of 2 matches:\n",
      "ORD God walking in the garden in the cool of the day : and Adam and his wife h\n",
      "the tip of his finger in water , and cool my tongue ; for I am tormented in th\n"
     ]
    }
   ],
   "source": [
    "nltk.Text(gutenberg.words(\"bible-kjv.txt\")).concordance(\"cool\")"
   ]
  },
  {
   "cell_type": "code",
   "execution_count": 180,
   "id": "c80ee056",
   "metadata": {},
   "outputs": [
    {
     "data": {
      "text/plain": [
       "0.2967818831942789"
      ]
     },
     "execution_count": 180,
     "metadata": {},
     "output_type": "execute_result"
    }
   ],
   "source": [
    "len(set(word for word in fiction_sample)) / len([word for word in fiction_sample])"
   ]
  },
  {
   "cell_type": "code",
   "execution_count": 296,
   "id": "db91ccd7",
   "metadata": {},
   "outputs": [
    {
     "name": "stdout",
     "output_type": "stream",
     "text": [
      "'The Man Who Was Thursday' by G.K. Chesterton:\n",
      "Average number of characters per word: 4\n",
      "Average number of words per sent: 16\n",
      "Lexical diversity: 0.10796\n",
      "Total tokens: 58,297\n",
      "Total word types: 6,294\n"
     ]
    }
   ],
   "source": [
    "enclitics = ['d', 'll', 'm', 're', 's', 't', 've']\n",
    "\n",
    "print(\"'The Man Who Was Thursday' by G.K. Chesterton:\")\n",
    "num_chars = len([w for w in gutenberg.raw('chesterton-thursday.txt') if w.isalpha()])\n",
    "num_words = len([w for w in gutenberg.words('chesterton-thursday.txt') if w.isalpha() and w not in enclitics])\n",
    "num_sents = len(gutenberg.sents('chesterton-thursday.txt'))\n",
    "num_vocab = len(set(w.lower() for w in gutenberg.words('chesterton-thursday.txt') if w.isalpha() and w not in enclitics))\n",
    "print('Average number of characters per word:', round(num_chars/num_words))\n",
    "print(\"Average number of words per sent:\", round(num_words/num_sents))\n",
    "print(\"Lexical diversity: {:.5f}\".format(num_vocab/num_words))\n",
    "print(\"Total tokens: {:,}\".format(num_words))\n",
    "print(\"Total word types: {:,}\".format(num_vocab))"
   ]
  },
  {
   "cell_type": "code",
   "execution_count": 297,
   "id": "6ff529ee",
   "metadata": {},
   "outputs": [
    {
     "name": "stdout",
     "output_type": "stream",
     "text": [
      "Displaying 4 of 4 matches:\n",
      "oke and pleasure out of pain . Yea , cool and clear and sudden as a bird sings\n",
      " \" that you seem to have kept pretty cool under it . Now listen to me . I like\n",
      "ok round . Syme , who was commonly a cool character , was literally gaping as \n",
      "in plunging into the wood they had a cool shock of shadow , as of divers who p\n"
     ]
    }
   ],
   "source": [
    "nltk.Text(gutenberg.words(\"chesterton-thursday.txt\")).concordance(\"cool\")"
   ]
  },
  {
   "cell_type": "markdown",
   "id": "1d2b1779",
   "metadata": {},
   "source": [
    "### 10. Read the BBC News article: “UK’s Vicky Pollards ‘left behind’” at http://news .bbc.co.uk/1/hi/education/6173441.stm. The article gives the following statistic about teen language: “the top 20 words used, including yeah, no, but and like, account for around a third of all words.” How many word types account for a third of all word tokens, for a variety of text sources? What do you conclude about this statistic? Read more about this on LanguageLog, at http://itre.cis.upenn.edu/~myl/languagelog/archives/003993.html."
   ]
  },
  {
   "cell_type": "markdown",
   "id": "eedc930a",
   "metadata": {},
   "source": [
    "### 11. Investigate the table of modal distributions and look for other patterns. Try to explain them in terms of your own impressionistic understanding of the different genres. Can you find other closed classes of words that exhibit significant differences across different genres?"
   ]
  },
  {
   "cell_type": "code",
   "execution_count": 299,
   "id": "f447e197",
   "metadata": {},
   "outputs": [
    {
     "name": "stdout",
     "output_type": "stream",
     "text": [
      "                   I  you   he  she   it   we they   me  him  her   us them \n",
      "           news  179   55  451   42  363   77  205   29   93  103   12   96 \n",
      "       religion  155  100  137   10  264  176  115   31   60    8   59   74 \n",
      "        hobbies  154  383  155   21  476  100  177   16   49   16   23  127 \n",
      "science_fiction   98   81  139   36  129   30   53   20   58   71    6   47 \n",
      "        romance  951  456  702  496  573   78  168  193  339  651   42  142 \n",
      "          humor  239  131  146   58  162   32   70   56   48   62   23   49 \n"
     ]
    }
   ],
   "source": [
    "cfd = nltk.ConditionalFreqDist(\n",
    "    (genre, word) for genre in brown.categories()\n",
    "    for word in brown.words(categories = genre))\n",
    "\n",
    "genres = [\"news\", \"religion\", \"hobbies\", \"science_fiction\", \"romance\", \"humor\"]\n",
    "pronouns = ['I', 'you', 'he', 'she', 'it', 'we', 'they', 'me', 'him', 'her', \n",
    "            'us', 'them']\n",
    "\n",
    "cfd.tabulate(conditions = genres, samples = pronouns)"
   ]
  },
  {
   "cell_type": "markdown",
   "id": "beca26c4",
   "metadata": {},
   "source": [
    "### 12. The CMU Pronouncing Dictionary contains multiple pronunciations for certain words. How many distinct words does it contain? What fraction of words in this dictionary have more than one possible pronunciation?"
   ]
  },
  {
   "cell_type": "code",
   "execution_count": 300,
   "id": "f02192cf",
   "metadata": {},
   "outputs": [],
   "source": [
    "cmu = nltk.corpus.cmudict.entries()"
   ]
  },
  {
   "cell_type": "code",
   "execution_count": 301,
   "id": "f71a2890",
   "metadata": {},
   "outputs": [
    {
     "data": {
      "text/plain": [
       "133737"
      ]
     },
     "execution_count": 301,
     "metadata": {},
     "output_type": "execute_result"
    }
   ],
   "source": [
    "len(cmu)"
   ]
  },
  {
   "cell_type": "code",
   "execution_count": 302,
   "id": "110a6585",
   "metadata": {},
   "outputs": [],
   "source": [
    "distinct_words = sorted(set([w for w, p in cmu]))"
   ]
  },
  {
   "cell_type": "code",
   "execution_count": 303,
   "id": "1cd6a012",
   "metadata": {},
   "outputs": [
    {
     "data": {
      "text/plain": [
       "123455"
      ]
     },
     "execution_count": 303,
     "metadata": {},
     "output_type": "execute_result"
    }
   ],
   "source": [
    "len(distinct_words)"
   ]
  },
  {
   "cell_type": "code",
   "execution_count": 304,
   "id": "b49be3b8",
   "metadata": {},
   "outputs": [
    {
     "data": {
      "text/plain": [
       "0.07688223902136282"
      ]
     },
     "execution_count": 304,
     "metadata": {},
     "output_type": "execute_result"
    }
   ],
   "source": [
    "(len(cmu) - len(distinct_words))/len(cmu)"
   ]
  },
  {
   "cell_type": "markdown",
   "id": "622c361f",
   "metadata": {},
   "source": [
    "### 13. What percentage of noun synsets have no hyponyms? You can get all noun synsets using wn.all_synsets('n')."
   ]
  },
  {
   "cell_type": "code",
   "execution_count": 306,
   "id": "df1f15df",
   "metadata": {},
   "outputs": [
    {
     "data": {
      "text/plain": [
       "0.7967119283931072"
      ]
     },
     "execution_count": 306,
     "metadata": {},
     "output_type": "execute_result"
    }
   ],
   "source": [
    "no_hyponyms = 0\n",
    "\n",
    "for n in list(wn.all_synsets('n')):\n",
    "    if n.hyponyms() == []:\n",
    "        no_hyponyms += 1\n",
    "\n",
    "no_hyponyms/len(list(wn.all_synsets('n')))"
   ]
  },
  {
   "cell_type": "markdown",
   "id": "591d1096",
   "metadata": {},
   "source": [
    "### 14. Define a function supergloss(s) that takes a synset s as its argument and returns a string consisting of the concatenation of the definition of s, and the definitions of all the hypernyms and hyponyms of s."
   ]
  },
  {
   "cell_type": "code",
   "execution_count": 308,
   "id": "724e6746",
   "metadata": {},
   "outputs": [],
   "source": [
    "def supergloss(synset):\n",
    "    \"\"\"\n",
    "    print a concatenation of a word and its definition,\n",
    "    along with the definitions of all of the word's hyper- and hyponyms.\n",
    "    \"\"\"\n",
    "    full_stop = synset.index('.')\n",
    "    term = synset[:full_stop]\n",
    "    \n",
    "    syn = wn.synset(synset)\n",
    "    print(term + \":\", syn.definition())\n",
    "    \n",
    "    print(\"\\nHYPERNYMS:\")\n",
    "    for s in syn.hypernyms():\n",
    "        names = []\n",
    "        for name in s.lemma_names():\n",
    "            names.append(name)\n",
    "        print(\", \".join(names) + \":\", s.definition())\n",
    "    \n",
    "    print(\"\\nHYPONYMS:\")\n",
    "    for s in syn.hyponyms():\n",
    "        names = []\n",
    "        for name in s.lemma_names():\n",
    "            names.append(name)\n",
    "        print(\", \".join(names) + \":\", s.definition())"
   ]
  },
  {
   "cell_type": "code",
   "execution_count": 309,
   "id": "0e696b29",
   "metadata": {},
   "outputs": [
    {
     "name": "stdout",
     "output_type": "stream",
     "text": [
      "drum: a musical percussion instrument; usually consists of a hollow cylinder with a membrane stretched across each end\n",
      "\n",
      "HYPERNYMS:\n",
      "percussion_instrument, percussive_instrument: a musical instrument in which the sound is produced by one object striking another\n",
      "\n",
      "HYPONYMS:\n",
      "bass_drum, gran_casa: a large drum with two heads; makes a sound of indefinite but very low pitch\n",
      "bongo, bongo_drum: a small drum; played with the hands\n",
      "snare_drum, snare, side_drum: a small drum with two heads and a snare stretched across the lower head\n",
      "tabor, tabour: a small drum with one head of soft calfskin\n",
      "tambour: a drum\n",
      "tambourine: a shallow drum with a single drumhead and with metallic disks in the sides\n",
      "tenor_drum, tom-tom: any of various drums with small heads\n",
      "timbrel: small hand drum similar to a tambourine; formerly carried by itinerant jugglers\n"
     ]
    }
   ],
   "source": [
    "supergloss(\"drum.n.01\")"
   ]
  },
  {
   "cell_type": "markdown",
   "id": "db5ba593",
   "metadata": {},
   "source": [
    "### 15. Write a program to find all words that occur at least three times in the Brown Corpus."
   ]
  },
  {
   "cell_type": "code",
   "execution_count": 313,
   "id": "002b7340",
   "metadata": {},
   "outputs": [],
   "source": [
    "def find_words_occuring_thrice_or_more():\n",
    "    \"\"\"\n",
    "    return a list of words that occur at least three times\n",
    "    in the brown corpus\n",
    "    \"\"\"\n",
    "    cfd = nltk.FreqDist(w.lower() for w in brown.words())\n",
    "    wordtypes = set(w.lower() for w in brown.words())\n",
    "    return [w for w in wordtypes if cfd[w] >= 3]"
   ]
  },
  {
   "cell_type": "code",
   "execution_count": 314,
   "id": "f2b3c757",
   "metadata": {},
   "outputs": [],
   "source": [
    "three_or_more = find_words_occuring_thrice_or_more()"
   ]
  },
  {
   "cell_type": "code",
   "execution_count": 315,
   "id": "24144483",
   "metadata": {},
   "outputs": [
    {
     "data": {
      "text/plain": [
       "20615"
      ]
     },
     "execution_count": 315,
     "metadata": {},
     "output_type": "execute_result"
    }
   ],
   "source": [
    "len(three_or_more)"
   ]
  },
  {
   "cell_type": "code",
   "execution_count": 316,
   "id": "4082f5be",
   "metadata": {},
   "outputs": [
    {
     "data": {
      "text/plain": [
       "['duncan',\n",
       " 'educators',\n",
       " 'southeastern',\n",
       " 'overtly',\n",
       " 'archaic',\n",
       " 'improving',\n",
       " 'agglutinin',\n",
       " 'ultimatum',\n",
       " 'steamed',\n",
       " 'notte',\n",
       " 'non-military',\n",
       " 'now',\n",
       " 'subsystems',\n",
       " 'occasionally',\n",
       " 'galleys']"
      ]
     },
     "execution_count": 316,
     "metadata": {},
     "output_type": "execute_result"
    }
   ],
   "source": [
    "three_or_more[:15]"
   ]
  },
  {
   "cell_type": "markdown",
   "id": "0ae37e82",
   "metadata": {},
   "source": [
    "### 16. Write a program to generate a table of lexical diversity scores (i.e., token/type ratios), as we saw in Table 1-1. Include the full set of Brown Corpus genres (nltk.corpus.brown.categories()). Which genre has the lowest diversity (greatest number of tokens per type)? Is this what you would have expected?"
   ]
  },
  {
   "cell_type": "code",
   "execution_count": 11,
   "id": "73024a1c",
   "metadata": {},
   "outputs": [],
   "source": [
    "def coerce_to_list(text):\n",
    "    if type(text[0]) == list:\n",
    "        text = [i for s in text for i in s]\n",
    "    elif type(text) == str:\n",
    "        text = text.split(\" \")\n",
    "    return list(text)"
   ]
  },
  {
   "cell_type": "code",
   "execution_count": 318,
   "id": "8a40f3ff",
   "metadata": {},
   "outputs": [],
   "source": [
    "def lexical_diversity(text):\n",
    "    text = coerce_to_list(text)\n",
    "    return len(set(text))/len(text)"
   ]
  },
  {
   "cell_type": "code",
   "execution_count": 319,
   "id": "7cdd4bc6",
   "metadata": {},
   "outputs": [
    {
     "name": "stdout",
     "output_type": "stream",
     "text": [
      "Lexical diversity scores:\n",
      "adventure:        0.1279743878169075\n",
      "belles_lettres:   0.10642071451679992\n",
      "editorial:        0.16054152327770924\n",
      "fiction:          0.1358194136199042\n",
      "government:       0.11667641228232811\n",
      "hobbies:          0.14493897625842492\n",
      "humor:            0.23125144042406084\n",
      "learned:          0.09268890745953554\n",
      "lore:             0.13148804612915801\n",
      "mystery:          0.12212912592488936\n",
      "news:             0.14314696580941583\n",
      "religion:         0.1617553745018909\n",
      "reviews:          0.21192020440251572\n",
      "romance:          0.12070492131044529\n",
      "science_fiction:  0.22342778161713892\n"
     ]
    }
   ],
   "source": [
    "print(\"Lexical diversity scores:\")\n",
    "for c in brown.categories():\n",
    "    ld = lexical_diversity(brown.words(categories = c))\n",
    "    print(\"{}: {} {}\".format(c, \" \" * (15 - len(c)), ld))"
   ]
  },
  {
   "cell_type": "code",
   "execution_count": 321,
   "id": "4e9be2b3",
   "metadata": {},
   "outputs": [
    {
     "name": "stdout",
     "output_type": "stream",
     "text": [
      "Number of tokens per category: \t Lexical diversity:\n",
      "adventure:             69342 \t 0.12797\n",
      "belles_lettres:        173096 \t 0.10642\n",
      "editorial:             61604 \t 0.16054\n",
      "fiction:               68488 \t 0.13582\n",
      "government:            70117 \t 0.11668\n",
      "hobbies:               82345 \t 0.14494\n",
      "humor:                 21695 \t 0.23125\n",
      "learned:               181888 \t 0.09269\n",
      "lore:                  110299 \t 0.13149\n",
      "mystery:               57169 \t 0.12213\n",
      "news:                  100554 \t 0.14315\n",
      "religion:              39399 \t 0.16176\n",
      "reviews:               40704 \t 0.21192\n",
      "romance:               70022 \t 0.12070\n",
      "science_fiction:       14470 \t 0.22343\n"
     ]
    }
   ],
   "source": [
    "print(\"Number of tokens per category: \\t Lexical diversity:\")\n",
    "for c in brown.categories():\n",
    "    t = len(brown.words(categories = c))\n",
    "    ld = lexical_diversity(brown.words(categories = c))\n",
    "    print(\"{}: {} {} \\t {:.5f}\".format(c, \" \" * (20 - len(c)), t, ld))"
   ]
  },
  {
   "cell_type": "code",
   "execution_count": 322,
   "id": "237c09d4",
   "metadata": {},
   "outputs": [],
   "source": [
    "import matplotlib.pyplot as plt\n",
    "\n",
    "tokens = []\n",
    "lex_div = []\n",
    "\n",
    "for c in brown.categories():\n",
    "    tokens.append(len(brown.words(categories = c)))\n",
    "    lex_div.append(lexical_diversity(brown.words(categories = c)))\n",
    "\n",
    "tokens = [t/max(tokens) for t in tokens]\n",
    "lex_div = [l/max(lex_div) for l in lex_div]"
   ]
  },
  {
   "cell_type": "code",
   "execution_count": 323,
   "id": "79b5fef7",
   "metadata": {},
   "outputs": [
    {
     "data": {
      "image/png": "[encoded data removed]",
      "text/plain": [
       "<Figure size 1500x1000 with 1 Axes>"
      ]
     },
     "metadata": {},
     "output_type": "display_data"
    }
   ],
   "source": [
    "plt.figure(figsize = (15, 10))\n",
    "plt.plot(tokens, label = 'No.tokens')\n",
    "plt.plot(lex_div,label = \"lex. div.\")\n",
    "plt.legend()\n",
    "plt.xticks(range(15), brown.categories(), rotation = 45)\n",
    "\n",
    "plt.show()"
   ]
  },
  {
   "cell_type": "markdown",
   "id": "d2a756c7",
   "metadata": {},
   "source": [
    "### 17.Write a function that finds the 50 most frequently occurring words of a text that are not stopwords. "
   ]
  },
  {
   "cell_type": "code",
   "execution_count": 324,
   "id": "a94f6040",
   "metadata": {},
   "outputs": [],
   "source": [
    "from nltk.corpus import stopwords"
   ]
  },
  {
   "cell_type": "code",
   "execution_count": 325,
   "id": "60646fdf",
   "metadata": {},
   "outputs": [],
   "source": [
    "def find_most_frequent_non_stopwords(text, n = 50, lang = \"english\"):\n",
    "    text = coerce_to_list(text)\n",
    "    stopwords = nltk.corpus.stopwords.words(\"english\")\n",
    "    fd = nltk.FreqDist(w.lower() for w in text if w.lower().isalpha() and w.lower() not in stopwords)\n",
    "    return fd.most_common(n)"
   ]
  },
  {
   "cell_type": "code",
   "execution_count": 326,
   "id": "d9f8dc8b",
   "metadata": {},
   "outputs": [
    {
     "name": "stdout",
     "output_type": "stream",
     "text": [
      "[('one', 3292), ('would', 2714), ('said', 1961), ('new', 1635), ('could', 1601), ('time', 1598), ('two', 1412), ('may', 1402), ('first', 1361), ('like', 1292), ('man', 1207), ('even', 1170), ('made', 1125), ('also', 1069), ('many', 1030), ('must', 1013), ('af', 996), ('back', 966), ('years', 950), ('much', 937), ('way', 908), ('well', 897), ('people', 847), ('little', 831), ('state', 807), ('good', 806), ('make', 794), ('world', 787), ('still', 782), ('see', 772), ('men', 763), ('work', 762), ('long', 752), ('get', 749), ('life', 715), ('never', 697), ('day', 687), ('another', 684), ('know', 683), ('last', 676), ('us', 675), ('might', 672), ('great', 665), ('old', 661), ('year', 658), ('come', 630), ('since', 628), ('go', 626), ('came', 622), ('right', 613)]"
     ]
    }
   ],
   "source": [
    "print(find_most_frequent_non_stopwords(brown.words(), 50), end = '')"
   ]
  },
  {
   "cell_type": "markdown",
   "id": "98cc4c7a",
   "metadata": {},
   "source": [
    "### 18. Write a program to print the 50 most frequent bigrams (pairs of adjacent words) of a text, omitting bigrams that contain stopwords."
   ]
  },
  {
   "cell_type": "code",
   "execution_count": 335,
   "id": "04b0236d",
   "metadata": {},
   "outputs": [],
   "source": [
    "def most_freq_bigrams_wo_stopwords(text, n = 50, lang = 'english'):\n",
    "    text = coerce_to_list(text)\n",
    "    stopwords = nltk.corpus.stopwords.words(lang)\n",
    "    bigrams = nltk.bigrams(w.lower() for w in text if w.lower().isalpha() and w.lower() not in stopwords)\n",
    "    fd = nltk.FreqDist(bigrams)\n",
    "    return fd.most_common(n)"
   ]
  },
  {
   "cell_type": "code",
   "execution_count": 336,
   "id": "49bc7e17",
   "metadata": {},
   "outputs": [
    {
     "name": "stdout",
     "output_type": "stream",
     "text": [
      "[(('united', 'states'), 392), (('new', 'york'), 296), (('per', 'cent'), 146), (('years', 'ago'), 138), (('af', 'af'), 129), (('could', 'see'), 93), (('rhode', 'island'), 91), (('last', 'year'), 78), (('even', 'though'), 77), (('high', 'school'), 74), (('white', 'house'), 68), (('first', 'time'), 68), (('old', 'man'), 68), (('world', 'war'), 66), (('two', 'years'), 62), (('let', 'us'), 62), (('one', 'thing'), 60), (('fiscal', 'year'), 58), (('last', 'night'), 57), (('peace', 'corps'), 55), (('one', 'day'), 53), (('one', 'another'), 52), (('would', 'like'), 51), (('last', 'week'), 51), (('united', 'nations'), 49), (('new', 'england'), 49), (('young', 'man'), 47), (('los', 'angeles'), 47), (('two', 'men'), 46), (('one', 'two'), 43), (('great', 'deal'), 43), (('civil', 'war'), 42), (('president', 'kennedy'), 41), (('would', 'make'), 41), (('time', 'time'), 41), (('general', 'motors'), 41), (('small', 'business'), 41), (('long', 'time'), 40), (('new', 'orleans'), 40), (('many', 'years'), 40), (('one', 'time'), 39), (('san', 'francisco'), 39), (('two', 'three'), 39), (('men', 'women'), 39), (('said', 'would'), 38), (('would', 'seem'), 38), (('ten', 'years'), 37), (('would', 'never'), 37), (('one', 'side'), 36), (('first', 'two'), 36)]"
     ]
    }
   ],
   "source": [
    "print(most_freq_bigrams_wo_stopwords(brown.words()), end = \"\")"
   ]
  },
  {
   "cell_type": "markdown",
   "id": "34ccbad9",
   "metadata": {},
   "source": [
    "### 19. Write a program to create a table of word frequencies by genre, like the one given in Section 2.1 for modals. Choose your own words and try to find words whose presence (or absence) is typical of a genre. Discuss your findings."
   ]
  },
  {
   "cell_type": "code",
   "execution_count": 337,
   "id": "bb24f05a",
   "metadata": {},
   "outputs": [],
   "source": [
    "cfd = nltk.ConditionalFreqDist(\n",
    "    (genre, word)\n",
    "    for genre in brown.categories()\n",
    "    for word in brown.words(categories = genre)\n",
    ")"
   ]
  },
  {
   "cell_type": "code",
   "execution_count": 339,
   "id": "d7948839",
   "metadata": {},
   "outputs": [
    {
     "name": "stdout",
     "output_type": "stream",
     "text": [
      "                  the     a    an  this  that these those \n",
      "      adventure  3370  1354   159   203   494    28    27 \n",
      " belles_lettres  9726  3308   583   627  1896   224   113 \n",
      "      editorial  3508  1095   184   259   578    63    57 \n",
      "        fiction  3423  1281   156   147   530    40    30 \n",
      "     government  4143   867   208   344   489   107    61 \n",
      "        hobbies  4300  1737   226   305   514   101    63 \n",
      "          humor   930   505    75    59   241    16    10 \n",
      "        learned 11079  3215   695   714  1695   314   137 \n",
      "           lore  6328  2304   364   354   984   122    75 \n",
      "        mystery  2573  1136   125   146   494    17    25 \n",
      "           news  5580  1993   300   250   802    59    58 \n",
      "       religion  2295   655   119   217   475    66    42 \n",
      "        reviews  2048   874   163   143   336    29    24 \n",
      "        romance  2758  1335   152   149   583    30    53 \n",
      "science_fiction   652   222    33    49   126    12     7 \n"
     ]
    }
   ],
   "source": [
    "arts = ['the', 'a', 'an', 'this', 'that', 'these', 'those']\n",
    "cfd.tabulate(conditions = brown.categories(), samples = arts)"
   ]
  },
  {
   "cell_type": "code",
   "execution_count": 340,
   "id": "e38a0f1f",
   "metadata": {},
   "outputs": [
    {
     "name": "stdout",
     "output_type": "stream",
     "text": [
      "                    really       very  extremely        bit absolutely completely  literally thoroughly    totally    utterly \n",
      "      adventure         18         41          0         11          1          7          0          1          0          3 \n",
      " belles_lettres         36        123          8          5          7         15          4          3          1          6 \n",
      "      editorial         19         48          3          6          3          5          0          2          4          0 \n",
      "        fiction         25         42          0          5          2          3          0          1          1          1 \n",
      "     government          1         22          4          0          0          4          0          4          1          2 \n",
      "        hobbies         14         63         10         15          1         13          4          9          2          1 \n",
      "          humor          6         24          0          8          0          0          1          1          0          1 \n",
      "        learned         18        151         18          3          4         23          3          5          3          1 \n",
      "           lore         29         65          1          6          1         16          2          4          2          2 \n",
      "        mystery         21         36          0         14          1          7          3          3          0          3 \n",
      "           news         13         33          2          7          1          6          2          1          3          1 \n",
      "       religion          8         33          0          1          1         10          3          0          0          4 \n",
      "        reviews         19         30          3          8          2          0          2          2          2          0 \n",
      "        romance         38         50          0         12          2          1          2          2          3          2 \n",
      "science_fiction          2         11          1          0          1          0          0          0          0          0 \n"
     ]
    }
   ],
   "source": [
    "cfd = nltk.ConditionalFreqDist(\n",
    "            (genre, word)\n",
    "            for genre in brown.categories()\n",
    "            for word in brown.words(categories = genre))\n",
    "\n",
    "advs = ['really', 'very', 'extremely', 'bit', 'absolutely', 'completely', 'literally', 'thoroughly', 'totally', 'utterly']\n",
    "cfd.tabulate(conditions = brown.categories(), samples = advs)"
   ]
  },
  {
   "cell_type": "markdown",
   "id": "8c975783",
   "metadata": {},
   "source": [
    "### 20. Write a function word_freq() that takes a word and the name of a section of the Brown Corpus as arguments, and computes the frequency of the word in that section of the corpus."
   ]
  },
  {
   "cell_type": "code",
   "execution_count": 343,
   "id": "2b6b6d54",
   "metadata": {},
   "outputs": [],
   "source": [
    "def word_freq(word, genre): \n",
    "    i = 0\n",
    "    for w in brown.words(categories = genre):\n",
    "        if w.lower() == word.lower():\n",
    "            i += 1\n",
    "    return i"
   ]
  },
  {
   "cell_type": "code",
   "execution_count": 344,
   "id": "658901de",
   "metadata": {},
   "outputs": [
    {
     "data": {
      "text/plain": [
       "142"
      ]
     },
     "execution_count": 344,
     "metadata": {},
     "output_type": "execute_result"
    }
   ],
   "source": [
    "word_freq('President', 'news')"
   ]
  },
  {
   "cell_type": "markdown",
   "id": "c9184723",
   "metadata": {},
   "source": [
    "### 21. Write a program to guess the number of syllables contained in a text, making use of the CMU Pronouncing Dictionary."
   ]
  },
  {
   "cell_type": "code",
   "execution_count": 346,
   "id": "162f2c59",
   "metadata": {},
   "outputs": [],
   "source": [
    "cmu = nltk.corpus.cmudict.dict()"
   ]
  },
  {
   "cell_type": "code",
   "execution_count": 347,
   "id": "ce38f80b",
   "metadata": {},
   "outputs": [
    {
     "data": {
      "text/plain": [
       "[['CH', 'EH1', 'N']]"
      ]
     },
     "execution_count": 347,
     "metadata": {},
     "output_type": "execute_result"
    }
   ],
   "source": [
    "cmu['chen']"
   ]
  },
  {
   "cell_type": "code",
   "execution_count": 348,
   "id": "7586857b",
   "metadata": {},
   "outputs": [],
   "source": [
    "def estimate_syllables(text):\n",
    "    cmu = nltk.corpus.cmudict.dict()\n",
    "    total_syllables = 0\n",
    "    \n",
    "    text = coerce_to_list(text)\n",
    "    for w in text:\n",
    "        if w.isalpha() and w.lower() in cmu:\n",
    "            for proun in (cmu[w.lower()][0]):\n",
    "                for char in proun:\n",
    "                    if char.isdigit():\n",
    "                        total_syllables += 1\n",
    "    return total_syllables"
   ]
  },
  {
   "cell_type": "code",
   "execution_count": 349,
   "id": "ec2e03c2",
   "metadata": {},
   "outputs": [
    {
     "name": "stdout",
     "output_type": "stream",
     "text": [
      "25,349\n"
     ]
    }
   ],
   "source": [
    "print(\"{:,}\".format(estimate_syllables(brown.words(categories = 'humor'))))"
   ]
  },
  {
   "cell_type": "markdown",
   "id": "110325da",
   "metadata": {},
   "source": [
    "### 22. Define a function hedge(text) that processes a text and produces a new version with the word 'like' between every third word."
   ]
  },
  {
   "cell_type": "code",
   "execution_count": 350,
   "id": "76c1f4c0",
   "metadata": {},
   "outputs": [],
   "source": [
    "def hedge(text, word, interval = 3, output = \"string\"):\n",
    "    text = coerce_to_list(text)\n",
    "    \n",
    "    if output == \"string\":\n",
    "        newstring = \"\"\n",
    "        i = 1\n",
    "        \n",
    "        for t in text:\n",
    "            if t.isalpha() and i%interval == 0:\n",
    "                newstring += t + \" \" + word + \" \"\n",
    "                i += 1\n",
    "            elif t.isalpha():\n",
    "                newstring += t + \" \"\n",
    "                i += 1\n",
    "            else:\n",
    "                newstring += t + \" \"\n",
    "        return newstring\n",
    "    else:\n",
    "        newlist = []\n",
    "        i = 1\n",
    "        \n",
    "        for t in text:\n",
    "            if t.isalpha() and i%interval == 0:\n",
    "                newlist.append(t)\n",
    "                newlist.append(word)\n",
    "                i += 1\n",
    "            elif t.isalpha():\n",
    "                newlist.append(t)\n",
    "                i += 1\n",
    "            else:\n",
    "                newlist.append(t)\n",
    "        return newlist"
   ]
  },
  {
   "cell_type": "code",
   "execution_count": 351,
   "id": "5f6ffac5",
   "metadata": {},
   "outputs": [
    {
     "data": {
      "text/plain": [
       "'this is a like test of a like test for a like test '"
      ]
     },
     "execution_count": 351,
     "metadata": {},
     "output_type": "execute_result"
    }
   ],
   "source": [
    "hedge(\"this is a test of a test for a test\", \"like\")"
   ]
  },
  {
   "cell_type": "code",
   "execution_count": 353,
   "id": "42ef211d",
   "metadata": {},
   "outputs": [
    {
     "name": "stdout",
     "output_type": "stream",
     "text": [
      "['It', 'was', 'among', 'like', 'these', 'that', 'Hinkle', 'like', 'identified', 'a', 'photograph', 'like', 'of', 'Barco', '!', '!', 'For', 'like', 'it', 'seems', 'that', 'like', 'Barco', ',', 'fancying', 'himself', 'like', 'a', \"ladies'\", 'man', '(', 'and', 'like', 'why', 'not', ',', 'after', 'like', 'seven', 'marriages', '?', '?', ')', ',', 'had', 'like', 'listed', 'himself', 'for', 'like', 'Mormon', 'Beard', 'roles', 'like', 'at', 'the', 'instigation', 'like', 'of', 'his', 'fourth', 'like', 'murder', 'victim', 'who', 'like', 'had', 'said', ':', '``', 'With', 'like', 'your', 'beard', ',', 'dear', 'like', ',', 'you', 'ought', 'to', 'like', 'be', 'in', 'movies', 'like', \"''\", '!', '!', 'Mills', 'secured', \"Barco's\", 'photograph', 'like', 'from', 'the', 'gentleman', 'like', 'in', 'charge', ',', 'rushed', 'like', 'to', 'the', 'Hollywood', 'like', 'police', 'station', 'to', 'like', 'report', 'the', 'theft', 'like', ',', 'and', 'less', 'than', 'like', 'five', 'minutes', 'later', 'like', ',', 'detectives', 'with', 'his', 'like', 'picture', 'in', 'hand', 'like', 'were', 'on', 'the', 'like', 'trail', 'of', 'Cal', 'like', 'Barco', '.', 'On', 'their', 'like', 'way', ',', 'they', 'stopped', 'like', 'at', 'every', 'gas', 'like', 'station', 'along', 'the', 'like', 'main', 'boulevards', 'to', 'like', 'question', 'the', 'attendants', 'like', '.']"
     ]
    }
   ],
   "source": [
    "print(hedge(brown.sents(categories = 'humor')[0:5], \"like\", output = \"list\"), end = '')"
   ]
  },
  {
   "cell_type": "markdown",
   "id": "8fe85368",
   "metadata": {},
   "source": [
    "### 23. ● Zipf’s Law: Let f(w) be the frequency of a word w in free text. Suppose that all the words of a text are ranked according to their frequency, with the most frequent word first. Zipf’s Law states that the frequency of a word type is inversely proportional to its rank (i.e., f × r = k, for some constant k). For example, the 50th most common word type should occur three times as frequently as the 150th most common word type.\n",
    "\n",
    "    a. Write a function to process a large text and plot word frequency against word rank using pylab.plot. Do you confirm Zipf’s law? (Hint: it helps to use a logarithmic scale.) What is going on at the extreme ends of the plotted line?\n",
    "    \n",
    "    b. Generate random text, e.g., using random.choice(\"abcdefg \"), taking care to include the space character. You will need to import random first. Use the string concatenation operator to accumulate characters into a (very) long string. Then tokenize this string, generate the Zipf plot as before, and compare the two plots. What do you make of Zipf’s Law in the light of this?"
   ]
  },
  {
   "cell_type": "code",
   "execution_count": 354,
   "id": "51c3c29b",
   "metadata": {},
   "outputs": [],
   "source": [
    "ep = [w.lower() for w in gutenberg.words('edgeworth-parents.txt') if w.isalpha()]"
   ]
  },
  {
   "cell_type": "code",
   "execution_count": 355,
   "id": "5053427d",
   "metadata": {},
   "outputs": [],
   "source": [
    "fd = nltk.FreqDist(ep)"
   ]
  },
  {
   "cell_type": "code",
   "execution_count": 356,
   "id": "9d867586",
   "metadata": {},
   "outputs": [
    {
     "data": {
      "text/plain": [
       "('now', 508)"
      ]
     },
     "execution_count": 356,
     "metadata": {},
     "output_type": "execute_result"
    }
   ],
   "source": [
    "fd.most_common(50)[-1]"
   ]
  },
  {
   "cell_type": "code",
   "execution_count": 357,
   "id": "523895c5",
   "metadata": {},
   "outputs": [
    {
     "data": {
      "text/plain": [
       "('nothing', 152)"
      ]
     },
     "execution_count": 357,
     "metadata": {},
     "output_type": "execute_result"
    }
   ],
   "source": [
    "fd.most_common(150)[-1]"
   ]
  },
  {
   "cell_type": "code",
   "execution_count": 362,
   "id": "cc6c098f",
   "metadata": {},
   "outputs": [],
   "source": [
    "ranks_counts = [(rank+1, counts) for rank, counts in enumerate([counts for words, counts in fd.most_common(150)])]"
   ]
  },
  {
   "cell_type": "code",
   "execution_count": 364,
   "id": "0d311f3d",
   "metadata": {},
   "outputs": [
    {
     "name": "stdout",
     "output_type": "stream",
     "text": [
      "[(1, 7728), (2, 5220), (3, 4983), (4, 3745), (5, 3657), (6, 3155), (7, 2925), (8, 2637), (9, 2244), (10, 2223), (11, 2192), (12, 2104), (13, 1858), (14, 1819), (15, 1525), (16, 1471), (17, 1437), (18, 1428), (19, 1405), (20, 1393)]"
     ]
    }
   ],
   "source": [
    "print(ranks_counts[:20], end= '')"
   ]
  },
  {
   "cell_type": "code",
   "execution_count": 366,
   "id": "0a5108eb",
   "metadata": {},
   "outputs": [],
   "source": [
    "ranks, counts = zip(*ranks_counts)"
   ]
  },
  {
   "cell_type": "code",
   "execution_count": 14,
   "id": "d101e9ee",
   "metadata": {},
   "outputs": [],
   "source": [
    "import numpy as np"
   ]
  },
  {
   "cell_type": "code",
   "execution_count": 15,
   "id": "d842845f",
   "metadata": {},
   "outputs": [],
   "source": [
    "def plot_zipf(text, title = '', scale = 'log', n = 150, plot_style = 'k-', reg_line = 'c--'):\n",
    "    plt.figure(figsize=(15, 10))\n",
    "    text = coerce_to_list(text)\n",
    "    edited = [w.lower() for w in text if w.isalpha()]\n",
    "    fd = nltk.FreqDist(edited)\n",
    "    \n",
    "    ranks_count = [(rank+1, counts) for rank, counts in enumerate([counts for word, counts in fd.most_common(150)])]\n",
    "    ranks, counts = zip(*ranks_count)\n",
    "    \n",
    "    plt.xscale(scale)\n",
    "    plt.yscale(scale)\n",
    "    \n",
    "    if scale == \"log\":\n",
    "        plt.xlabel(\"Word Ranking (logarithmic scale)\")\n",
    "        plt.ylabel(\"Word Counts (logarithmic scale)\")\n",
    "        \n",
    "        logR = np.log(np.asarray(ranks))\n",
    "        logC = np.log(np.asarray(counts))\n",
    "        \n",
    "        m, c = np.polyfit(logR, logC, 1)\n",
    "        y_fit = np.exp(m * logR + c)\n",
    "        \n",
    "        plt.plot(ranks, y_fit, reg_line)\n",
    "    else:\n",
    "        plt.xlabel(\"Word Ranking\")\n",
    "        plt.ylabel(\"Word Counts\")\n",
    "    \n",
    "    if len(title) != 0:\n",
    "        plt.title('Zipf analysis of {}'.format(title))\n",
    "    else:\n",
    "        plt.title('Zipf analysis of text')\n",
    "    \n",
    "    plt.plot(ranks, counts, plot_style)\n",
    "    plt.show()\n",
    "    "
   ]
  },
  {
   "cell_type": "code",
   "execution_count": 16,
   "id": "55519f5d",
   "metadata": {},
   "outputs": [
    {
     "data": {
      "image/png": "[encoded data removed]",
      "text/plain": [
       "<Figure size 1500x1000 with 1 Axes>"
      ]
     },
     "metadata": {},
     "output_type": "display_data"
    }
   ],
   "source": [
    "plot_zipf(gutenberg.words(\"edgeworth-parents.txt\"), title = '\"The Parent\\'s Assistant\" by Maria Edgeworth')"
   ]
  },
  {
   "cell_type": "code",
   "execution_count": 21,
   "id": "491f4935",
   "metadata": {},
   "outputs": [],
   "source": [
    "import random\n",
    "\n",
    "test = \"\"\n",
    "\n",
    "for i in range(500000):\n",
    "    test += random.choice('abcdefghijkopqrstuvwxyz ')"
   ]
  },
  {
   "cell_type": "code",
   "execution_count": 22,
   "id": "2bfd982b",
   "metadata": {},
   "outputs": [
    {
     "data": {
      "image/png": "[encoded data removed]",
      "text/plain": [
       "<Figure size 1500x1000 with 1 Axes>"
      ]
     },
     "metadata": {},
     "output_type": "display_data"
    }
   ],
   "source": [
    "plot_zipf(test)"
   ]
  },
  {
   "cell_type": "markdown",
   "id": "d9a23b30",
   "metadata": {},
   "source": [
    "### 24. Modify the text generation program in Example 2-1 further, to do the following tasks:\n",
    "\n",
    "    a. Store the n most likely words in a list words, then randomly choose a word from the list using random.choice(). (You will need to import random first.)\n",
    "    \n",
    "    b. Select a particular genre, such as a section of the Brown Corpus or a Genesis translation, one of the Gutenberg texts, or one of the Web texts. Train the model on this corpus and get it to generate random text. You may have to experiment with different start words. How intelligible is the text? Discuss the strengths and weaknesses of this method of generating random text.\n",
    "    \n",
    "    c. Now train your system using two distinct genres and experiment with generating text in the hybrid genre. Discuss your observations."
   ]
  },
  {
   "cell_type": "code",
   "execution_count": 24,
   "id": "70b36d83",
   "metadata": {},
   "outputs": [],
   "source": [
    "import random"
   ]
  },
  {
   "cell_type": "code",
   "execution_count": 25,
   "id": "5958265a",
   "metadata": {},
   "outputs": [],
   "source": [
    "def generate_random_text(text, num = 15, n = 50):\n",
    "    text = coerce_to_list(text)\n",
    "    \n",
    "    bigrams = nltk.bigrams(text)\n",
    "    cfd = nltk.ConditionalFreqDist(bigrams)\n",
    "    \n",
    "    most_likely_words = nltk.FreqDist([w.lower() for w in text if w.isalpha()]).most_common(n)\n",
    "    words, counts = zip(*most_likely_words)\n",
    "    word = random.choice(words)\n",
    "    \n",
    "    for i in range(num):\n",
    "        print(word, end = \" \")\n",
    "        word = random.choice(list(cfd[word].keys()))"
   ]
  },
  {
   "cell_type": "code",
   "execution_count": 26,
   "id": "feee6c6d",
   "metadata": {},
   "outputs": [
    {
     "name": "stdout",
     "output_type": "stream",
     "text": [
      "they drew back all one end of Jordan , Now let Pharaoh : behold , "
     ]
    }
   ],
   "source": [
    "generate_random_text(nltk.corpus.genesis.words('english-kjv.txt'))"
   ]
  },
  {
   "cell_type": "code",
   "execution_count": 27,
   "id": "3c3fbf0c",
   "metadata": {},
   "outputs": [],
   "source": [
    "opened_text = open(\"data/alice.txt\")"
   ]
  },
  {
   "cell_type": "code",
   "execution_count": 28,
   "id": "7984ddb7",
   "metadata": {},
   "outputs": [],
   "source": [
    "alice = []\n",
    "for line in opened_text:\n",
    "    for word in line.split():\n",
    "        alice.append(word.strip())"
   ]
  },
  {
   "cell_type": "code",
   "execution_count": 31,
   "id": "6633509f",
   "metadata": {},
   "outputs": [],
   "source": [
    "def make_ngram(arr, index, n):\n",
    "    ngram = []\n",
    "    for j in range(1, n + 1):\n",
    "        ngram.append(arr[index + j])\n",
    "    return ngram"
   ]
  },
  {
   "cell_type": "code",
   "execution_count": 32,
   "id": "016ad4f7",
   "metadata": {},
   "outputs": [],
   "source": [
    "def make_markov_dict(array, n):\n",
    "    d = {}\n",
    "    l = len(array)\n",
    "    \n",
    "    array.extend(\" \" * n)\n",
    "    \n",
    "    for e in range(l):\n",
    "        ngram = make_ngram(array, e, n)\n",
    "        if array[e] not in d:\n",
    "            d[array[e]] = ([ngram])\n",
    "        else:\n",
    "            d[array[e]] += ([ngram])\n",
    "    d[\" \"] = \" \" * n\n",
    "    return d"
   ]
  },
  {
   "cell_type": "code",
   "execution_count": 33,
   "id": "cd728622",
   "metadata": {},
   "outputs": [],
   "source": [
    "def minimarkov(d, word):\n",
    "    return random.choice(d[word])"
   ]
  },
  {
   "cell_type": "code",
   "execution_count": 40,
   "id": "f1cf4e36",
   "metadata": {},
   "outputs": [],
   "source": [
    "def make_markov_text(text, n, length):\n",
    "    if type(text) != list:\n",
    "        text = coerce_to_list(text)\n",
    "    \n",
    "    d = make_markov_dict(text, n)\n",
    "    start = random.choice(list(d.keys()))\n",
    "    markov_text = [start]\n",
    "    \n",
    "    for i in range(length):\n",
    "        markov_text.extend(minimarkov(d, markov_text[-1]))\n",
    "        \n",
    "    for word in markov_text:\n",
    "        print(word, end = \" \")"
   ]
  },
  {
   "cell_type": "code",
   "execution_count": 41,
   "id": "97da5287",
   "metadata": {},
   "outputs": [
    {
     "name": "stdout",
     "output_type": "stream",
     "text": [
      "THAT'S all wrong, I'm certain! I must have prizes.' `But who got any good reason, and as the doubled-up soldiers were obliged to her lips. `I know about this was his Normans--\" How are you know.' `Not like cats!' cried the "
     ]
    }
   ],
   "source": [
    "make_markov_text(alice,  2, 20)"
   ]
  },
  {
   "cell_type": "code",
   "execution_count": 42,
   "id": "de58d934",
   "metadata": {},
   "outputs": [
    {
     "name": "stdout",
     "output_type": "stream",
     "text": [
      "shrieked out. `Behead that I've got to speak, and no idea what Latitude was, or Longitude I've got to?' said the King, `that saves a thing. After a steam-engine when she made some tarts, you know--' `But, it goes on the table. `Nothing can be clearer than THAT. Then followed the Knave did so, very good-naturedly began hunting about, and called "
     ]
    }
   ],
   "source": [
    "make_markov_text(alice,  3, 20)"
   ]
  },
  {
   "cell_type": "markdown",
   "id": "2cd9d199",
   "metadata": {},
   "source": [
    "### 25. Define a function find_language() that takes a string as its argument and returns a list of languages that have that string as a word. Use the udhr corpus and limit your searches to files in the Latin-1 encoding"
   ]
  },
  {
   "cell_type": "code",
   "execution_count": 44,
   "id": "8135875d",
   "metadata": {},
   "outputs": [],
   "source": [
    "from nltk.corpus import udhr"
   ]
  },
  {
   "cell_type": "code",
   "execution_count": 45,
   "id": "cce845f8",
   "metadata": {},
   "outputs": [],
   "source": [
    "def find_language(word):\n",
    "    latin1_langs = [l for l in udhr.fileids() if l.endswith('Latin1')]\n",
    "    matches = []\n",
    "    \n",
    "    for l in latin1_langs:\n",
    "        if word in udhr.words(l):\n",
    "            matches.append(l[:-7])\n",
    "    return matches"
   ]
  },
  {
   "cell_type": "code",
   "execution_count": 47,
   "id": "7fd62817",
   "metadata": {},
   "outputs": [
    {
     "name": "stdout",
     "output_type": "stream",
     "text": [
      "['Bichelamar', 'Bikol_Bicolano', 'Cakchiquel', 'Chamorro', 'Chuuk_Trukese', 'English', 'Friulian_Friulano', 'Hiligaynon', 'Ibibio_Efik', 'Iloko_Ilocano', 'Kapampangan', 'Kiche_Quiche', 'Luxembourgish_Letzebuergeusch', 'Mam', 'Marshallese', 'NigerianPidginEnglish', 'Sharanahua', 'SolomonsPidgin_Pijin', 'Tiv', 'TokPisin', 'Trukese_Chuuk', 'Waray'] "
     ]
    }
   ],
   "source": [
    "print(find_language(\"man\"), end = ' ')"
   ]
  },
  {
   "cell_type": "markdown",
   "id": "3cb5b5c1",
   "metadata": {},
   "source": [
    "### 26. What is the branching factor of the noun hypernym hierarchy? I.e., for every noun synset that has hyponyms—or children in the hypernym hierarchy—how many do they have on average? You can get all noun synsets using wn.all_syn sets('n')."
   ]
  },
  {
   "cell_type": "code",
   "execution_count": 48,
   "id": "c7fe2d77",
   "metadata": {},
   "outputs": [],
   "source": [
    "from nltk.corpus import wordnet as wn"
   ]
  },
  {
   "cell_type": "code",
   "execution_count": 50,
   "id": "d8c080f9",
   "metadata": {},
   "outputs": [],
   "source": [
    "l = list(wn.all_synsets('n'))"
   ]
  },
  {
   "cell_type": "code",
   "execution_count": 52,
   "id": "bb3d3bfb",
   "metadata": {},
   "outputs": [
    {
     "data": {
      "text/plain": [
       "0.9237045606770992"
      ]
     },
     "execution_count": 52,
     "metadata": {},
     "output_type": "execute_result"
    }
   ],
   "source": [
    "hypo_branches = []\n",
    "\n",
    "for i in l:\n",
    "    hypo_branches.append(len(i.hyponyms()))\n",
    "\n",
    "sum(hypo_branches) / len(hypo_branches)"
   ]
  },
  {
   "cell_type": "code",
   "execution_count": 53,
   "id": "ab3315b9",
   "metadata": {},
   "outputs": [
    {
     "data": {
      "text/plain": [
       "0.9237045606770992"
      ]
     },
     "execution_count": 53,
     "metadata": {},
     "output_type": "execute_result"
    }
   ],
   "source": [
    "hyper_branches = []\n",
    "\n",
    "for i in l:\n",
    "    hyper_branches.append(len(i.hypernyms()))\n",
    "\n",
    "sum(hyper_branches)/len(hyper_branches)"
   ]
  },
  {
   "cell_type": "markdown",
   "id": "34e8146f",
   "metadata": {},
   "source": [
    "### 27. The polysemy of a word is the number of senses it has. Using WordNet, we can determine that the noun dog has seven senses with len(wn.synsets('dog', 'n')). Compute the average polysemy of nouns, verbs, adjectives, and adverbs according to WordNet."
   ]
  },
  {
   "cell_type": "code",
   "execution_count": 54,
   "id": "5ba96543",
   "metadata": {},
   "outputs": [],
   "source": [
    "pos = ['nouns', 'verbs', 'adjectives', 'adverbs']\n",
    "abb = ['n', 'v', 'a', 'r']\n",
    "\n",
    "ave_poly = []"
   ]
  },
  {
   "cell_type": "code",
   "execution_count": 55,
   "id": "742c7e80",
   "metadata": {},
   "outputs": [
    {
     "name": "stdout",
     "output_type": "stream",
     "text": [
      "The average polysemy for the nouns in wordnet is 1.28336.\n",
      "The average polysemy for the verbs in wordnet is 2.18663.\n",
      "The average polysemy for the adjectives in wordnet is 1.41048.\n",
      "The average polysemy for the adverbs in wordnet is 1.25329.\n"
     ]
    }
   ],
   "source": [
    "for i in range(len(pos)):\n",
    "    \n",
    "    syn_list = list(wn.all_synsets(abb[i]))\n",
    "    entries = [] \n",
    "    \n",
    "    for syn in syn_list:\n",
    "        for entry in syn.lemma_names():\n",
    "            entries.append(entry)\n",
    "    \n",
    "    entries = set(entries)\n",
    "    polysemy = 0\n",
    "    \n",
    "    for entry in set(entries):\n",
    "        polysemy += len(wn.synsets(entry, abb[i]))\n",
    "    \n",
    "    ave_poly.append(polysemy/len(entries))\n",
    "\n",
    "for i in range(len(pos)):\n",
    "    print('The average polysemy for the {} in wordnet is {:.5f}.'.format(pos[i], ave_poly[i]))"
   ]
  },
  {
   "cell_type": "markdown",
   "id": "0140cba9",
   "metadata": {},
   "source": [
    "### 28. Use one of the predefined similarity measures to score the similarity of each of the following pairs of words. Rank the pairs in order of decreasing similarity. How close is your ranking to the order given here, an order that was established experimentally by (Miller & Charles, 1998): car-automobile, gem-jewel, journey-voyage, boy-lad, coast-shore, asylum-madhouse, magician-wizard, midday-noon, furnacestove, food-fruit, bird-cock, bird-crane, tool-implement, brother-monk, ladbrother, crane-implement, journey-car, monk-oracle, cemetery-woodland, foodrooster, coast-hill, forest-graveyard, shore-woodland, monk-slave, coast-forest, lad-wizard, chord-smile, glass-magician, rooster-voyage, noon-string."
   ]
  },
  {
   "cell_type": "code",
   "execution_count": 56,
   "id": "10ff97a1",
   "metadata": {},
   "outputs": [],
   "source": [
    " pairs = [[\"car\", \"automobile\"], \n",
    "          [\"gem\", \"jewel\"], \n",
    "          [\"journey\", \"voyage\"], \n",
    "          [\"boy\", \"lad\"], \n",
    "          [\"coast\", \"shore\"], \n",
    "          [\"asylum\", \"madhouse\"], \n",
    "          [\"magician\", \"wizard\"], \n",
    "          [\"midday\", \"noon\"], \n",
    "          [\"furnace\", \"stove\"], \n",
    "          [\"food\", \"fruit\"], \n",
    "          [\"bird\", \"cock\"], \n",
    "          [\"bird\", \"crane\"], \n",
    "          [\"tool\", \"implement\"], \n",
    "          [\"brother\", \"monk\"], \n",
    "          [\"lad\", \"brother\"], \n",
    "          [\"crane\", \"implement\"], \n",
    "          [\"journey\", \"car\"], \n",
    "          [\"monk\", \"oracle\"], \n",
    "          [\"cemetery\", \"woodland\"], \n",
    "          [\"food\", \"rooster\"], \n",
    "          [\"coast\", \"hill\"], \n",
    "          [\"forest\", \"graveyard\"], \n",
    "          [\"shore\", \"woodland\"], \n",
    "          [\"monk\", \"slave\"], \n",
    "          [\"coast\", \"forest\"], \n",
    "          [\"lad\", \"wizard\"], \n",
    "          [\"chord\", \"smile\"], \n",
    "          [\"glass\", \"magician\"], \n",
    "          [\"rooster\", \"voyage\"], \n",
    "          [\"noon\", \"string\"]]"
   ]
  },
  {
   "cell_type": "code",
   "execution_count": 57,
   "id": "b9b1bdb3",
   "metadata": {},
   "outputs": [],
   "source": [
    "path_sim_scores = []\n",
    "\n",
    "for pair in pairs:\n",
    "    \n",
    "    scores = []\n",
    "    \n",
    "    for i in range(1, len(wn.synsets(pair[0], 'n')) + 1):\n",
    "        for j in range(1, len(wn.synsets(pair[1], 'n')) + 1):\n",
    "            first = wn.synset(pair[0] + '.n.' + str(i))\n",
    "            second = wn.synset(pair[1] + '.n.' + str(j))\n",
    "            scores.append(first.path_similarity(second))\n",
    "    path_sim_scores.append([max(scores), (pair[0], pair[1])])"
   ]
  },
  {
   "cell_type": "code",
   "execution_count": 59,
   "id": "520a9791",
   "metadata": {},
   "outputs": [
    {
     "data": {
      "text/plain": [
       "[[1.0, ('midday', 'noon')],\n",
       " [1.0, ('magician', 'wizard')],\n",
       " [1.0, ('gem', 'jewel')],\n",
       " [1.0, ('car', 'automobile')],\n",
       " [0.5, ('tool', 'implement')],\n",
       " [0.5, ('journey', 'voyage')],\n",
       " [0.5, ('coast', 'shore')],\n",
       " [0.5, ('brother', 'monk')],\n",
       " [0.5, ('boy', 'lad')],\n",
       " [0.5, ('bird', 'cock')],\n",
       " [0.5, ('asylum', 'madhouse')],\n",
       " [0.25, ('bird', 'crane')],\n",
       " [0.2, ('shore', 'woodland')],\n",
       " [0.2, ('monk', 'slave')],\n",
       " [0.2, ('lad', 'wizard')],\n",
       " [0.2, ('lad', 'brother')],\n",
       " [0.2, ('crane', 'implement')],\n",
       " [0.2, ('coast', 'hill')],\n",
       " [0.16666666666666666, ('coast', 'forest')],\n",
       " [0.125, ('monk', 'oracle')],\n",
       " [0.125, ('glass', 'magician')],\n",
       " [0.1111111111111111, ('forest', 'graveyard')],\n",
       " [0.1111111111111111, ('cemetery', 'woodland')],\n",
       " [0.1, ('furnace', 'stove')],\n",
       " [0.1, ('food', 'fruit')],\n",
       " [0.09090909090909091, ('chord', 'smile')],\n",
       " [0.08333333333333333, ('noon', 'string')],\n",
       " [0.0625, ('food', 'rooster')],\n",
       " [0.05555555555555555, ('journey', 'car')],\n",
       " [0.041666666666666664, ('rooster', 'voyage')]]"
      ]
     },
     "execution_count": 59,
     "metadata": {},
     "output_type": "execute_result"
    }
   ],
   "source": [
    "sorted(path_sim_scores, reverse  = True)"
   ]
  },
  {
   "cell_type": "code",
   "execution_count": null,
   "id": "0ef8d91b",
   "metadata": {},
   "outputs": [],
   "source": []
  }
 ],
 "metadata": {
  "kernelspec": {
   "display_name": "Python 3 (ipykernel)",
   "language": "python",
   "name": "python3"
  },
  "language_info": {
   "codemirror_mode": {
    "name": "ipython",
    "version": 3
   },
   "file_extension": ".py",
   "mimetype": "text/x-python",
   "name": "python",
   "nbconvert_exporter": "python",
   "pygments_lexer": "ipython3",
   "version": "3.10.12"
  }
 },
 "nbformat": 4,
 "nbformat_minor": 5
}
