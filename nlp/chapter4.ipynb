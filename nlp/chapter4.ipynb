{
 "cells": [
  {
   "cell_type": "markdown",
   "id": "49df03ea",
   "metadata": {},
   "source": [
    "1. Find out more about sequence objects using Python’s help facility. In the interpreter,\n",
    "type help(str), help(list), and help(tuple). This will give you a full list of\n",
    "the functions supported by each type. Some functions have special names flanked\n",
    "with underscores; as the help documentation shows, each such function corresponds\n",
    "to something more familiar. For example x.__getitem__(y) is just a longwinded\n",
    "way of saying x[y].\n",
    "\n",
    "2. Identify three operations that can be performed on both tuples and lists. Identify\n",
    "three list operations that cannot be performed on tuples. Name a context where\n",
    "using a list instead of a tuple generates a Python error."
   ]
  },
  {
   "cell_type": "code",
   "execution_count": 1,
   "id": "0e39c531",
   "metadata": {},
   "outputs": [],
   "source": [
    "import nltk\n",
    "import re"
   ]
  },
  {
   "cell_type": "code",
   "execution_count": 4,
   "id": "5ce88c26",
   "metadata": {},
   "outputs": [
    {
     "name": "stdout",
     "output_type": "stream",
     "text": [
      "['__add__', '__class__', '__class_getitem__', '__contains__', '__delattr__', '__dir__', '__doc__', '__eq__', '__format__', '__ge__', '__getattribute__', '__getitem__', '__gt__', '__hash__', '__init__', '__init_subclass__', '__iter__', '__le__', '__len__', '__lt__', '__mul__', '__ne__', '__new__', '__reduce__', '__reduce_ex__', '__repr__', '__rmul__', '__setattr__', '__sizeof__', '__str__', '__subclasshook__', 'count', 'index']"
     ]
    }
   ],
   "source": [
    "# operations that can be performed on both tuples and lists\n",
    "\n",
    "print([x for x in dir(list) if x in dir(tuple)], end = \"\")"
   ]
  },
  {
   "cell_type": "code",
   "execution_count": 9,
   "id": "d4c0d76a",
   "metadata": {},
   "outputs": [
    {
     "data": {
      "text/plain": [
       "(1, 1)"
      ]
     },
     "execution_count": 9,
     "metadata": {},
     "output_type": "execute_result"
    }
   ],
   "source": [
    "l = [1, 2, 3]\n",
    "t = (2, 3, 4)\n",
    "\n",
    "l.count(1), t.count(2)"
   ]
  },
  {
   "cell_type": "code",
   "execution_count": 6,
   "id": "97b4e2cc",
   "metadata": {},
   "outputs": [
    {
     "name": "stdout",
     "output_type": "stream",
     "text": [
      "['__delitem__', '__iadd__', '__imul__', '__reversed__', '__setitem__', 'append', 'clear', 'copy', 'extend', 'insert', 'pop', 'remove', 'reverse', 'sort']"
     ]
    }
   ],
   "source": [
    "# operations that can be performed on list, but not tuple\n",
    "\n",
    "print([x for x in dir(list) if x not in dir(tuple)], end = \"\")"
   ]
  },
  {
   "cell_type": "code",
   "execution_count": 11,
   "id": "503a4f62",
   "metadata": {},
   "outputs": [
    {
     "ename": "TypeError",
     "evalue": "unhashable type: 'list'",
     "output_type": "error",
     "traceback": [
      "\u001b[0;31m---------------------------------------------------------------------------\u001b[0m",
      "\u001b[0;31mTypeError\u001b[0m                                 Traceback (most recent call last)",
      "Cell \u001b[0;32mIn[11], line 9\u001b[0m\n\u001b[1;32m      6\u001b[0m b \u001b[38;5;241m=\u001b[39m [\u001b[38;5;124m'\u001b[39m\u001b[38;5;124messs\u001b[39m\u001b[38;5;124m'\u001b[39m]\n\u001b[1;32m      8\u001b[0m c \u001b[38;5;241m=\u001b[39m {a : \u001b[38;5;124m'\u001b[39m\u001b[38;5;124mN\u001b[39m\u001b[38;5;124m'\u001b[39m}\n\u001b[0;32m----> 9\u001b[0m d \u001b[38;5;241m=\u001b[39m {b : \u001b[38;5;124m'\u001b[39m\u001b[38;5;124ms\u001b[39m\u001b[38;5;124m'\u001b[39m}\n",
      "\u001b[0;31mTypeError\u001b[0m: unhashable type: 'list'"
     ]
    }
   ],
   "source": [
    "# Using a list instead of tuple will generate error\n",
    "\n",
    "# trying to use a list as a key in dictionary\n",
    "\n",
    "a = ('hepp')\n",
    "b = ['esss']\n",
    "\n",
    "c = {a : 'N'}\n",
    "d = {b : 's'}"
   ]
  },
  {
   "cell_type": "code",
   "execution_count": 12,
   "id": "9e970bac",
   "metadata": {},
   "outputs": [
    {
     "ename": "TypeError",
     "evalue": "unhashable type: 'list'",
     "output_type": "error",
     "traceback": [
      "\u001b[0;31m---------------------------------------------------------------------------\u001b[0m",
      "\u001b[0;31mTypeError\u001b[0m                                 Traceback (most recent call last)",
      "Cell \u001b[0;32mIn[12], line 1\u001b[0m\n\u001b[0;32m----> 1\u001b[0m \u001b[38;5;28mhash\u001b[39m(a), \u001b[38;5;28;43mhash\u001b[39;49m\u001b[43m(\u001b[49m\u001b[43mb\u001b[49m\u001b[43m)\u001b[49m\n",
      "\u001b[0;31mTypeError\u001b[0m: unhashable type: 'list'"
     ]
    }
   ],
   "source": [
    "hash(a), hash(b)\n",
    "\n",
    "# tuples are hashable, but lists are not"
   ]
  },
  {
   "cell_type": "markdown",
   "id": "b9f7b322",
   "metadata": {},
   "source": [
    "3. Find out how to create a tuple consisting of a single item. There are at least two\n",
    "ways to do this."
   ]
  },
  {
   "cell_type": "code",
   "execution_count": 13,
   "id": "6fa8543b",
   "metadata": {},
   "outputs": [
    {
     "data": {
      "text/plain": [
       "int"
      ]
     },
     "execution_count": 13,
     "metadata": {},
     "output_type": "execute_result"
    }
   ],
   "source": [
    "x = 1\n",
    "type(x)"
   ]
  },
  {
   "cell_type": "markdown",
   "id": "e4fa10fc",
   "metadata": {},
   "source": [
    "t = tuple([1])\n",
    "type(t)"
   ]
  },
  {
   "cell_type": "markdown",
   "id": "25057260",
   "metadata": {},
   "source": [
    "4. Create a list words = ['is', 'NLP', 'fun', '?']. Use a series of assignment\n",
    "statements (e.g., words[1] = words[2]) and a temporary variable tmp to transform\n",
    "this list into the list ['NLP', 'is', 'fun', '!']. Now do the same transformation\n",
    "using tuple assignment."
   ]
  },
  {
   "cell_type": "code",
   "execution_count": 16,
   "id": "4d1d3f69",
   "metadata": {},
   "outputs": [],
   "source": [
    "words = ['is', 'NLP', 'fun', '?']"
   ]
  },
  {
   "cell_type": "code",
   "execution_count": 17,
   "id": "be258f7d",
   "metadata": {},
   "outputs": [],
   "source": [
    "words[0], words[1], words[3] = words[1], words[0], '!'"
   ]
  },
  {
   "cell_type": "code",
   "execution_count": 18,
   "id": "eba90f40",
   "metadata": {},
   "outputs": [
    {
     "data": {
      "text/plain": [
       "['NLP', 'is', 'fun', '!']"
      ]
     },
     "execution_count": 18,
     "metadata": {},
     "output_type": "execute_result"
    }
   ],
   "source": [
    "words"
   ]
  },
  {
   "cell_type": "markdown",
   "id": "b6ab4bca",
   "metadata": {},
   "source": [
    "6. Does the method for creating a sliding window of n-grams behave correctly for\n",
    "the two limiting cases: n = 1 and n = len(sent)?"
   ]
  },
  {
   "cell_type": "code",
   "execution_count": 20,
   "id": "79740abf",
   "metadata": {},
   "outputs": [],
   "source": [
    "sent = ['The', 'dog', 'gave', 'John', 'the', 'newspaper']"
   ]
  },
  {
   "cell_type": "code",
   "execution_count": 21,
   "id": "1afe034d",
   "metadata": {},
   "outputs": [
    {
     "data": {
      "text/plain": [
       "[['The'], ['dog'], ['gave'], ['John'], ['the'], ['newspaper']]"
      ]
     },
     "execution_count": 21,
     "metadata": {},
     "output_type": "execute_result"
    }
   ],
   "source": [
    "n = 1\n",
    "[sent[i:i+n] for i in range(len(sent)-n+1)]"
   ]
  },
  {
   "cell_type": "code",
   "execution_count": 22,
   "id": "32635226",
   "metadata": {},
   "outputs": [
    {
     "data": {
      "text/plain": [
       "[['The', 'dog', 'gave', 'John', 'the', 'newspaper']]"
      ]
     },
     "execution_count": 22,
     "metadata": {},
     "output_type": "execute_result"
    }
   ],
   "source": [
    "n = len(sent)\n",
    "[sent[i:i+n] for i in range(len(sent)-n+1)]"
   ]
  },
  {
   "cell_type": "markdown",
   "id": "f61383ab",
   "metadata": {},
   "source": [
    "7. We pointed out that when empty strings and empty lists occur in the condition\n",
    "part of an if clause, they evaluate to False. In this case, they are said to be occurring\n",
    "in a Boolean context. Experiment with different kinds of non-Boolean expressions\n",
    "in Boolean contexts, and see whether they evaluate as True or False."
   ]
  },
  {
   "cell_type": "code",
   "execution_count": 24,
   "id": "e4e662ff",
   "metadata": {},
   "outputs": [
    {
     "name": "stdout",
     "output_type": "stream",
     "text": [
      "0 evaluates as False\n",
      "1 evaluates as True\n",
      "-1 evaluates as True\n",
      "inf evaluates as True\n",
      "-inf evaluates as True\n",
      "nan evaluates as True\n",
      "0 evaluates as True\n",
      "1 evaluates as True\n",
      " evaluates as False\n",
      "[] evaluates as False\n",
      "nkdeioe evaluates as True\n",
      "3.1415 evaluates as True\n",
      "None evaluates as False\n",
      "[None] evaluates as True\n",
      "() evaluates as False\n",
      "(None,) evaluates as True\n"
     ]
    }
   ],
   "source": [
    "cands = [0, 1, -1, float('inf'), -float('inf'), float('NaN'), '0', '1', \"\", [],\n",
    "        'nkdeioe', 3.1415, None, [None], tuple([]), tuple([None])]\n",
    "\n",
    "for c in cands:\n",
    "    if c: \n",
    "        print(\"{} evaluates as True\".format(c))\n",
    "    else:\n",
    "        print(\"{} evaluates as False\".format(c))\n",
    "        \n",
    "# with the exception of 0, all numbers evaluate as true. even float('inf'), float('-inf'), float(\"NaN\")\n",
    "# all string evaluate are true, except for empty string.\n",
    "# empty list and empty tuples will evaluate as false\n",
    "# none evaluates as false, but none in a list or a tuple evaluates as true."
   ]
  },
  {
   "cell_type": "markdown",
   "id": "f5d66092",
   "metadata": {},
   "source": [
    "8. Use the inequality operators to compare strings, e.g., 'Monty' < 'Python'. What\n",
    "happens when you do 'Z' < 'a'? Try pairs of strings that have a common prefix,\n",
    "e.g., 'Monty' < 'Montague'. Read up on “lexicographical sort” in order to understand\n",
    "what is going on here. Try comparing structured objects, e.g., ('Monty', 1)\n",
    "< ('Monty', 2). Does this behave as expected?"
   ]
  },
  {
   "cell_type": "code",
   "execution_count": 25,
   "id": "6213be59",
   "metadata": {},
   "outputs": [
    {
     "data": {
      "text/plain": [
       "True"
      ]
     },
     "execution_count": 25,
     "metadata": {},
     "output_type": "execute_result"
    }
   ],
   "source": [
    "'Monty' < 'Python'"
   ]
  },
  {
   "cell_type": "code",
   "execution_count": 27,
   "id": "1376817d",
   "metadata": {},
   "outputs": [
    {
     "data": {
      "text/plain": [
       "True"
      ]
     },
     "execution_count": 27,
     "metadata": {},
     "output_type": "execute_result"
    }
   ],
   "source": [
    "'Z' < 'a'\n",
    "\n",
    "# uppercase letters are considered before lowercase one"
   ]
  },
  {
   "cell_type": "code",
   "execution_count": 28,
   "id": "d4656d5e",
   "metadata": {},
   "outputs": [
    {
     "data": {
      "text/plain": [
       "False"
      ]
     },
     "execution_count": 28,
     "metadata": {},
     "output_type": "execute_result"
    }
   ],
   "source": [
    "'Monty' < 'Montague'"
   ]
  },
  {
   "cell_type": "code",
   "execution_count": 30,
   "id": "f6dfc5de",
   "metadata": {},
   "outputs": [
    {
     "data": {
      "text/plain": [
       "True"
      ]
     },
     "execution_count": 30,
     "metadata": {},
     "output_type": "execute_result"
    }
   ],
   "source": [
    "('Monty', 1) < ('Monty', 2)\n",
    "\n",
    "# the first element in both tuples are the same. the second element is compared."
   ]
  },
  {
   "cell_type": "markdown",
   "id": "dc6cafaa",
   "metadata": {},
   "source": [
    "9. Write code that removes whitespace at the beginning and end of a string, and\n",
    "normalizes whitespace between words to be a single-space character.\n",
    "a. Do this task using split() and join().\n",
    "b. Do this task using regular expression substitutions."
   ]
  },
  {
   "cell_type": "code",
   "execution_count": 32,
   "id": "6b9e45bb",
   "metadata": {},
   "outputs": [
    {
     "data": {
      "text/plain": [
       "'this is a really inconsistent use of whitespace.'"
      ]
     },
     "execution_count": 32,
     "metadata": {},
     "output_type": "execute_result"
    }
   ],
   "source": [
    "sent = \"    this    is   a really inconsistent          use  of     whitespace.      \"\n",
    "\n",
    "' '.join(sent.split())"
   ]
  },
  {
   "cell_type": "code",
   "execution_count": 41,
   "id": "5752937e",
   "metadata": {},
   "outputs": [],
   "source": [
    "sent = \"    this    is   a really inconsistent          use  of     whitespace.      \"\n",
    "\n",
    "sent = re.sub(r\"\\s+\", ' ', sent)\n",
    "sent = re.sub(r\"^\\s+|\\s+$\", '', sent)"
   ]
  },
  {
   "cell_type": "code",
   "execution_count": 42,
   "id": "4c8b39cd",
   "metadata": {},
   "outputs": [
    {
     "data": {
      "text/plain": [
       "'this is a really inconsistent use of whitespace.'"
      ]
     },
     "execution_count": 42,
     "metadata": {},
     "output_type": "execute_result"
    }
   ],
   "source": [
    "sent"
   ]
  },
  {
   "cell_type": "markdown",
   "id": "6433cf9f",
   "metadata": {},
   "source": [
    "10. Write a program to sort words by length. Define a helper function cmp_len which\n",
    "uses the cmp comparison function on word lengths."
   ]
  },
  {
   "cell_type": "code",
   "execution_count": 43,
   "id": "b3fd4ed3",
   "metadata": {},
   "outputs": [],
   "source": [
    "def sort_words_by_length(text):\n",
    "    return [w for _, w in sorted([(len(w), w) for w in text.split()])]"
   ]
  },
  {
   "cell_type": "code",
   "execution_count": 44,
   "id": "e70d7d0a",
   "metadata": {},
   "outputs": [
    {
     "name": "stdout",
     "output_type": "stream",
     "text": [
      "['in', 'of', 'are', 'the', 'this', 'words', 'mostly', 'unique', 'lengths', 'sentence', 'character']"
     ]
    }
   ],
   "source": [
    "sent = 'the words in this sentence are mostly of unique character lengths'\n",
    "\n",
    "print(sort_words_by_length(sent), end = '')"
   ]
  },
  {
   "cell_type": "markdown",
   "id": "a0c66f9b",
   "metadata": {},
   "source": [
    "11. Create a list of words and store it in a variable sent1. Now assign sent2 =\n",
    "sent1. Modify one of the items in sent1 and verify that sent2 has changed.\n",
    "\n",
    "a. Now try the same exercise, but instead assign sent2 = sent1[:]. Modify\n",
    "sent1 again and see what happens to sent2. Explain.\n",
    "\n",
    "b. Now define text1 to be a list of lists of strings (e.g., to represent a text consisting\n",
    "of multiple sentences). Now assign text2 = text1[:], assign a new value to\n",
    "one of the words, e.g., text1[1][1] = 'Monty'. Check what this did to text2.\n",
    "Explain.\n",
    "\n",
    "c. Load Python’s deepcopy() function (i.e., from copy import deepcopy),"
   ]
  },
  {
   "cell_type": "code",
   "execution_count": 47,
   "id": "ae5e7bc9",
   "metadata": {},
   "outputs": [
    {
     "name": "stdout",
     "output_type": "stream",
     "text": [
      "['Mairzy', 'doats', 'and', 'dozy', 'doats', 'and', 'liddle', 'lamzy', 'divey', 'A', 'kiddley', 'divey', 'too,', \"wouldn't\", 'you?']"
     ]
    }
   ],
   "source": [
    "sent = \"Mairzy doats and dozy doats and liddle lamzy divey \" \\\n",
    "        \"A kiddley divey too, wouldn't you?\"\n",
    "sent1 = sent.split()\n",
    "print(sent1, end = \"\")"
   ]
  },
  {
   "cell_type": "code",
   "execution_count": 48,
   "id": "bc874ba9",
   "metadata": {},
   "outputs": [],
   "source": [
    "sent2 = sent1\n",
    "sent2[2] = 'or'"
   ]
  },
  {
   "cell_type": "code",
   "execution_count": 50,
   "id": "9f45d3b3",
   "metadata": {},
   "outputs": [
    {
     "name": "stdout",
     "output_type": "stream",
     "text": [
      "['Mairzy', 'doats', 'or', 'dozy', 'doats', 'and', 'liddle', 'lamzy', 'divey', 'A', 'kiddley', 'divey', 'too,', \"wouldn't\", 'you?']"
     ]
    }
   ],
   "source": [
    "print(sent1, end = \"\")"
   ]
  },
  {
   "cell_type": "code",
   "execution_count": 52,
   "id": "199dac62",
   "metadata": {},
   "outputs": [
    {
     "name": "stdout",
     "output_type": "stream",
     "text": [
      "['Mairzy', 'doats', 'or', 'dozy', 'doats', 'and', 'liddle', 'lamzy', 'divey', 'A', 'kiddley', 'divey', 'too,', \"wouldn't\", 'you?']"
     ]
    }
   ],
   "source": [
    "sent2 = sent1[:]\n",
    "print(sent2, end = '')"
   ]
  },
  {
   "cell_type": "code",
   "execution_count": 54,
   "id": "b8f1aa13",
   "metadata": {},
   "outputs": [
    {
     "name": "stdout",
     "output_type": "stream",
     "text": [
      "['Mairzy', 'what', 'or', 'dozy', 'doats', 'and', 'liddle', 'lamzy', 'divey', 'A', 'kiddley', 'divey', 'too,', \"wouldn't\", 'you?']"
     ]
    }
   ],
   "source": [
    "sent2[1] = 'what'\n",
    "print(sent2, end = '')"
   ]
  },
  {
   "cell_type": "code",
   "execution_count": 55,
   "id": "f64bf689",
   "metadata": {},
   "outputs": [
    {
     "name": "stdout",
     "output_type": "stream",
     "text": [
      "['Mairzy', 'doats', 'or', 'dozy', 'doats', 'and', 'liddle', 'lamzy', 'divey', 'A', 'kiddley', 'divey', 'too,', \"wouldn't\", 'you?']"
     ]
    }
   ],
   "source": [
    "print(sent1, end = '')"
   ]
  },
  {
   "cell_type": "code",
   "execution_count": 56,
   "id": "d6990967",
   "metadata": {},
   "outputs": [
    {
     "name": "stdout",
     "output_type": "stream",
     "text": [
      "[['Mairzy', 'doats', 'and', 'dozy', 'doats', 'and', 'liddle', 'lamzy', 'divey'], ['A', 'Monty', 'divey', 'too,', \"wouldn't\", 'you?']]"
     ]
    }
   ],
   "source": [
    "sentA = \"Mairzy doats and dozy doats and liddle lamzy divey\"\n",
    "sentB = \"A kiddley divey too, wouldn't you?\"\n",
    "\n",
    "text1 = [sentA.split(), sentB.split()]\n",
    "text2 = text1[:]\n",
    "\n",
    "text1[1][1] = 'Monty'\n",
    "\n",
    "print(text2, end = '')"
   ]
  },
  {
   "cell_type": "code",
   "execution_count": 58,
   "id": "0037d400",
   "metadata": {},
   "outputs": [
    {
     "name": "stdout",
     "output_type": "stream",
     "text": [
      "[['Mairzy', 'doats', 'and', 'dozy', 'doats', 'and', 'liddle', 'lamzy', 'divey'], ['A', 'kiddley', 'divey', 'too,', \"wouldn't\", 'you?']]"
     ]
    }
   ],
   "source": [
    "sentA = \"Mairzy doats and dozy doats and liddle lamzy divey\"\n",
    "sentB = \"A kiddley divey too, wouldn't you?\"\n",
    "\n",
    "text1 = [sentA.split(), sentB.split()]\n",
    "text2 = [text1[0][:], text1[1][:]]\n",
    "\n",
    "text1[1][1] = 'Monty'\n",
    "\n",
    "print(text2, end = '')\n",
    "\n",
    "# if we explicitely make shallow copies of the lists in the list of lists, then the changeds will not be replicated"
   ]
  },
  {
   "cell_type": "code",
   "execution_count": 59,
   "id": "d0626649",
   "metadata": {},
   "outputs": [],
   "source": [
    "from copy import deepcopy"
   ]
  },
  {
   "cell_type": "code",
   "execution_count": 60,
   "id": "d2df9fe6",
   "metadata": {},
   "outputs": [
    {
     "name": "stdout",
     "output_type": "stream",
     "text": [
      "['Mairzy', 'doats', 'and', 'dozy', 'doats', 'and', 'liddle', 'lamzy', 'divey', 'A', 'kiddley', 'divey', 'too,', \"wouldn't\", 'you?']"
     ]
    }
   ],
   "source": [
    "sent = \"Mairzy doats and dozy doats and liddle lamzy divey \" \\\n",
    "        \"A kiddley divey too, wouldn't you?\"\n",
    "sent1 = sent.split()\n",
    "sent2 = deepcopy(sent1)\n",
    "sent1[0] = \"Mares\"\n",
    "print(sent2, end = '')"
   ]
  },
  {
   "cell_type": "markdown",
   "id": "c1817e69",
   "metadata": {},
   "source": [
    "12. Initialize an n-by-m list of lists of empty strings using list multiplication, e.g.,\n",
    "word_table = [[''] * n] * m. What happens when you set one of its values, e.g.,\n",
    "word_table[1][2] = \"hello\"? Explain why this happens. Now write an expression\n",
    "using range() to construct a list of lists, and show that it does not have this problem."
   ]
  },
  {
   "cell_type": "code",
   "execution_count": 2,
   "id": "072a97b3",
   "metadata": {},
   "outputs": [],
   "source": [
    "n = 5\n",
    "m = 6\n",
    "word_table = [[''] * n] * m\n",
    "\n",
    "# we have a copy of a list containing sublitsts. \n",
    "# when we make a change to one of the sublists, the copy\n",
    "# is replicated in all of the lists which have been\n",
    "# created by copying it. "
   ]
  },
  {
   "cell_type": "code",
   "execution_count": 3,
   "id": "67b134bd",
   "metadata": {},
   "outputs": [
    {
     "data": {
      "text/plain": [
       "[['', '', '', '', ''],\n",
       " ['', '', '', '', ''],\n",
       " ['', '', '', '', ''],\n",
       " ['', '', '', '', ''],\n",
       " ['', '', '', '', ''],\n",
       " ['', '', '', '', '']]"
      ]
     },
     "execution_count": 3,
     "metadata": {},
     "output_type": "execute_result"
    }
   ],
   "source": [
    "word_table"
   ]
  },
  {
   "cell_type": "code",
   "execution_count": 4,
   "id": "dbff1348",
   "metadata": {},
   "outputs": [],
   "source": [
    "word_table[1][2] = \"hello\""
   ]
  },
  {
   "cell_type": "code",
   "execution_count": 5,
   "id": "78471b70",
   "metadata": {},
   "outputs": [
    {
     "data": {
      "text/plain": [
       "[['', '', 'hello', '', ''],\n",
       " ['', '', 'hello', '', ''],\n",
       " ['', '', 'hello', '', ''],\n",
       " ['', '', 'hello', '', ''],\n",
       " ['', '', 'hello', '', ''],\n",
       " ['', '', 'hello', '', '']]"
      ]
     },
     "execution_count": 5,
     "metadata": {},
     "output_type": "execute_result"
    }
   ],
   "source": [
    "word_table"
   ]
  },
  {
   "cell_type": "code",
   "execution_count": 6,
   "id": "bd1f3477",
   "metadata": {},
   "outputs": [],
   "source": [
    "word_table = [['' for i in range(n)] for j in range(m)]"
   ]
  },
  {
   "cell_type": "code",
   "execution_count": 7,
   "id": "5ca28b64",
   "metadata": {},
   "outputs": [
    {
     "data": {
      "text/plain": [
       "[['', '', '', '', ''],\n",
       " ['', '', '', '', ''],\n",
       " ['', '', '', '', ''],\n",
       " ['', '', '', '', ''],\n",
       " ['', '', '', '', ''],\n",
       " ['', '', '', '', '']]"
      ]
     },
     "execution_count": 7,
     "metadata": {},
     "output_type": "execute_result"
    }
   ],
   "source": [
    "word_table"
   ]
  },
  {
   "cell_type": "code",
   "execution_count": 8,
   "id": "c98d038d",
   "metadata": {},
   "outputs": [],
   "source": [
    "word_table[1][2] = \"hello\""
   ]
  },
  {
   "cell_type": "code",
   "execution_count": 9,
   "id": "c32365ba",
   "metadata": {},
   "outputs": [
    {
     "data": {
      "text/plain": [
       "[['', '', '', '', ''],\n",
       " ['', '', 'hello', '', ''],\n",
       " ['', '', '', '', ''],\n",
       " ['', '', '', '', ''],\n",
       " ['', '', '', '', ''],\n",
       " ['', '', '', '', '']]"
      ]
     },
     "execution_count": 9,
     "metadata": {},
     "output_type": "execute_result"
    }
   ],
   "source": [
    "word_table\n",
    "\n",
    "# in this case, we are creating a brand new empty string for each \n",
    "# of the iterations through n, and likewise through.\n",
    "# as the strings are not copies of each other, changes in one are\n",
    "# not reflected in the others."
   ]
  },
  {
   "cell_type": "markdown",
   "id": "c480f2df",
   "metadata": {},
   "source": [
    "13. Write code to initialize a two-dimensional array of sets called word_vowels and\n",
    "process a list of words, adding each word to word_vowels[l][v] where l is the length\n",
    "of the word and v is the number of vowels it contains."
   ]
  },
  {
   "cell_type": "code",
   "execution_count": 12,
   "id": "093afc9b",
   "metadata": {},
   "outputs": [],
   "source": [
    "def find_length_word_number_vowels(text):\n",
    "    \n",
    "    word_vowels = [set(), set()]\n",
    "    \n",
    "    for t in text:\n",
    "        word_vowels[0].add(len(t))\n",
    "        word_vowels[1].add(sum([1 for i in t if i.lower() in 'aeiou']))\n",
    "    \n",
    "    return word_vowels"
   ]
  },
  {
   "cell_type": "code",
   "execution_count": 15,
   "id": "7b287925",
   "metadata": {},
   "outputs": [
    {
     "data": {
      "text/plain": [
       "[{3, 5, 7, 34}, {1, 2, 4, 16}]"
      ]
     },
     "execution_count": 15,
     "metadata": {},
     "output_type": "execute_result"
    }
   ],
   "source": [
    "test = [\"supercalifragilisticexpialidocious\", \"eye\", \n",
    "        \"Hawai'i\", \"draft\"]\n",
    "find_length_word_number_vowels(test)\n",
    "\n",
    "# the return order is sorted.\n",
    "# the order does not necessarily match the order of the list"
   ]
  },
  {
   "cell_type": "code",
   "execution_count": 18,
   "id": "d221af89",
   "metadata": {},
   "outputs": [],
   "source": [
    "def find_length_word_number_vowels_list(text):\n",
    "    \n",
    "    word_vowels = [[], []]\n",
    "    \n",
    "    for t in text:\n",
    "        word_vowels[0].append(len(t))\n",
    "        word_vowels[1].append(sum([1 for i in t if i.lower() in 'aeiou']))\n",
    "    \n",
    "    return word_vowels"
   ]
  },
  {
   "cell_type": "code",
   "execution_count": 19,
   "id": "d6aede4d",
   "metadata": {},
   "outputs": [
    {
     "data": {
      "text/plain": [
       "[[34, 3, 7, 5], [16, 2, 4, 1]]"
      ]
     },
     "execution_count": 19,
     "metadata": {},
     "output_type": "execute_result"
    }
   ],
   "source": [
    "test = [\"supercalifragilisticexpialidocious\", \"eye\", \n",
    "        \"Hawai'i\", \"draft\"]\n",
    "find_length_word_number_vowels_list(test)"
   ]
  },
  {
   "cell_type": "markdown",
   "id": "80989a97",
   "metadata": {},
   "source": [
    "14. Write a function novel10(text) that prints any word that appeared in the last\n",
    "10% of a text that had not been encountered earlier."
   ]
  },
  {
   "cell_type": "code",
   "execution_count": 29,
   "id": "c0ed88c0",
   "metadata": {},
   "outputs": [],
   "source": [
    "def novel10(wordlist):\n",
    "    ptr = int(len(wordlist) * 0.9)\n",
    "    words = set()\n",
    "    for i in range(ptr):\n",
    "        words.add(wordlist[i])\n",
    "    res = []\n",
    "    for i in range(ptr, len(wordlist)):\n",
    "        if wordlist[i] not in words:\n",
    "            res.append(wordlist[i])\n",
    "    return res"
   ]
  },
  {
   "cell_type": "code",
   "execution_count": 22,
   "id": "90e6e9c4",
   "metadata": {},
   "outputs": [],
   "source": [
    "from urllib import request\n",
    "from nltk import word_tokenize"
   ]
  },
  {
   "cell_type": "code",
   "execution_count": 23,
   "id": "fb554677",
   "metadata": {},
   "outputs": [],
   "source": [
    "url = 'http://www.gutenberg.org/cache/epub/42324/pg42324.txt'"
   ]
  },
  {
   "cell_type": "code",
   "execution_count": 24,
   "id": "7e0fa9d7",
   "metadata": {},
   "outputs": [],
   "source": [
    "frank = request.urlopen(url).read().decode('utf8')"
   ]
  },
  {
   "cell_type": "code",
   "execution_count": 25,
   "id": "ee98600d",
   "metadata": {},
   "outputs": [],
   "source": [
    "frank = word_tokenize(frank)[115:90732]"
   ]
  },
  {
   "cell_type": "code",
   "execution_count": 30,
   "id": "365554ad",
   "metadata": {},
   "outputs": [
    {
     "name": "stdout",
     "output_type": "stream",
     "text": [
      "['adjuration', 'approved', 'furies', 'choked', 're-echoed', 'Surely', 'Guided', 'Mediterranean', 'Black', 'Amidst', 'Tartary', 'evaded', 'snows', 'Cold', 'murmured', 'extricate', 'repast', 'inspirited', 'invoked', 'bedim']\n"
     ]
    }
   ],
   "source": [
    "print(novel10(frank)[:20])"
   ]
  },
  {
   "cell_type": "markdown",
   "id": "f6a9ba8b",
   "metadata": {},
   "source": [
    "15. Write a program that takes a sentence expressed as a single string, splits it, and\n",
    "counts up the words. Get it to print out each word and the word’s frequency, one\n",
    "per line, in alphabetical order."
   ]
  },
  {
   "cell_type": "code",
   "execution_count": 33,
   "id": "0661f066",
   "metadata": {},
   "outputs": [],
   "source": [
    "def print_words_and_frequency(text): \n",
    "    tokens = word_tokenize(text)\n",
    "    words = [t.lower() for t in tokens if t.isalpha()]\n",
    "    ordered = sorted(set([(w, v) for w, v in nltk.FreqDist(words).items()]))\n",
    "    \n",
    "    width = max([len(w) for w, _ in ordered]) + 2\n",
    "    width_counts = max([len(str(v)) for _, v in ordered])\n",
    "    \n",
    "    for w, v in ordered:\n",
    "        print(\"{}:{}{:>{}}\".format(w, ' ' * (width - len(w)),\n",
    "                                    v, width_counts))"
   ]
  },
  {
   "cell_type": "code",
   "execution_count": 34,
   "id": "f938faf4",
   "metadata": {},
   "outputs": [
    {
     "name": "stdout",
     "output_type": "stream",
     "text": [
      "if:        1\n",
      "police:   12\n",
      "polices:   1\n",
      "the:       1\n",
      "who:       1\n"
     ]
    }
   ],
   "source": [
    "test = \"If police police police police, who polices the police police? \" \\\n",
    "       \"Police police police police police police.\"\n",
    "\n",
    "print_words_and_frequency(test)"
   ]
  },
  {
   "cell_type": "markdown",
   "id": "fa6b541c",
   "metadata": {},
   "source": [
    "16. Read up on Gematria, a method for assigning numbers to words, and for mapping\n",
    "between words having the same number to discover the hidden meaning of texts\n",
    "(http://en.wikipedia.org/wiki/Gematria, http://essenes.net/gemcal.htm).\n",
    "\n",
    "a. Write a function gematria() that sums the numerical values of the letters of a\n",
    "word, according to the letter values in letter_vals:\n",
    "\n",
    "letter_vals = {'a':1, 'b':2, 'c':3, 'd':4, 'e':5, 'f':80, 'g':3, 'h':8,\n",
    "... 'i':10, 'j':10, 'k':20, 'l':30, 'm':40, 'n':50, 'o':70, 'p':80, 'q':100,\n",
    "... 'r':200, 's':300, 't':400, 'u':6, 'v':6, 'w':800, 'x':60, 'y':10, 'z':7}\n",
    "\n",
    "b. Process a corpus (e.g., nltk.corpus.state_union) and for each document,\n",
    "count how many of its words have the number 666.\n",
    "\n",
    "c. Write a function decode() to process a text, randomly replacing words with\n",
    "their Gematria equivalents, in order to discover the “hidden meaning” of the\n",
    "text."
   ]
  },
  {
   "cell_type": "code",
   "execution_count": 36,
   "id": "b3e034e3",
   "metadata": {},
   "outputs": [],
   "source": [
    "letter_vals = {'a':1, 'b':2, 'c':3, 'd':4, 'e':5, 'f':80, 'g':3, 'h':8,\n",
    "               'i':10, 'j':10, 'k':20, 'l':30, 'm':40, 'n':50, 'o':70, \n",
    "               'p':80, 'q':100, 'r':200, 's':300, 't':400, 'u':6,\n",
    "               'v':6, 'w':800, 'x':60, 'y':10, 'z':7}"
   ]
  },
  {
   "cell_type": "code",
   "execution_count": 43,
   "id": "43c5163d",
   "metadata": {},
   "outputs": [],
   "source": [
    "def gematria(word, vals = letter_vals):\n",
    "    return sum([vals[i.lower()] for i in word if i in vals])"
   ]
  },
  {
   "cell_type": "code",
   "execution_count": 44,
   "id": "ac2e4427",
   "metadata": {},
   "outputs": [
    {
     "data": {
      "text/plain": [
       "1074"
      ]
     },
     "execution_count": 44,
     "metadata": {},
     "output_type": "execute_result"
    }
   ],
   "source": [
    "gematria('word')"
   ]
  },
  {
   "cell_type": "code",
   "execution_count": 45,
   "id": "9fb5a340",
   "metadata": {},
   "outputs": [],
   "source": [
    "su = nltk.corpus.state_union"
   ]
  },
  {
   "cell_type": "code",
   "execution_count": 46,
   "id": "1351f5a2",
   "metadata": {},
   "outputs": [],
   "source": [
    "width = max(len(u[5:-4]) for u in su.fileids())"
   ]
  },
  {
   "cell_type": "code",
   "execution_count": 47,
   "id": "1eebe89a",
   "metadata": {},
   "outputs": [],
   "source": [
    "devil_words = [sum([1 for w in su.words(u) if gematria(w) == 666]) for u in su.fileids()]"
   ]
  },
  {
   "cell_type": "code",
   "execution_count": 50,
   "id": "008a5470",
   "metadata": {},
   "outputs": [
    {
     "name": "stdout",
     "output_type": "stream",
     "text": [
      "1945-Truman Truman:      2\n",
      "1946-Truman Truman:     20\n",
      "1947-Truman Truman:      1\n",
      "1948-Truman Truman:      3\n",
      "1949-Truman Truman:      2\n",
      "1950-Truman Truman:      1\n",
      "1951-Truman Truman:      0\n",
      "1953-Eisenhower Eisenhower:  1\n",
      "1954-Eisenhower Eisenhower:  6\n",
      "1955-Eisenhower Eisenhower:  5\n",
      "1956-Eisenhower Eisenhower:  1\n",
      "1957-Eisenhower Eisenhower:  2\n",
      "1958-Eisenhower Eisenhower:  5\n",
      "1959-Eisenhower Eisenhower:  1\n",
      "1960-Eisenhower Eisenhower:  5\n",
      "1961-Kennedy Kennedy:     0\n",
      "1962-Kennedy Kennedy:     4\n",
      "1963-Johnson Johnson:     0\n",
      "1963-Kennedy Kennedy:     3\n",
      "1964-Johnson Johnson:     1\n",
      "1965-Johnson-1 Johnson-1:   0\n",
      "1965-Johnson-2 Johnson-2:   0\n",
      "1966-Johnson Johnson:     0\n",
      "1967-Johnson Johnson:     2\n",
      "1968-Johnson Johnson:     3\n",
      "1969-Johnson Johnson:     0\n",
      "1970-Nixon Nixon:       0\n",
      "1971-Nixon Nixon:       1\n",
      "1972-Nixon Nixon:       0\n",
      "1973-Nixon Nixon:       1\n",
      "1974-Nixon Nixon:       0\n",
      "1975-Ford Ford:        0\n",
      "1976-Ford Ford:        3\n",
      "1977-Ford Ford:        0\n",
      "1978-Carter Carter:      1\n",
      "1979-Carter Carter:      2\n",
      "1980-Carter Carter:      0\n",
      "1981-Reagan Reagan:      4\n",
      "1982-Reagan Reagan:      0\n",
      "1983-Reagan Reagan:      2\n",
      "1984-Reagan Reagan:      1\n",
      "1985-Reagan Reagan:      1\n",
      "1986-Reagan Reagan:      1\n",
      "1987-Reagan Reagan:      1\n",
      "1988-Reagan Reagan:      2\n",
      "1989-Bush Bush:        2\n",
      "1990-Bush Bush:        2\n",
      "1991-Bush-1 Bush-1:      0\n",
      "1991-Bush-2 Bush-2:      0\n",
      "1992-Bush Bush:        3\n",
      "1993-Clinton Clinton:     1\n",
      "1994-Clinton Clinton:     2\n",
      "1995-Clinton Clinton:     1\n",
      "1996-Clinton Clinton:     1\n",
      "1997-Clinton Clinton:     1\n",
      "1998-Clinton Clinton:     4\n",
      "1999-Clinton Clinton:     1\n",
      "2000-Clinton Clinton:     3\n",
      "2001-GWBush-1 GWBush-1:    1\n",
      "2001-GWBush-2 GWBush-2:    0\n",
      "2002-GWBush GWBush:      0\n",
      "2003-GWBush GWBush:      3\n",
      "2004-GWBush GWBush:      2\n",
      "2005-GWBush GWBush:      2\n",
      "2006-GWBush GWBush:      0\n"
     ]
    }
   ],
   "source": [
    "for u, w in zip(su.fileids(), devil_words):\n",
    "    print(u[:-4], u[5:-4] + ':' + \" \" * (width - len(u[5:-4])),\n",
    "         \"{:>2}\".format(w))"
   ]
  },
  {
   "cell_type": "code",
   "execution_count": 54,
   "id": "7ec0d85c",
   "metadata": {},
   "outputs": [],
   "source": [
    "import random"
   ]
  },
  {
   "cell_type": "code",
   "execution_count": 55,
   "id": "33c35064",
   "metadata": {},
   "outputs": [],
   "source": [
    "def join_punctuation(text, characters = [\"'\", '’', ')', ',', '.', ':', ';', '?', '!', ']', \"''\"]):\n",
    "    text = iter(text)\n",
    "    current = next(text)\n",
    "    \n",
    "    for nxt in text:\n",
    "        if nxt in characters:\n",
    "            current += nxt\n",
    "        else:\n",
    "            yield current\n",
    "            current = nxt\n",
    "    yield current"
   ]
  },
  {
   "cell_type": "code",
   "execution_count": 56,
   "id": "b0da1e2f",
   "metadata": {},
   "outputs": [],
   "source": [
    "def decode(text, n = 10):\n",
    "    if type(text) == str:\n",
    "        cp = word_tokenize(text)\n",
    "    elif type(text) == list:\n",
    "        cp = text[:]\n",
    "    else:\n",
    "        cp = list(text[:])\n",
    "    \n",
    "    for i in range(len(cp)):\n",
    "        if random.random() <= n/100:\n",
    "            cp[i] = str(gematria(cp[i]))\n",
    "    return ' '.join(join_punctuation(cp))"
   ]
  },
  {
   "cell_type": "code",
   "execution_count": 57,
   "id": "a498257e",
   "metadata": {},
   "outputs": [
    {
     "data": {
      "text/plain": [
       "'This is just a 1105 to see 90 50 code 870 work'"
      ]
     },
     "execution_count": 57,
     "metadata": {},
     "output_type": "execute_result"
    }
   ],
   "source": [
    "decode(\"This is just a test to see if my code will work\", 25)"
   ]
  },
  {
   "cell_type": "code",
   "execution_count": 58,
   "id": "d445fda1",
   "metadata": {},
   "outputs": [
    {
     "data": {
      "text/plain": [
       "\"PRESIDENT 0 W 0 0' S ADDRESS BEFORE A JOINT SESSION OF 0 CONGRESS ON THE 0 0 THE UNION January 0, 2006 THE PRESIDENT 0 79 you 61. Mr. Speaker, 18 President Cheney, members of Congress 0 592 of the Supreme Court and 648 corps 0 distinguished guests 0 and fellow 785: 85 276 nation lost a beloved, graceful, courageous woman 878 73 America 470 its 273 ideals and carried on a noble dream 0 541 we 206 comforted by the hope 150 a glad reunion 1218 413 husband 878 1101 taken so long 74 0 and we are 725 350 the good life 150 Coretta 873 63 0 ( Applause .) 974 283 W. Bush 909 to applause during his State of 413 Union Address at the Capitol 0 Tuesday, 51. 0, 2006 0 White 381 photo by Eric 707 time I 0 40 485 to 718 1216, I 0 m humbled 12 413 privilege, and mindful of the history 805 0 11 360 together. We 20 626 265 718 Capitol dome in 905 of national 429 and national achievement. We 20 served 259 through 125 of the most consequential periods of our history -- and 410 has been 50 honor 470 serve w\""
      ]
     },
     "execution_count": 58,
     "metadata": {},
     "output_type": "execute_result"
    }
   ],
   "source": [
    "decode(su.words('2006-GWBush.txt'), 33)[:1000]"
   ]
  },
  {
   "cell_type": "code",
   "execution_count": 59,
   "id": "c14a4931",
   "metadata": {},
   "outputs": [
    {
     "data": {
      "text/plain": [
       "'0 Emma by Jane Austen 1816] 0 0 0 I Emma 533, handsome, clever, 55 rich 0 with 1 comfortable home and happy disposition 0 seemed 470 unite 415 150 the best 1000 150 existence 0 55 13 lived 296 1665 - 125 years in the world with 221 little to 1519 or vex her. She was the 844 of the two 927 of a 810 affectionate 0 indulgent father; and had, 60 consequence of her sister 0 s 460 0 62 mistress 150 his 389 390 a 221 246 period. Her mother had died 540 long ago for her 470 have more than 51 indistinct remembrance of her 1114; 55 213 place 13 62 supplied by an excellent 961 301 governess 0 878 had fallen 875 short of a mother in affection. Sixteen years 13 Miss Taylor 62 in 200. 533 0 s family, less 301 1 governess than a friend, very fond of both 927, but particularly of 81 0 1265 _them_ it was more 413 intimacy of sisters. Even before Miss Taylor had 318 to hold the nominal office of 939 0 the mildness of 213 temper 13 hardly allowed 213 to impose any restraint; and the shadow of authority b'"
      ]
     },
     "execution_count": 59,
     "metadata": {},
     "output_type": "execute_result"
    }
   ],
   "source": [
    "decode(nltk.corpus.gutenberg.words('austen-emma.txt'), 30)[:1000]"
   ]
  },
  {
   "cell_type": "code",
   "execution_count": null,
   "id": "8be4ebea",
   "metadata": {},
   "outputs": [],
   "source": []
  }
 ],
 "metadata": {
  "kernelspec": {
   "display_name": "Python 3 (ipykernel)",
   "language": "python",
   "name": "python3"
  },
  "language_info": {
   "codemirror_mode": {
    "name": "ipython",
    "version": 3
   },
   "file_extension": ".py",
   "mimetype": "text/x-python",
   "name": "python",
   "nbconvert_exporter": "python",
   "pygments_lexer": "ipython3",
   "version": "3.10.12"
  }
 },
 "nbformat": 4,
 "nbformat_minor": 5
}
