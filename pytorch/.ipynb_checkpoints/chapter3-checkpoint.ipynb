{
 "cells": [
  {
   "cell_type": "code",
   "execution_count": 1,
   "id": "9699345d",
   "metadata": {},
   "outputs": [],
   "source": [
    "import csv\n",
    "import numpy as np\n",
    "import torch"
   ]
  },
  {
   "cell_type": "markdown",
   "id": "a3c7ac3d",
   "metadata": {},
   "source": [
    "### Tabular Data"
   ]
  },
  {
   "cell_type": "code",
   "execution_count": 2,
   "id": "b21b5963",
   "metadata": {},
   "outputs": [],
   "source": [
    "wine_path = \"data/winequality-white.csv\""
   ]
  },
  {
   "cell_type": "code",
   "execution_count": 4,
   "id": "5235a3fe",
   "metadata": {},
   "outputs": [],
   "source": [
    "wineq_numpy = np.loadtxt(wine_path, dtype = np.float32, delimiter = \";\",\n",
    "                        skiprows = 1)"
   ]
  },
  {
   "cell_type": "code",
   "execution_count": 5,
   "id": "6e51268a",
   "metadata": {},
   "outputs": [
    {
     "data": {
      "text/plain": [
       "array([[ 7.  ,  0.27,  0.36, ...,  0.45,  8.8 ,  6.  ],\n",
       "       [ 6.3 ,  0.3 ,  0.34, ...,  0.49,  9.5 ,  6.  ],\n",
       "       [ 8.1 ,  0.28,  0.4 , ...,  0.44, 10.1 ,  6.  ],\n",
       "       ...,\n",
       "       [ 6.5 ,  0.24,  0.19, ...,  0.46,  9.4 ,  6.  ],\n",
       "       [ 5.5 ,  0.29,  0.3 , ...,  0.38, 12.8 ,  7.  ],\n",
       "       [ 6.  ,  0.21,  0.38, ...,  0.32, 11.8 ,  6.  ]], dtype=float32)"
      ]
     },
     "execution_count": 5,
     "metadata": {},
     "output_type": "execute_result"
    }
   ],
   "source": [
    "wineq_numpy"
   ]
  },
  {
   "cell_type": "code",
   "execution_count": 6,
   "id": "e8f777c0",
   "metadata": {},
   "outputs": [],
   "source": [
    "col_list = next(csv.reader(open(wine_path), delimiter = ';'))"
   ]
  },
  {
   "cell_type": "code",
   "execution_count": 8,
   "id": "00c03daa",
   "metadata": {},
   "outputs": [
    {
     "data": {
      "text/plain": [
       "((4898, 12),\n",
       " ['fixed acidity',\n",
       "  'volatile acidity',\n",
       "  'citric acid',\n",
       "  'residual sugar',\n",
       "  'chlorides',\n",
       "  'free sulfur dioxide',\n",
       "  'total sulfur dioxide',\n",
       "  'density',\n",
       "  'pH',\n",
       "  'sulphates',\n",
       "  'alcohol',\n",
       "  'quality'])"
      ]
     },
     "execution_count": 8,
     "metadata": {},
     "output_type": "execute_result"
    }
   ],
   "source": [
    "wineq_numpy.shape, col_list"
   ]
  },
  {
   "cell_type": "code",
   "execution_count": 10,
   "id": "ba59de1e",
   "metadata": {},
   "outputs": [],
   "source": [
    "## convert the NumPy array to a PyTorch tensor\n",
    "\n",
    "wineq = torch.from_numpy(wineq_numpy)"
   ]
  },
  {
   "cell_type": "code",
   "execution_count": 12,
   "id": "ebd8c84c",
   "metadata": {},
   "outputs": [
    {
     "data": {
      "text/plain": [
       "(torch.Size([4898, 12]), 'torch.FloatTensor')"
      ]
     },
     "execution_count": 12,
     "metadata": {},
     "output_type": "execute_result"
    }
   ],
   "source": [
    "wineq.shape, wineq.type()"
   ]
  },
  {
   "cell_type": "code",
   "execution_count": 13,
   "id": "b2b0ecb2",
   "metadata": {},
   "outputs": [],
   "source": [
    "data = wineq[:,:-1]"
   ]
  },
  {
   "cell_type": "code",
   "execution_count": 14,
   "id": "6fc2138c",
   "metadata": {},
   "outputs": [
    {
     "data": {
      "text/plain": [
       "(tensor([[ 7.0000,  0.2700,  0.3600,  ...,  3.0000,  0.4500,  8.8000],\n",
       "         [ 6.3000,  0.3000,  0.3400,  ...,  3.3000,  0.4900,  9.5000],\n",
       "         [ 8.1000,  0.2800,  0.4000,  ...,  3.2600,  0.4400, 10.1000],\n",
       "         ...,\n",
       "         [ 6.5000,  0.2400,  0.1900,  ...,  2.9900,  0.4600,  9.4000],\n",
       "         [ 5.5000,  0.2900,  0.3000,  ...,  3.3400,  0.3800, 12.8000],\n",
       "         [ 6.0000,  0.2100,  0.3800,  ...,  3.2600,  0.3200, 11.8000]]),\n",
       " torch.Size([4898, 11]))"
      ]
     },
     "execution_count": 14,
     "metadata": {},
     "output_type": "execute_result"
    }
   ],
   "source": [
    "data, data.shape"
   ]
  },
  {
   "cell_type": "code",
   "execution_count": 19,
   "id": "57d34390",
   "metadata": {},
   "outputs": [],
   "source": [
    "target = wineq[:, -1].long()"
   ]
  },
  {
   "cell_type": "code",
   "execution_count": 20,
   "id": "c4c1f65e",
   "metadata": {},
   "outputs": [
    {
     "data": {
      "text/plain": [
       "(tensor([6, 6, 6,  ..., 6, 7, 6]), torch.Size([4898]))"
      ]
     },
     "execution_count": 20,
     "metadata": {},
     "output_type": "execute_result"
    }
   ],
   "source": [
    "target, target.shape"
   ]
  },
  {
   "cell_type": "code",
   "execution_count": 32,
   "id": "e666b9c2",
   "metadata": {},
   "outputs": [
    {
     "data": {
      "text/plain": [
       "torch.Size([4898, 1])"
      ]
     },
     "execution_count": 32,
     "metadata": {},
     "output_type": "execute_result"
    }
   ],
   "source": [
    "target.unsqueeze(1).shape"
   ]
  },
  {
   "cell_type": "code",
   "execution_count": 21,
   "id": "3e6e2559",
   "metadata": {},
   "outputs": [
    {
     "data": {
      "text/plain": [
       "tensor([[6],\n",
       "        [6],\n",
       "        [6],\n",
       "        ...,\n",
       "        [6],\n",
       "        [7],\n",
       "        [6]])"
      ]
     },
     "execution_count": 21,
     "metadata": {},
     "output_type": "execute_result"
    }
   ],
   "source": [
    "target.unsqueeze(1)"
   ]
  },
  {
   "cell_type": "code",
   "execution_count": 33,
   "id": "1906eaa5",
   "metadata": {},
   "outputs": [
    {
     "data": {
      "text/plain": [
       "tensor([[6, 6, 6,  ..., 6, 7, 6]])"
      ]
     },
     "execution_count": 33,
     "metadata": {},
     "output_type": "execute_result"
    }
   ],
   "source": [
    "target.unsqueeze(0)"
   ]
  },
  {
   "cell_type": "code",
   "execution_count": 34,
   "id": "3a0b58c9",
   "metadata": {},
   "outputs": [
    {
     "data": {
      "text/plain": [
       "torch.Size([1, 4898])"
      ]
     },
     "execution_count": 34,
     "metadata": {},
     "output_type": "execute_result"
    }
   ],
   "source": [
    "target.unsqueeze(0).shape"
   ]
  },
  {
   "cell_type": "code",
   "execution_count": 31,
   "id": "d10b1430",
   "metadata": {},
   "outputs": [
    {
     "data": {
      "text/plain": [
       "tensor([[0., 0., 0.,  ..., 0., 0., 0.],\n",
       "        [0., 0., 0.,  ..., 0., 0., 0.],\n",
       "        [0., 0., 0.,  ..., 0., 0., 0.],\n",
       "        ...,\n",
       "        [0., 0., 0.,  ..., 0., 0., 0.],\n",
       "        [0., 0., 0.,  ..., 2., 0., 0.],\n",
       "        [0., 0., 0.,  ..., 0., 0., 0.]])"
      ]
     },
     "execution_count": 31,
     "metadata": {},
     "output_type": "execute_result"
    }
   ],
   "source": [
    "target_onehot = torch.zeros(target.shape[0], 10)\n",
    "target_onehot.scatter_(1, target.unsqueeze(1), 2.0)"
   ]
  },
  {
   "cell_type": "code",
   "execution_count": 26,
   "id": "1c814d7f",
   "metadata": {},
   "outputs": [
    {
     "data": {
      "text/plain": [
       "tensor([[0., 0., 0.,  ..., 0., 0., 0.],\n",
       "        [0., 0., 0.,  ..., 0., 0., 0.],\n",
       "        [0., 0., 0.,  ..., 0., 0., 0.],\n",
       "        ...,\n",
       "        [0., 0., 0.,  ..., 0., 0., 0.],\n",
       "        [0., 0., 0.,  ..., 1., 0., 0.],\n",
       "        [0., 0., 0.,  ..., 0., 0., 0.]])"
      ]
     },
     "execution_count": 26,
     "metadata": {},
     "output_type": "execute_result"
    }
   ],
   "source": [
    "target_onehot.scatter_(0, target.unsqueeze(1), 2.0)"
   ]
  },
  {
   "cell_type": "code",
   "execution_count": 29,
   "id": "aad72d5b",
   "metadata": {},
   "outputs": [
    {
     "data": {
      "text/plain": [
       "torch.Size([4898, 10])"
      ]
     },
     "execution_count": 29,
     "metadata": {},
     "output_type": "execute_result"
    }
   ],
   "source": [
    "target_onehot.shape"
   ]
  },
  {
   "cell_type": "markdown",
   "id": "bd53226b",
   "metadata": {},
   "source": [
    "#### normalize data to speed up learning process"
   ]
  },
  {
   "cell_type": "code",
   "execution_count": 35,
   "id": "1261c301",
   "metadata": {},
   "outputs": [],
   "source": [
    "data_mean = torch.mean(data, axis = 0)"
   ]
  },
  {
   "cell_type": "code",
   "execution_count": 36,
   "id": "cf44f5fb",
   "metadata": {},
   "outputs": [
    {
     "data": {
      "text/plain": [
       "torch.Size([11])"
      ]
     },
     "execution_count": 36,
     "metadata": {},
     "output_type": "execute_result"
    }
   ],
   "source": [
    "data_mean.shape"
   ]
  },
  {
   "cell_type": "code",
   "execution_count": 38,
   "id": "62347e25",
   "metadata": {},
   "outputs": [],
   "source": [
    "data_var = torch.var(data, axis = 0)"
   ]
  },
  {
   "cell_type": "code",
   "execution_count": 39,
   "id": "e1d1ccb3",
   "metadata": {},
   "outputs": [
    {
     "data": {
      "text/plain": [
       "tensor([7.1211e-01, 1.0160e-02, 1.4646e-02, 2.5726e+01, 4.7733e-04, 2.8924e+02,\n",
       "        1.8061e+03, 8.9455e-06, 2.2801e-02, 1.3025e-02, 1.5144e+00])"
      ]
     },
     "execution_count": 39,
     "metadata": {},
     "output_type": "execute_result"
    }
   ],
   "source": [
    "data_var "
   ]
  },
  {
   "cell_type": "code",
   "execution_count": 40,
   "id": "c9174d79",
   "metadata": {},
   "outputs": [],
   "source": [
    "data_normalized = (data - data_mean)/ torch.sqrt(data_var)"
   ]
  },
  {
   "cell_type": "code",
   "execution_count": 41,
   "id": "589b1710",
   "metadata": {},
   "outputs": [
    {
     "data": {
      "text/plain": [
       "tensor([[ 1.7208e-01, -8.1761e-02,  2.1326e-01,  ..., -1.2468e+00,\n",
       "         -3.4915e-01, -1.3930e+00],\n",
       "        [-6.5743e-01,  2.1587e-01,  4.7996e-02,  ...,  7.3995e-01,\n",
       "          1.3422e-03, -8.2419e-01],\n",
       "        [ 1.4756e+00,  1.7450e-02,  5.4378e-01,  ...,  4.7505e-01,\n",
       "         -4.3677e-01, -3.3663e-01],\n",
       "        ...,\n",
       "        [-4.2043e-01, -3.7940e-01, -1.1915e+00,  ..., -1.3130e+00,\n",
       "         -2.6153e-01, -9.0545e-01],\n",
       "        [-1.6054e+00,  1.1666e-01, -2.8253e-01,  ...,  1.0049e+00,\n",
       "         -9.6251e-01,  1.8574e+00],\n",
       "        [-1.0129e+00, -6.7703e-01,  3.7852e-01,  ...,  4.7505e-01,\n",
       "         -1.4882e+00,  1.0448e+00]])"
      ]
     },
     "execution_count": 41,
     "metadata": {},
     "output_type": "execute_result"
    }
   ],
   "source": [
    "data_normalized"
   ]
  },
  {
   "cell_type": "markdown",
   "id": "70c8252a",
   "metadata": {},
   "source": [
    "#### look at the data with an eye to finding an easy way to tell good and bad wines apart at a glance."
   ]
  },
  {
   "cell_type": "code",
   "execution_count": 42,
   "id": "f015e659",
   "metadata": {},
   "outputs": [],
   "source": [
    "bad_indexes = torch.le(target, 3)"
   ]
  },
  {
   "cell_type": "code",
   "execution_count": 43,
   "id": "32dd9182",
   "metadata": {},
   "outputs": [
    {
     "data": {
      "text/plain": [
       "tensor([False, False, False,  ..., False, False, False])"
      ]
     },
     "execution_count": 43,
     "metadata": {},
     "output_type": "execute_result"
    }
   ],
   "source": [
    "bad_indexes"
   ]
  },
  {
   "cell_type": "code",
   "execution_count": 44,
   "id": "7473c464",
   "metadata": {},
   "outputs": [
    {
     "data": {
      "text/plain": [
       "(torch.Size([4898]), torch.bool, tensor(20))"
      ]
     },
     "execution_count": 44,
     "metadata": {},
     "output_type": "execute_result"
    }
   ],
   "source": [
    "bad_indexes.shape, bad_indexes.dtype, bad_indexes.sum()"
   ]
  },
  {
   "cell_type": "markdown",
   "id": "856fa439",
   "metadata": {},
   "source": [
    "#### By leveraging a feature in PyTorch called advanced indexing, you can use a binary tensor to index the tensor data"
   ]
  },
  {
   "cell_type": "code",
   "execution_count": 45,
   "id": "0407ab27",
   "metadata": {},
   "outputs": [],
   "source": [
    "bad_data = data[bad_indexes]"
   ]
  },
  {
   "cell_type": "code",
   "execution_count": 46,
   "id": "b2e4b342",
   "metadata": {},
   "outputs": [
    {
     "data": {
      "text/plain": [
       "torch.Size([20, 11])"
      ]
     },
     "execution_count": 46,
     "metadata": {},
     "output_type": "execute_result"
    }
   ],
   "source": [
    "bad_data.shape"
   ]
  },
  {
   "cell_type": "code",
   "execution_count": 47,
   "id": "bae622e4",
   "metadata": {},
   "outputs": [],
   "source": [
    "mid_data = data[torch.gt(target, 3) & torch.lt(target, 7)]\n",
    "good_data = data[torch.ge(target, 7)]"
   ]
  },
  {
   "cell_type": "code",
   "execution_count": 48,
   "id": "1bd03aae",
   "metadata": {},
   "outputs": [],
   "source": [
    "bad_mean = torch.mean(bad_data, axis = 0)\n",
    "mid_mean = torch.mean(mid_data, axis = 0)\n",
    "good_mean = torch.mean(good_data, axis = 0)"
   ]
  },
  {
   "cell_type": "code",
   "execution_count": 49,
   "id": "ec8152a6",
   "metadata": {},
   "outputs": [
    {
     "name": "stdout",
     "output_type": "stream",
     "text": [
      " 0 fixed acidity          7.60   6.89   6.73\n",
      " 1 volatile acidity       0.33   0.28   0.27\n",
      " 2 citric acid            0.34   0.34   0.33\n",
      " 3 residual sugar         6.39   6.71   5.26\n",
      " 4 chlorides              0.05   0.05   0.04\n",
      " 5 free sulfur dioxide   53.33  35.42  34.55\n",
      " 6 total sulfur dioxide 170.60 141.83 125.25\n",
      " 7 density                0.99   0.99   0.99\n",
      " 8 pH                     3.19   3.18   3.22\n",
      " 9 sulphates              0.47   0.49   0.50\n",
      "10 alcohol               10.34  10.26  11.42\n"
     ]
    }
   ],
   "source": [
    "for i, args in enumerate(zip(col_list, bad_mean, mid_mean, good_mean)):\n",
    "    print('{:2} {:20} {:6.2f} {:6.2f} {:6.2f}'.format(i, *args) )"
   ]
  },
  {
   "cell_type": "markdown",
   "id": "e77870d7",
   "metadata": {},
   "source": [
    "At first glance, the bad wines seem to have higher total sulfur dioxide, among other differences. You could use a threshold on total sulfur dioxide as a crude criterion for discriminating good wines from bad ones."
   ]
  },
  {
   "cell_type": "code",
   "execution_count": 50,
   "id": "f7fbe197",
   "metadata": {},
   "outputs": [],
   "source": [
    "total_sulfur_threshold = 141.83\n",
    "total_sulfur_data = data[:, 6]"
   ]
  },
  {
   "cell_type": "code",
   "execution_count": 52,
   "id": "844b5d01",
   "metadata": {},
   "outputs": [],
   "source": [
    "predicted_indexes = torch.lt(total_sulfur_data, total_sulfur_threshold)"
   ]
  },
  {
   "cell_type": "code",
   "execution_count": 53,
   "id": "f396402a",
   "metadata": {},
   "outputs": [
    {
     "data": {
      "text/plain": [
       "tensor([False,  True,  True,  ...,  True,  True,  True])"
      ]
     },
     "execution_count": 53,
     "metadata": {},
     "output_type": "execute_result"
    }
   ],
   "source": [
    "predicted_indexes"
   ]
  },
  {
   "cell_type": "code",
   "execution_count": 55,
   "id": "d02fa3ed",
   "metadata": {},
   "outputs": [
    {
     "data": {
      "text/plain": [
       "(torch.Size([4898]), torch.bool, tensor(2727))"
      ]
     },
     "execution_count": 55,
     "metadata": {},
     "output_type": "execute_result"
    }
   ],
   "source": [
    "predicted_indexes.shape, predicted_indexes.dtype, predicted_indexes.sum()"
   ]
  },
  {
   "cell_type": "code",
   "execution_count": 56,
   "id": "f77631dd",
   "metadata": {},
   "outputs": [],
   "source": [
    "actual_indexes = torch.gt(target, 5)"
   ]
  },
  {
   "cell_type": "code",
   "execution_count": 57,
   "id": "ed84df74",
   "metadata": {},
   "outputs": [
    {
     "data": {
      "text/plain": [
       "(torch.Size([4898]), torch.bool, tensor(3258))"
      ]
     },
     "execution_count": 57,
     "metadata": {},
     "output_type": "execute_result"
    }
   ],
   "source": [
    "actual_indexes.shape, actual_indexes.dtype, actual_indexes.sum()"
   ]
  },
  {
   "cell_type": "code",
   "execution_count": 58,
   "id": "daf7e70b",
   "metadata": {},
   "outputs": [],
   "source": [
    "n_matches = torch.sum(actual_indexes & predicted_indexes).item()"
   ]
  },
  {
   "cell_type": "code",
   "execution_count": 62,
   "id": "e00f459d",
   "metadata": {},
   "outputs": [],
   "source": [
    "n_predicted = torch.sum(predicted_indexes).item()"
   ]
  },
  {
   "cell_type": "code",
   "execution_count": 64,
   "id": "c424c433",
   "metadata": {},
   "outputs": [],
   "source": [
    "n_actual = torch.sum(actual_indexes).item()"
   ]
  },
  {
   "cell_type": "code",
   "execution_count": 65,
   "id": "eea7c5f7",
   "metadata": {},
   "outputs": [
    {
     "data": {
      "text/plain": [
       "(2018, 0.74000733406674, 0.6193984039287906)"
      ]
     },
     "execution_count": 65,
     "metadata": {},
     "output_type": "execute_result"
    }
   ],
   "source": [
    "n_matches, n_matches/n_predicted, n_matches/n_actual"
   ]
  },
  {
   "cell_type": "markdown",
   "id": "1cd4897e",
   "metadata": {},
   "source": [
    "### Time Series"
   ]
  },
  {
   "cell_type": "code",
   "execution_count": 103,
   "id": "4ea72487",
   "metadata": {},
   "outputs": [],
   "source": [
    "bikes_numpy = np.loadtxt(\"data/bike+sharing+dataset/hour.csv\", \n",
    "                        dtype = np.float32,\n",
    "                        delimiter = \",\",\n",
    "                        skiprows = 1,\n",
    "                        converters = {1: lambda x: float(x[8:10])}) \n",
    "# Convert date strings to numbers corresponding to the day of the month in column 1"
   ]
  },
  {
   "cell_type": "code",
   "execution_count": 104,
   "id": "21f83d8c",
   "metadata": {},
   "outputs": [],
   "source": [
    "bikes = torch.from_numpy(bikes_numpy)"
   ]
  },
  {
   "cell_type": "code",
   "execution_count": 105,
   "id": "450ffae4",
   "metadata": {},
   "outputs": [
    {
     "data": {
      "text/plain": [
       "tensor([[1.0000e+00, 1.0000e+00, 1.0000e+00,  ..., 3.0000e+00, 1.3000e+01,\n",
       "         1.6000e+01],\n",
       "        [2.0000e+00, 1.0000e+00, 1.0000e+00,  ..., 8.0000e+00, 3.2000e+01,\n",
       "         4.0000e+01],\n",
       "        [3.0000e+00, 1.0000e+00, 1.0000e+00,  ..., 5.0000e+00, 2.7000e+01,\n",
       "         3.2000e+01],\n",
       "        ...,\n",
       "        [1.7377e+04, 3.1000e+01, 1.0000e+00,  ..., 7.0000e+00, 8.3000e+01,\n",
       "         9.0000e+01],\n",
       "        [1.7378e+04, 3.1000e+01, 1.0000e+00,  ..., 1.3000e+01, 4.8000e+01,\n",
       "         6.1000e+01],\n",
       "        [1.7379e+04, 3.1000e+01, 1.0000e+00,  ..., 1.2000e+01, 3.7000e+01,\n",
       "         4.9000e+01]])"
      ]
     },
     "execution_count": 105,
     "metadata": {},
     "output_type": "execute_result"
    }
   ],
   "source": [
    "bikes"
   ]
  },
  {
   "cell_type": "code",
   "execution_count": 106,
   "id": "7b40d8a4",
   "metadata": {},
   "outputs": [
    {
     "data": {
      "text/plain": [
       "torch.Size([17379, 17])"
      ]
     },
     "execution_count": 106,
     "metadata": {},
     "output_type": "execute_result"
    }
   ],
   "source": [
    "bikes.shape"
   ]
  },
  {
   "cell_type": "code",
   "execution_count": 107,
   "id": "88e720ac",
   "metadata": {},
   "outputs": [
    {
     "data": {
      "text/plain": [
       "(17, 1)"
      ]
     },
     "execution_count": 107,
     "metadata": {},
     "output_type": "execute_result"
    }
   ],
   "source": [
    "bikes.stride()"
   ]
  },
  {
   "cell_type": "code",
   "execution_count": 108,
   "id": "963510ec",
   "metadata": {},
   "outputs": [],
   "source": [
    "ones = torch.ones(17520 - 17379, 17)"
   ]
  },
  {
   "cell_type": "code",
   "execution_count": 109,
   "id": "2d82ebfb",
   "metadata": {},
   "outputs": [
    {
     "data": {
      "text/plain": [
       "tensor([[1., 1., 1.,  ..., 1., 1., 1.],\n",
       "        [1., 1., 1.,  ..., 1., 1., 1.],\n",
       "        [1., 1., 1.,  ..., 1., 1., 1.],\n",
       "        ...,\n",
       "        [1., 1., 1.,  ..., 1., 1., 1.],\n",
       "        [1., 1., 1.,  ..., 1., 1., 1.],\n",
       "        [1., 1., 1.,  ..., 1., 1., 1.]])"
      ]
     },
     "execution_count": 109,
     "metadata": {},
     "output_type": "execute_result"
    }
   ],
   "source": [
    "ones"
   ]
  },
  {
   "cell_type": "code",
   "execution_count": 110,
   "id": "06a4f880",
   "metadata": {},
   "outputs": [],
   "source": [
    "bikes = torch.cat([bikes, ones], dim = 0)"
   ]
  },
  {
   "cell_type": "markdown",
   "id": "8370e442",
   "metadata": {},
   "source": [
    "#### reshape the data to have three axes (day, hour and then your 17 columns)"
   ]
  },
  {
   "cell_type": "code",
   "execution_count": 111,
   "id": "313a5af9",
   "metadata": {},
   "outputs": [],
   "source": [
    "daily_bikes = bikes.view(-1, 24, bikes.shape[1])"
   ]
  },
  {
   "cell_type": "code",
   "execution_count": 112,
   "id": "43ab618b",
   "metadata": {},
   "outputs": [
    {
     "data": {
      "text/plain": [
       "(torch.Size([730, 24, 17]), (408, 17, 1))"
      ]
     },
     "execution_count": 112,
     "metadata": {},
     "output_type": "execute_result"
    }
   ],
   "source": [
    "daily_bikes.shape, daily_bikes.stride()"
   ]
  },
  {
   "cell_type": "code",
   "execution_count": 113,
   "id": "426c0fbc",
   "metadata": {},
   "outputs": [],
   "source": [
    "daily_bikes = daily_bikes.transpose(1, 2)"
   ]
  },
  {
   "cell_type": "code",
   "execution_count": 114,
   "id": "0bbb10ff",
   "metadata": {},
   "outputs": [
    {
     "data": {
      "text/plain": [
       "(torch.Size([730, 17, 24]), (408, 1, 17))"
      ]
     },
     "execution_count": 114,
     "metadata": {},
     "output_type": "execute_result"
    }
   ],
   "source": [
    "daily_bikes.shape, daily_bikes.stride()"
   ]
  },
  {
   "cell_type": "code",
   "execution_count": 115,
   "id": "f0a7d9f6",
   "metadata": {},
   "outputs": [],
   "source": [
    "first_day = bikes[:24].long()"
   ]
  },
  {
   "cell_type": "code",
   "execution_count": 116,
   "id": "b13368db",
   "metadata": {},
   "outputs": [],
   "source": [
    "weather_onehot = torch.zeros(first_day.shape[0], 4)"
   ]
  },
  {
   "cell_type": "code",
   "execution_count": 117,
   "id": "3a0ff895",
   "metadata": {},
   "outputs": [
    {
     "data": {
      "text/plain": [
       "tensor([1, 1, 1, 1, 1, 2, 1, 1, 1, 1, 1, 1, 1, 2, 2, 2, 2, 2, 3, 3, 2, 2, 2, 2])"
      ]
     },
     "execution_count": 117,
     "metadata": {},
     "output_type": "execute_result"
    }
   ],
   "source": [
    "first_day[:, 9]"
   ]
  },
  {
   "cell_type": "code",
   "execution_count": 118,
   "id": "3fde943a",
   "metadata": {},
   "outputs": [
    {
     "data": {
      "text/plain": [
       "tensor([[1., 0., 0., 0.],\n",
       "        [1., 0., 0., 0.],\n",
       "        [1., 0., 0., 0.],\n",
       "        [1., 0., 0., 0.],\n",
       "        [1., 0., 0., 0.],\n",
       "        [0., 1., 0., 0.],\n",
       "        [1., 0., 0., 0.],\n",
       "        [1., 0., 0., 0.],\n",
       "        [1., 0., 0., 0.],\n",
       "        [1., 0., 0., 0.],\n",
       "        [1., 0., 0., 0.],\n",
       "        [1., 0., 0., 0.],\n",
       "        [1., 0., 0., 0.],\n",
       "        [0., 1., 0., 0.],\n",
       "        [0., 1., 0., 0.],\n",
       "        [0., 1., 0., 0.],\n",
       "        [0., 1., 0., 0.],\n",
       "        [0., 1., 0., 0.],\n",
       "        [0., 0., 1., 0.],\n",
       "        [0., 0., 1., 0.],\n",
       "        [0., 1., 0., 0.],\n",
       "        [0., 1., 0., 0.],\n",
       "        [0., 1., 0., 0.],\n",
       "        [0., 1., 0., 0.]])"
      ]
     },
     "execution_count": 118,
     "metadata": {},
     "output_type": "execute_result"
    }
   ],
   "source": [
    "weather_onehot.scatter_(\n",
    "    dim = 1,\n",
    "    index = first_day[:, 9].unsqueeze(1) -1,\n",
    "    value = 1\n",
    ")"
   ]
  },
  {
   "cell_type": "code",
   "execution_count": 119,
   "id": "f2627ceb",
   "metadata": {},
   "outputs": [
    {
     "data": {
      "text/plain": [
       "tensor([[ 1.0000,  1.0000,  1.0000,  0.0000,  1.0000,  0.0000,  0.0000,  6.0000,\n",
       "          0.0000,  1.0000,  0.2400,  0.2879,  0.8100,  0.0000,  3.0000, 13.0000,\n",
       "         16.0000,  1.0000,  0.0000,  0.0000,  0.0000]])"
      ]
     },
     "execution_count": 119,
     "metadata": {},
     "output_type": "execute_result"
    }
   ],
   "source": [
    "torch.cat((bikes[:24], weather_onehot), 1)[:1]"
   ]
  },
  {
   "cell_type": "code",
   "execution_count": 120,
   "id": "3b29f4b9",
   "metadata": {},
   "outputs": [
    {
     "data": {
      "text/plain": [
       "torch.Size([24, 17])"
      ]
     },
     "execution_count": 120,
     "metadata": {},
     "output_type": "execute_result"
    }
   ],
   "source": [
    "bikes[:24].shape"
   ]
  },
  {
   "cell_type": "code",
   "execution_count": 121,
   "id": "a8d573dd",
   "metadata": {},
   "outputs": [
    {
     "data": {
      "text/plain": [
       "torch.Size([24, 4])"
      ]
     },
     "execution_count": 121,
     "metadata": {},
     "output_type": "execute_result"
    }
   ],
   "source": [
    "weather_onehot.shape"
   ]
  },
  {
   "cell_type": "code",
   "execution_count": 122,
   "id": "1fbb7799",
   "metadata": {},
   "outputs": [
    {
     "data": {
      "text/plain": [
       "torch.Size([24, 21])"
      ]
     },
     "execution_count": 122,
     "metadata": {},
     "output_type": "execute_result"
    }
   ],
   "source": [
    "torch.cat((bikes[:24], weather_onehot), 1).shape"
   ]
  },
  {
   "cell_type": "code",
   "execution_count": 123,
   "id": "f8d8bc31",
   "metadata": {},
   "outputs": [
    {
     "data": {
      "text/plain": [
       "torch.Size([730, 17, 24])"
      ]
     },
     "execution_count": 123,
     "metadata": {},
     "output_type": "execute_result"
    }
   ],
   "source": [
    "daily_bikes.shape"
   ]
  },
  {
   "cell_type": "code",
   "execution_count": 124,
   "id": "13794f9d",
   "metadata": {},
   "outputs": [],
   "source": [
    "daily_weather_onehot = torch.zeros(daily_bikes.shape[0], 4, daily_bikes.shape[2])"
   ]
  },
  {
   "cell_type": "code",
   "execution_count": 125,
   "id": "44554f05",
   "metadata": {},
   "outputs": [
    {
     "data": {
      "text/plain": [
       "torch.Size([730, 4, 24])"
      ]
     },
     "execution_count": 125,
     "metadata": {},
     "output_type": "execute_result"
    }
   ],
   "source": [
    "daily_weather_onehot.shape"
   ]
  },
  {
   "cell_type": "code",
   "execution_count": 126,
   "id": "52c01520",
   "metadata": {},
   "outputs": [
    {
     "data": {
      "text/plain": [
       "(torch.Size([730, 17, 24]), (408, 1, 17))"
      ]
     },
     "execution_count": 126,
     "metadata": {},
     "output_type": "execute_result"
    }
   ],
   "source": [
    "daily_bikes.shape, daily_bikes.stride()"
   ]
  },
  {
   "cell_type": "code",
   "execution_count": 127,
   "id": "74283bbb",
   "metadata": {},
   "outputs": [
    {
     "data": {
      "text/plain": [
       "tensor([[[1., 1., 1.,  ..., 0., 0., 0.],\n",
       "         [0., 0., 0.,  ..., 1., 1., 1.],\n",
       "         [0., 0., 0.,  ..., 0., 0., 0.],\n",
       "         [0., 0., 0.,  ..., 0., 0., 0.]],\n",
       "\n",
       "        [[0., 0., 0.,  ..., 1., 1., 1.],\n",
       "         [1., 1., 1.,  ..., 0., 0., 0.],\n",
       "         [0., 0., 0.,  ..., 0., 0., 0.],\n",
       "         [0., 0., 0.,  ..., 0., 0., 0.]],\n",
       "\n",
       "        [[1., 1., 1.,  ..., 1., 1., 1.],\n",
       "         [0., 0., 0.,  ..., 0., 0., 0.],\n",
       "         [0., 0., 0.,  ..., 0., 0., 0.],\n",
       "         [0., 0., 0.,  ..., 0., 0., 0.]],\n",
       "\n",
       "        ...,\n",
       "\n",
       "        [[1., 1., 1.,  ..., 1., 1., 1.],\n",
       "         [0., 0., 0.,  ..., 0., 0., 0.],\n",
       "         [0., 0., 0.,  ..., 0., 0., 0.],\n",
       "         [0., 0., 0.,  ..., 0., 0., 0.]],\n",
       "\n",
       "        [[1., 1., 1.,  ..., 1., 1., 1.],\n",
       "         [0., 0., 0.,  ..., 0., 0., 0.],\n",
       "         [0., 0., 0.,  ..., 0., 0., 0.],\n",
       "         [0., 0., 0.,  ..., 0., 0., 0.]],\n",
       "\n",
       "        [[1., 1., 1.,  ..., 1., 1., 1.],\n",
       "         [0., 0., 0.,  ..., 0., 0., 0.],\n",
       "         [0., 0., 0.,  ..., 0., 0., 0.],\n",
       "         [0., 0., 0.,  ..., 0., 0., 0.]]])"
      ]
     },
     "execution_count": 127,
     "metadata": {},
     "output_type": "execute_result"
    }
   ],
   "source": [
    "daily_weather_onehot.scatter_(\n",
    "    dim = 1,\n",
    "    index = daily_bikes[:, 9, :].long().unsqueeze(1) - 1,\n",
    "    value = 1.0\n",
    ")"
   ]
  },
  {
   "cell_type": "code",
   "execution_count": 129,
   "id": "23b65998",
   "metadata": {},
   "outputs": [
    {
     "data": {
      "text/plain": [
       "torch.Size([730, 4, 24])"
      ]
     },
     "execution_count": 129,
     "metadata": {},
     "output_type": "execute_result"
    }
   ],
   "source": [
    "daily_weather_onehot.shape"
   ]
  },
  {
   "cell_type": "code",
   "execution_count": 130,
   "id": "7cca62d9",
   "metadata": {},
   "outputs": [],
   "source": [
    "daily_bikes = torch.cat((daily_bikes, daily_weather_onehot), dim = 1)"
   ]
  },
  {
   "cell_type": "code",
   "execution_count": 131,
   "id": "f8712a0a",
   "metadata": {},
   "outputs": [
    {
     "data": {
      "text/plain": [
       "torch.Size([730, 21, 24])"
      ]
     },
     "execution_count": 131,
     "metadata": {},
     "output_type": "execute_result"
    }
   ],
   "source": [
    "daily_bikes.shape"
   ]
  },
  {
   "cell_type": "code",
   "execution_count": 132,
   "id": "b1ffb982",
   "metadata": {},
   "outputs": [],
   "source": [
    "temp = daily_bikes[:, 10, :]"
   ]
  },
  {
   "cell_type": "code",
   "execution_count": 133,
   "id": "b6b5db40",
   "metadata": {},
   "outputs": [],
   "source": [
    "temp_min = torch.min(temp)\n",
    "temp_max = torch.max(temp)"
   ]
  },
  {
   "cell_type": "code",
   "execution_count": 134,
   "id": "5882036a",
   "metadata": {},
   "outputs": [],
   "source": [
    "daily_bikes[:, 10, :] = (daily_bikes[:, 10, :] - temp_min)/ (temp_max - temp_min)"
   ]
  },
  {
   "cell_type": "markdown",
   "id": "b00ca864",
   "metadata": {},
   "source": [
    "## Text"
   ]
  },
  {
   "cell_type": "code",
   "execution_count": 2,
   "id": "76a21b92",
   "metadata": {},
   "outputs": [],
   "source": [
    "with open(\"data/1342-0.txt\", encoding = \"utf8\") as f:\n",
    "    text = f.read()"
   ]
  },
  {
   "cell_type": "code",
   "execution_count": 3,
   "id": "672c90a5",
   "metadata": {},
   "outputs": [],
   "source": [
    "lines = text.split(\"\\n\")"
   ]
  },
  {
   "cell_type": "code",
   "execution_count": 4,
   "id": "70963e71",
   "metadata": {},
   "outputs": [],
   "source": [
    "line = lines[200]"
   ]
  },
  {
   "cell_type": "code",
   "execution_count": 5,
   "id": "d4bb6701",
   "metadata": {},
   "outputs": [
    {
     "data": {
      "text/plain": [
       "'for there was a distinctly feminine element in “Mr. Spectator,” and in'"
      ]
     },
     "execution_count": 5,
     "metadata": {},
     "output_type": "execute_result"
    }
   ],
   "source": [
    "line"
   ]
  },
  {
   "cell_type": "code",
   "execution_count": 6,
   "id": "2494e6ae",
   "metadata": {},
   "outputs": [],
   "source": [
    "letter_tensor = torch.zeros(len(line), 128)"
   ]
  },
  {
   "cell_type": "code",
   "execution_count": 7,
   "id": "2b12af74",
   "metadata": {},
   "outputs": [
    {
     "data": {
      "text/plain": [
       "torch.Size([70, 128])"
      ]
     },
     "execution_count": 7,
     "metadata": {},
     "output_type": "execute_result"
    }
   ],
   "source": [
    "letter_tensor.shape"
   ]
  },
  {
   "cell_type": "code",
   "execution_count": 9,
   "id": "f2ca79aa",
   "metadata": {},
   "outputs": [],
   "source": [
    "for i, letter in enumerate(line.lower().strip()):\n",
    "    letter_index = ord(letter) if ord(letter) < 128 else 0\n",
    "    letter_tensor[i][letter_index] = 1"
   ]
  },
  {
   "cell_type": "code",
   "execution_count": 13,
   "id": "d68373e1",
   "metadata": {},
   "outputs": [],
   "source": [
    "def clean_words(input_str):\n",
    "    punctuation = '.,;:\"!?\"_-'\n",
    "    word_list = input_str.lower().replace('\\n', ' ').split()\n",
    "    word_list = [word.strip(punctuation) for word in word_list]\n",
    "    return word_list"
   ]
  },
  {
   "cell_type": "code",
   "execution_count": 14,
   "id": "c2cc1c1d",
   "metadata": {},
   "outputs": [],
   "source": [
    "word_in_line = clean_words(line)"
   ]
  },
  {
   "cell_type": "code",
   "execution_count": 15,
   "id": "0c93de56",
   "metadata": {},
   "outputs": [
    {
     "data": {
      "text/plain": [
       "('for there was a distinctly feminine element in “Mr. Spectator,” and in',\n",
       " ['for',\n",
       "  'there',\n",
       "  'was',\n",
       "  'a',\n",
       "  'distinctly',\n",
       "  'feminine',\n",
       "  'element',\n",
       "  'in',\n",
       "  '“mr',\n",
       "  'spectator,”',\n",
       "  'and',\n",
       "  'in'])"
      ]
     },
     "execution_count": 15,
     "metadata": {},
     "output_type": "execute_result"
    }
   ],
   "source": [
    "line, word_in_line"
   ]
  },
  {
   "cell_type": "code",
   "execution_count": 16,
   "id": "74a793bc",
   "metadata": {},
   "outputs": [],
   "source": [
    "word_list = sorted(set(clean_words(text)))\n",
    "word2index_dict = {word: i for (i, word) in enumerate(word_list)}"
   ]
  },
  {
   "cell_type": "code",
   "execution_count": 17,
   "id": "84d29015",
   "metadata": {},
   "outputs": [
    {
     "data": {
      "text/plain": [
       "9109"
      ]
     },
     "execution_count": 17,
     "metadata": {},
     "output_type": "execute_result"
    }
   ],
   "source": [
    "len(word2index_dict)"
   ]
  },
  {
   "cell_type": "code",
   "execution_count": 18,
   "id": "9024837a",
   "metadata": {},
   "outputs": [
    {
     "data": {
      "text/plain": [
       "4083"
      ]
     },
     "execution_count": 18,
     "metadata": {},
     "output_type": "execute_result"
    }
   ],
   "source": [
    "word2index_dict[\"impossible\"]"
   ]
  },
  {
   "cell_type": "code",
   "execution_count": 19,
   "id": "d1f36d57",
   "metadata": {},
   "outputs": [],
   "source": [
    "word_tensor = torch.zeros(len(word_in_line), len(word2index_dict))"
   ]
  },
  {
   "cell_type": "code",
   "execution_count": 20,
   "id": "5cd3e4cc",
   "metadata": {},
   "outputs": [
    {
     "name": "stdout",
     "output_type": "stream",
     "text": [
      " 0 3270 for\n",
      " 1 7815 there\n",
      " 2 8451 was\n",
      " 3  193 a\n",
      " 4 2435 distinctly\n",
      " 5 3147 feminine\n",
      " 6 2644 element\n",
      " 7 4110 in\n",
      " 8 8972 “mr\n",
      " 9 7364 spectator,”\n",
      "10  538 and\n",
      "11 4110 in\n"
     ]
    }
   ],
   "source": [
    "for i, word in enumerate(word_in_line):\n",
    "    word_index = word2index_dict[word]\n",
    "    word_tensor[i][word_index] = 1\n",
    "    print('{:2} {:4} {}'.format(i, word_index, word))"
   ]
  },
  {
   "cell_type": "code",
   "execution_count": 21,
   "id": "b9b54f21",
   "metadata": {},
   "outputs": [
    {
     "name": "stdout",
     "output_type": "stream",
     "text": [
      "torch.Size([12, 9109])\n"
     ]
    }
   ],
   "source": [
    "print(word_tensor.shape)"
   ]
  },
  {
   "cell_type": "markdown",
   "id": "c788ca7a",
   "metadata": {},
   "source": [
    "### Images"
   ]
  },
  {
   "cell_type": "code",
   "execution_count": 25,
   "id": "358066d8",
   "metadata": {},
   "outputs": [],
   "source": [
    "import imageio"
   ]
  },
  {
   "cell_type": "code",
   "execution_count": 27,
   "id": "55e41fb6",
   "metadata": {},
   "outputs": [
    {
     "name": "stderr",
     "output_type": "stream",
     "text": [
      "/var/folders/hz/qyzbs8kd6dl2nctjx5cgg9mm0000gn/T/ipykernel_1970/536100576.py:1: DeprecationWarning: Starting with ImageIO v3 the behavior of this function will switch to that of iio.v3.imread. To keep the current behavior (and make this warning disappear) use `import imageio.v2 as imageio` or call `imageio.v2.imread` directly.\n",
      "  img_arr = imageio.imread(\"data/cat.jpg\")\n"
     ]
    }
   ],
   "source": [
    "img_arr = imageio.imread(\"data/cat.jpg\")"
   ]
  },
  {
   "cell_type": "code",
   "execution_count": 28,
   "id": "2ba54500",
   "metadata": {},
   "outputs": [
    {
     "data": {
      "text/plain": [
       "(1920, 1080, 3)"
      ]
     },
     "execution_count": 28,
     "metadata": {},
     "output_type": "execute_result"
    }
   ],
   "source": [
    "img_arr.shape"
   ]
  },
  {
   "cell_type": "code",
   "execution_count": 29,
   "id": "cb89aa3a",
   "metadata": {},
   "outputs": [],
   "source": [
    "img = torch.from_numpy(img_arr)"
   ]
  },
  {
   "cell_type": "code",
   "execution_count": 30,
   "id": "5ea017b3",
   "metadata": {},
   "outputs": [],
   "source": [
    "img = torch.transpose(img, 0, 2)"
   ]
  },
  {
   "cell_type": "code",
   "execution_count": 45,
   "id": "0743c1e2",
   "metadata": {},
   "outputs": [],
   "source": [
    "batch_size = 4\n",
    "\n",
    "batch = torch.zeros(4, 3, 1080, 1920, dtype = torch.uint8)"
   ]
  },
  {
   "cell_type": "code",
   "execution_count": 46,
   "id": "589f9571",
   "metadata": {},
   "outputs": [],
   "source": [
    "import os"
   ]
  },
  {
   "cell_type": "code",
   "execution_count": 47,
   "id": "aa0ba254",
   "metadata": {},
   "outputs": [],
   "source": [
    "data_dir = \"data/cats/\""
   ]
  },
  {
   "cell_type": "code",
   "execution_count": 48,
   "id": "076e3ed9",
   "metadata": {},
   "outputs": [],
   "source": [
    "filenames = [name for name in os.listdir(data_dir) if os.path.splitext(name)[-1] == '.jpg']"
   ]
  },
  {
   "cell_type": "code",
   "execution_count": 49,
   "id": "62882162",
   "metadata": {},
   "outputs": [
    {
     "data": {
      "text/plain": [
       "['cat1.jpg', 'cat2.jpg', 'cat3.jpg', 'cat.jpg']"
      ]
     },
     "execution_count": 49,
     "metadata": {},
     "output_type": "execute_result"
    }
   ],
   "source": [
    "filenames"
   ]
  },
  {
   "cell_type": "code",
   "execution_count": 50,
   "id": "db2f53bc",
   "metadata": {},
   "outputs": [
    {
     "name": "stderr",
     "output_type": "stream",
     "text": [
      "/var/folders/hz/qyzbs8kd6dl2nctjx5cgg9mm0000gn/T/ipykernel_1970/2736665247.py:2: DeprecationWarning: Starting with ImageIO v3 the behavior of this function will switch to that of iio.v3.imread. To keep the current behavior (and make this warning disappear) use `import imageio.v2 as imageio` or call `imageio.v2.imread` directly.\n",
      "  img_arr = imageio.imread(data_dir + filename)\n"
     ]
    }
   ],
   "source": [
    "for i, filename in enumerate(filenames):\n",
    "    img_arr = imageio.imread(data_dir + filename)\n",
    "    batch[i] = torch.transpose(torch.from_numpy(img_arr), 0, 2)"
   ]
  },
  {
   "cell_type": "code",
   "execution_count": 51,
   "id": "ea9c0ca1",
   "metadata": {},
   "outputs": [
    {
     "data": {
      "text/plain": [
       "torch.Size([4, 3, 1080, 1920])"
      ]
     },
     "execution_count": 51,
     "metadata": {},
     "output_type": "execute_result"
    }
   ],
   "source": [
    "batch.shape"
   ]
  },
  {
   "cell_type": "code",
   "execution_count": 53,
   "id": "70df4dfc",
   "metadata": {},
   "outputs": [],
   "source": [
    "batch = batch.float()"
   ]
  },
  {
   "cell_type": "code",
   "execution_count": 54,
   "id": "470d97cc",
   "metadata": {},
   "outputs": [],
   "source": [
    "n_channels = batch.shape[1]\n",
    "for c in range(n_channels):\n",
    "    mean = torch.mean(batch[:, c])\n",
    "    std = torch.std(batch[:, c])\n",
    "    batch[:, c] = (batch[:, c] - mean)/std"
   ]
  },
  {
   "cell_type": "markdown",
   "id": "63bd957f",
   "metadata": {},
   "source": [
    "### Exercise"
   ]
  },
  {
   "cell_type": "code",
   "execution_count": 65,
   "id": "cf90d9a1",
   "metadata": {},
   "outputs": [
    {
     "name": "stderr",
     "output_type": "stream",
     "text": [
      "/var/folders/hz/qyzbs8kd6dl2nctjx5cgg9mm0000gn/T/ipykernel_1970/2325010033.py:1: DeprecationWarning: Starting with ImageIO v3 the behavior of this function will switch to that of iio.v3.imread. To keep the current behavior (and make this warning disappear) use `import imageio.v2 as imageio` or call `imageio.v2.imread` directly.\n",
      "  img1_arr = imageio.imread(\"data/red.png\")\n"
     ]
    }
   ],
   "source": [
    "img1_arr = imageio.imread(\"data/red.png\")"
   ]
  },
  {
   "cell_type": "code",
   "execution_count": 66,
   "id": "fb6468aa",
   "metadata": {},
   "outputs": [
    {
     "data": {
      "text/plain": [
       "(387, 580, 3)"
      ]
     },
     "execution_count": 66,
     "metadata": {},
     "output_type": "execute_result"
    }
   ],
   "source": [
    "img1_arr.shape"
   ]
  },
  {
   "cell_type": "code",
   "execution_count": 62,
   "id": "15e53c6c",
   "metadata": {},
   "outputs": [
    {
     "name": "stderr",
     "output_type": "stream",
     "text": [
      "/var/folders/hz/qyzbs8kd6dl2nctjx5cgg9mm0000gn/T/ipykernel_1970/167429684.py:1: DeprecationWarning: Starting with ImageIO v3 the behavior of this function will switch to that of iio.v3.imread. To keep the current behavior (and make this warning disappear) use `import imageio.v2 as imageio` or call `imageio.v2.imread` directly.\n",
      "  img2_arr = imageio.imread(\"data/blue.png\")\n",
      "/var/folders/hz/qyzbs8kd6dl2nctjx5cgg9mm0000gn/T/ipykernel_1970/167429684.py:2: DeprecationWarning: Starting with ImageIO v3 the behavior of this function will switch to that of iio.v3.imread. To keep the current behavior (and make this warning disappear) use `import imageio.v2 as imageio` or call `imageio.v2.imread` directly.\n",
      "  img3_arr = imageio.imread(\"data/green.jpeg\")\n"
     ]
    }
   ],
   "source": [
    "img2_arr = imageio.imread(\"data/blue.png\")\n",
    "img3_arr = imageio.imread(\"data/green.jpeg\")"
   ]
  },
  {
   "cell_type": "code",
   "execution_count": 63,
   "id": "b4cf0b2b",
   "metadata": {},
   "outputs": [
    {
     "data": {
      "text/plain": [
       "(225, 225, 3)"
      ]
     },
     "execution_count": 63,
     "metadata": {},
     "output_type": "execute_result"
    }
   ],
   "source": [
    "img2_arr.shape"
   ]
  },
  {
   "cell_type": "code",
   "execution_count": 64,
   "id": "671e7258",
   "metadata": {},
   "outputs": [
    {
     "data": {
      "text/plain": [
       "(183, 275, 3)"
      ]
     },
     "execution_count": 64,
     "metadata": {},
     "output_type": "execute_result"
    }
   ],
   "source": [
    "img3_arr.shape"
   ]
  },
  {
   "cell_type": "code",
   "execution_count": 75,
   "id": "588193f1",
   "metadata": {},
   "outputs": [],
   "source": [
    "i1 = torch.from_numpy(img1_arr).float()\n",
    "i2 = torch.from_numpy(img2_arr).float()\n",
    "i3 = torch.from_numpy(img3_arr).float()"
   ]
  },
  {
   "cell_type": "code",
   "execution_count": 77,
   "id": "3fe4ab80",
   "metadata": {},
   "outputs": [],
   "source": [
    "channels = 3"
   ]
  },
  {
   "cell_type": "code",
   "execution_count": 78,
   "id": "ee3c49e3",
   "metadata": {},
   "outputs": [],
   "source": [
    "channels_avg = torch.zeros(3, 3)"
   ]
  },
  {
   "cell_type": "code",
   "execution_count": 80,
   "id": "6f34fb58",
   "metadata": {},
   "outputs": [],
   "source": [
    "imgs = [i1, i2, i3]"
   ]
  },
  {
   "cell_type": "code",
   "execution_count": 81,
   "id": "11f55233",
   "metadata": {},
   "outputs": [],
   "source": [
    "for i, im in enumerate(imgs):\n",
    "    for c in range(channels):\n",
    "        avg = torch.mean(im[:, :, c])\n",
    "        channels_avg[i][c] = avg"
   ]
  },
  {
   "cell_type": "code",
   "execution_count": 82,
   "id": "cfecae40",
   "metadata": {},
   "outputs": [
    {
     "data": {
      "text/plain": [
       "tensor([[233.4483, 188.5004, 174.2220],\n",
       "        [119.5053, 143.6265, 152.7486],\n",
       "        [206.0928, 204.1003, 155.7195]])"
      ]
     },
     "execution_count": 82,
     "metadata": {},
     "output_type": "execute_result"
    }
   ],
   "source": [
    "channels_avg"
   ]
  },
  {
   "cell_type": "code",
   "execution_count": 84,
   "id": "dec68e36",
   "metadata": {},
   "outputs": [],
   "source": [
    "file_path = '/Users/jiashu/Documents/SystemDesign/banking/bankingSystem.py'"
   ]
  },
  {
   "cell_type": "code",
   "execution_count": 123,
   "id": "ecc59452",
   "metadata": {},
   "outputs": [],
   "source": [
    "with open(file_path) as f:\n",
    "    text = f.read()"
   ]
  },
  {
   "cell_type": "code",
   "execution_count": 124,
   "id": "6c3fa7ac",
   "metadata": {},
   "outputs": [],
   "source": [
    "import re"
   ]
  },
  {
   "cell_type": "code",
   "execution_count": 125,
   "id": "c984c847",
   "metadata": {},
   "outputs": [],
   "source": [
    "text = re.sub(r\"[^a-zA-Z0-9_]+\", \" \", text)"
   ]
  },
  {
   "cell_type": "code",
   "execution_count": 126,
   "id": "33d72908",
   "metadata": {},
   "outputs": [
    {
     "data": {
      "text/plain": [
       "' A simplified version of banking system 1 the banking system should support creating new accounts depositing money into accounts and transferring money between two accounts 2 the banking system should support ranking accounts based on the total value of outgoing transactions 3 the banking system should allow scheduling payments and checking status of scheduled payments 4 the banking system should support mering two account while retaining both accounts balance and transaction histories import account import heapq from collections import defaultdict class BankingSystem def __init__ self self account_dict self account_no 0 self scheduled_payments dict self scheduled_ordinal_no 1 self scheduled_payments_queue def create_account self timestamp account_id create a new account with the given identifier if it does not already exists return true if the account was successfully created or false if an account with accountid already exists self process_payments timestamp if account_id in self account_dict return False new_account account Account account_id self account_dict account_id new_account return True def deposit self timestamp account_id amount should deposit the given amount of money to the specific accountid return a string representing the total amount of money in the account after the query has been processed if the specified account does not exist should return an empty string self process_payments timestamp if account_id not in self account_dict return deposit_account self account_dict account_id deposit_account deposit amount return str deposit_account get_balance def transfer self timestamp source_account_id target_account_id amount should transfer the given amount of money from source account to target account return a string representing the balance of source account if the transfer is successful or an empty string otherwise cond1 return an empty string if source account or target account does not exist cond2 return an empty string if source account and target account are the same cond3 return an empty string if source account has insufficient funds to perform the transfer self process_payments timestamp cond1 if source_account_id not in self account_dict or target_account_id not in self account_dict return cond2 if source_account_id target_account_id return source_account self account_dict source_account_id target_account self account_dict target_account_id cond3 if source_account get_balance amount return source_account transferOut amount target_account deposit amount return str source_account get_balance def top_spenders self timestamp n should return identifiers of the top n accounts with the highest amount of outgoing transactions the total amount of money either transfered out of or paid withdrawn via the schedule_payment operation which will be introduced in level 3 sorting in descending order in case of a tie sorted alphabetically by account id in ascending order the output should be a string in the following format accountid1 total_outgoing1 accountid2 total_outgoing2 if less than n accounts exist in the system then return all their identifiers self process_payments timestamp outgoing_order for account_id account in self account_dict items out_balance account get_outgoing heapq heappush outgoing_order out_balance account_id account top_n while n 0 out_balance account_id account heapq heappop outgoing_order top_n append out_balance account_id n 1 out_str for i in top_n out_str out_str str i 1 str i 0 return out_str def schedule_payment self timestamp account_id amount delay the system should allow scheduling payments and checking the status of scheduled payments should schedule a payment which will be performed at timestamp delay returns a string with a unique identifier for the scheduled payment in the following format payment ordinal number of the scheduled payment across all accounts if account_id does not exist should return an empty string the payment is skipped if the specified account has insufficient funds when the payment is performed addition conditions 1 successful payments should be considered outgoing transactions and included when ranking accounts using top spenders 2 scheduled payments should be processed before any other transactions at the given timestamp 3 if an account needs to perform several scheduled payments simultaneously they should be processed in order of creation if account_id not in self account_dict return payment_time timestamp delay unique_identifier f payment self scheduled_ordinal_no scheduled_payment ScheduledPayment unique_identifier account_id self scheduled_ordinal_no payment_time amount self scheduled_payments self scheduled_ordinal_no scheduled_payment heapq heappush self scheduled_payments_queue scheduled_payment payment_time scheduled_payment ordinal_no scheduled_payment self scheduled_ordinal_no 1 return unique_identifier def process_payments self timestamp while self scheduled_payments_queue 0 0 timestamp payment heapq heappop self scheduled_payments_queue 2 if payment ordinal_no not in self scheduled_payments or payment status 0 continue account payment account_id account transferOut payment amount del self scheduled_payments payment ordinal_no def cancel_payment self timestamp account_id payment_id should cancel the scheduled payment with payment_id return true if the scheduled payment is successfully canceled if payment_id does not exist or was already canceled or if account_id is different from the source account for the scheduled payment return false note that scheduled payments must be performed before any cancel payment opertations at the given timestamp self process_payments timestamp if account_id not in self account_dict or payment_id not in self scheduled_payments return False payment self scheduled_payments payment_id if payment account_id account_id return False payment status 0 del self scheduled_payments payment_id return True class ScheduledPayment def __init__ self payment_id account_id schedule_ordinal_no payment_time amount self payment_id payment_id self account_id account_id self ordinal_no schedule_ordinal_no self payment_time payment_time self amount amount self status 1 '"
      ]
     },
     "execution_count": 126,
     "metadata": {},
     "output_type": "execute_result"
    }
   ],
   "source": [
    "text"
   ]
  },
  {
   "cell_type": "code",
   "execution_count": 127,
   "id": "62f56d44",
   "metadata": {},
   "outputs": [],
   "source": [
    "def clean_str(inputstr):\n",
    "    punctuations = '.,:;\"\"_-='\n",
    "    word_list = inputstr.lower().replace(\"\\n\", \" \").split()\n",
    "    word_list = [word.strip(punctuations) for word in word_list]\n",
    "    return word_list"
   ]
  },
  {
   "cell_type": "code",
   "execution_count": 128,
   "id": "6c87eb6c",
   "metadata": {},
   "outputs": [],
   "source": [
    "word_list = clean_str(text)"
   ]
  },
  {
   "cell_type": "code",
   "execution_count": 135,
   "id": "9c165d0b",
   "metadata": {},
   "outputs": [
    {
     "data": {
      "text/plain": [
       "['a',\n",
       " 'simplified',\n",
       " 'version',\n",
       " 'of',\n",
       " 'banking',\n",
       " 'system',\n",
       " '1',\n",
       " 'the',\n",
       " 'banking',\n",
       " 'system',\n",
       " 'should',\n",
       " 'support',\n",
       " 'creating',\n",
       " 'new',\n",
       " 'accounts',\n",
       " 'depositing',\n",
       " 'money',\n",
       " 'into',\n",
       " 'accounts',\n",
       " 'and',\n",
       " 'transferring',\n",
       " 'money',\n",
       " 'between',\n",
       " 'two',\n",
       " 'accounts',\n",
       " '2',\n",
       " 'the',\n",
       " 'banking',\n",
       " 'system',\n",
       " 'should',\n",
       " 'support',\n",
       " 'ranking',\n",
       " 'accounts',\n",
       " 'based',\n",
       " 'on',\n",
       " 'the',\n",
       " 'total',\n",
       " 'value',\n",
       " 'of',\n",
       " 'outgoing',\n",
       " 'transactions',\n",
       " '3',\n",
       " 'the',\n",
       " 'banking',\n",
       " 'system',\n",
       " 'should',\n",
       " 'allow',\n",
       " 'scheduling',\n",
       " 'payments',\n",
       " 'and',\n",
       " 'checking',\n",
       " 'status',\n",
       " 'of',\n",
       " 'scheduled',\n",
       " 'payments',\n",
       " '4',\n",
       " 'the',\n",
       " 'banking',\n",
       " 'system',\n",
       " 'should',\n",
       " 'support',\n",
       " 'mering',\n",
       " 'two',\n",
       " 'account',\n",
       " 'while',\n",
       " 'retaining',\n",
       " 'both',\n",
       " 'accounts',\n",
       " 'balance',\n",
       " 'and',\n",
       " 'transaction',\n",
       " 'histories',\n",
       " 'import',\n",
       " 'account',\n",
       " 'import',\n",
       " 'heapq',\n",
       " 'from',\n",
       " 'collections',\n",
       " 'import',\n",
       " 'defaultdict',\n",
       " 'class',\n",
       " 'bankingsystem',\n",
       " 'def',\n",
       " 'init',\n",
       " 'self',\n",
       " 'self',\n",
       " 'account_dict',\n",
       " 'self',\n",
       " 'account_no',\n",
       " '0',\n",
       " 'self',\n",
       " 'scheduled_payments',\n",
       " 'dict',\n",
       " 'self',\n",
       " 'scheduled_ordinal_no',\n",
       " '1',\n",
       " 'self',\n",
       " 'scheduled_payments_queue',\n",
       " 'def',\n",
       " 'create_account',\n",
       " 'self',\n",
       " 'timestamp',\n",
       " 'account_id',\n",
       " 'create',\n",
       " 'a',\n",
       " 'new',\n",
       " 'account',\n",
       " 'with',\n",
       " 'the',\n",
       " 'given',\n",
       " 'identifier',\n",
       " 'if',\n",
       " 'it',\n",
       " 'does',\n",
       " 'not',\n",
       " 'already',\n",
       " 'exists',\n",
       " 'return',\n",
       " 'true',\n",
       " 'if',\n",
       " 'the',\n",
       " 'account',\n",
       " 'was',\n",
       " 'successfully',\n",
       " 'created',\n",
       " 'or',\n",
       " 'false',\n",
       " 'if',\n",
       " 'an',\n",
       " 'account',\n",
       " 'with',\n",
       " 'accountid',\n",
       " 'already',\n",
       " 'exists',\n",
       " 'self',\n",
       " 'process_payments',\n",
       " 'timestamp',\n",
       " 'if',\n",
       " 'account_id',\n",
       " 'in',\n",
       " 'self',\n",
       " 'account_dict',\n",
       " 'return',\n",
       " 'false',\n",
       " 'new_account',\n",
       " 'account',\n",
       " 'account',\n",
       " 'account_id',\n",
       " 'self',\n",
       " 'account_dict',\n",
       " 'account_id',\n",
       " 'new_account',\n",
       " 'return',\n",
       " 'true',\n",
       " 'def',\n",
       " 'deposit',\n",
       " 'self',\n",
       " 'timestamp',\n",
       " 'account_id',\n",
       " 'amount',\n",
       " 'should',\n",
       " 'deposit',\n",
       " 'the',\n",
       " 'given',\n",
       " 'amount',\n",
       " 'of',\n",
       " 'money',\n",
       " 'to',\n",
       " 'the',\n",
       " 'specific',\n",
       " 'accountid',\n",
       " 'return',\n",
       " 'a',\n",
       " 'string',\n",
       " 'representing',\n",
       " 'the',\n",
       " 'total',\n",
       " 'amount',\n",
       " 'of',\n",
       " 'money',\n",
       " 'in',\n",
       " 'the',\n",
       " 'account',\n",
       " 'after',\n",
       " 'the',\n",
       " 'query',\n",
       " 'has',\n",
       " 'been',\n",
       " 'processed',\n",
       " 'if',\n",
       " 'the',\n",
       " 'specified',\n",
       " 'account',\n",
       " 'does',\n",
       " 'not',\n",
       " 'exist',\n",
       " 'should',\n",
       " 'return',\n",
       " 'an',\n",
       " 'empty',\n",
       " 'string',\n",
       " 'self',\n",
       " 'process_payments',\n",
       " 'timestamp',\n",
       " 'if',\n",
       " 'account_id',\n",
       " 'not',\n",
       " 'in',\n",
       " 'self',\n",
       " 'account_dict',\n",
       " 'return',\n",
       " 'deposit_account',\n",
       " 'self',\n",
       " 'account_dict',\n",
       " 'account_id',\n",
       " 'deposit_account',\n",
       " 'deposit',\n",
       " 'amount',\n",
       " 'return',\n",
       " 'str',\n",
       " 'deposit_account',\n",
       " 'get_balance',\n",
       " 'def',\n",
       " 'transfer',\n",
       " 'self',\n",
       " 'timestamp',\n",
       " 'source_account_id',\n",
       " 'target_account_id',\n",
       " 'amount',\n",
       " 'should',\n",
       " 'transfer',\n",
       " 'the',\n",
       " 'given',\n",
       " 'amount',\n",
       " 'of',\n",
       " 'money',\n",
       " 'from',\n",
       " 'source',\n",
       " 'account',\n",
       " 'to',\n",
       " 'target',\n",
       " 'account',\n",
       " 'return',\n",
       " 'a',\n",
       " 'string',\n",
       " 'representing',\n",
       " 'the',\n",
       " 'balance',\n",
       " 'of',\n",
       " 'source',\n",
       " 'account',\n",
       " 'if',\n",
       " 'the',\n",
       " 'transfer',\n",
       " 'is',\n",
       " 'successful',\n",
       " 'or',\n",
       " 'an',\n",
       " 'empty',\n",
       " 'string',\n",
       " 'otherwise',\n",
       " 'cond1',\n",
       " 'return',\n",
       " 'an',\n",
       " 'empty',\n",
       " 'string',\n",
       " 'if',\n",
       " 'source',\n",
       " 'account',\n",
       " 'or',\n",
       " 'target',\n",
       " 'account',\n",
       " 'does',\n",
       " 'not',\n",
       " 'exist',\n",
       " 'cond2',\n",
       " 'return',\n",
       " 'an',\n",
       " 'empty',\n",
       " 'string',\n",
       " 'if',\n",
       " 'source',\n",
       " 'account',\n",
       " 'and',\n",
       " 'target',\n",
       " 'account',\n",
       " 'are',\n",
       " 'the',\n",
       " 'same',\n",
       " 'cond3',\n",
       " 'return',\n",
       " 'an',\n",
       " 'empty',\n",
       " 'string',\n",
       " 'if',\n",
       " 'source',\n",
       " 'account',\n",
       " 'has',\n",
       " 'insufficient',\n",
       " 'funds',\n",
       " 'to',\n",
       " 'perform',\n",
       " 'the',\n",
       " 'transfer',\n",
       " 'self',\n",
       " 'process_payments',\n",
       " 'timestamp',\n",
       " 'cond1',\n",
       " 'if',\n",
       " 'source_account_id',\n",
       " 'not',\n",
       " 'in',\n",
       " 'self',\n",
       " 'account_dict',\n",
       " 'or',\n",
       " 'target_account_id',\n",
       " 'not',\n",
       " 'in',\n",
       " 'self',\n",
       " 'account_dict',\n",
       " 'return',\n",
       " 'cond2',\n",
       " 'if',\n",
       " 'source_account_id',\n",
       " 'target_account_id',\n",
       " 'return',\n",
       " 'source_account',\n",
       " 'self',\n",
       " 'account_dict',\n",
       " 'source_account_id',\n",
       " 'target_account',\n",
       " 'self',\n",
       " 'account_dict',\n",
       " 'target_account_id',\n",
       " 'cond3',\n",
       " 'if',\n",
       " 'source_account',\n",
       " 'get_balance',\n",
       " 'amount',\n",
       " 'return',\n",
       " 'source_account',\n",
       " 'transferout',\n",
       " 'amount',\n",
       " 'target_account',\n",
       " 'deposit',\n",
       " 'amount',\n",
       " 'return',\n",
       " 'str',\n",
       " 'source_account',\n",
       " 'get_balance',\n",
       " 'def',\n",
       " 'top_spenders',\n",
       " 'self',\n",
       " 'timestamp',\n",
       " 'n',\n",
       " 'should',\n",
       " 'return',\n",
       " 'identifiers',\n",
       " 'of',\n",
       " 'the',\n",
       " 'top',\n",
       " 'n',\n",
       " 'accounts',\n",
       " 'with',\n",
       " 'the',\n",
       " 'highest',\n",
       " 'amount',\n",
       " 'of',\n",
       " 'outgoing',\n",
       " 'transactions',\n",
       " 'the',\n",
       " 'total',\n",
       " 'amount',\n",
       " 'of',\n",
       " 'money',\n",
       " 'either',\n",
       " 'transfered',\n",
       " 'out',\n",
       " 'of',\n",
       " 'or',\n",
       " 'paid',\n",
       " 'withdrawn',\n",
       " 'via',\n",
       " 'the',\n",
       " 'schedule_payment',\n",
       " 'operation',\n",
       " 'which',\n",
       " 'will',\n",
       " 'be',\n",
       " 'introduced',\n",
       " 'in',\n",
       " 'level',\n",
       " '3',\n",
       " 'sorting',\n",
       " 'in',\n",
       " 'descending',\n",
       " 'order',\n",
       " 'in',\n",
       " 'case',\n",
       " 'of',\n",
       " 'a',\n",
       " 'tie',\n",
       " 'sorted',\n",
       " 'alphabetically',\n",
       " 'by',\n",
       " 'account',\n",
       " 'id',\n",
       " 'in',\n",
       " 'ascending',\n",
       " 'order',\n",
       " 'the',\n",
       " 'output',\n",
       " 'should',\n",
       " 'be',\n",
       " 'a',\n",
       " 'string',\n",
       " 'in',\n",
       " 'the',\n",
       " 'following',\n",
       " 'format',\n",
       " 'accountid1',\n",
       " 'total_outgoing1',\n",
       " 'accountid2',\n",
       " 'total_outgoing2',\n",
       " 'if',\n",
       " 'less',\n",
       " 'than',\n",
       " 'n',\n",
       " 'accounts',\n",
       " 'exist',\n",
       " 'in',\n",
       " 'the',\n",
       " 'system',\n",
       " 'then',\n",
       " 'return',\n",
       " 'all',\n",
       " 'their',\n",
       " 'identifiers',\n",
       " 'self',\n",
       " 'process_payments',\n",
       " 'timestamp',\n",
       " 'outgoing_order',\n",
       " 'for',\n",
       " 'account_id',\n",
       " 'account',\n",
       " 'in',\n",
       " 'self',\n",
       " 'account_dict',\n",
       " 'items',\n",
       " 'out_balance',\n",
       " 'account',\n",
       " 'get_outgoing',\n",
       " 'heapq',\n",
       " 'heappush',\n",
       " 'outgoing_order',\n",
       " 'out_balance',\n",
       " 'account_id',\n",
       " 'account',\n",
       " 'top_n',\n",
       " 'while',\n",
       " 'n',\n",
       " '0',\n",
       " 'out_balance',\n",
       " 'account_id',\n",
       " 'account',\n",
       " 'heapq',\n",
       " 'heappop',\n",
       " 'outgoing_order',\n",
       " 'top_n',\n",
       " 'append',\n",
       " 'out_balance',\n",
       " 'account_id',\n",
       " 'n',\n",
       " '1',\n",
       " 'out_str',\n",
       " 'for',\n",
       " 'i',\n",
       " 'in',\n",
       " 'top_n',\n",
       " 'out_str',\n",
       " 'out_str',\n",
       " 'str',\n",
       " 'i',\n",
       " '1',\n",
       " 'str',\n",
       " 'i',\n",
       " '0',\n",
       " 'return',\n",
       " 'out_str',\n",
       " 'def',\n",
       " 'schedule_payment',\n",
       " 'self',\n",
       " 'timestamp',\n",
       " 'account_id',\n",
       " 'amount',\n",
       " 'delay',\n",
       " 'the',\n",
       " 'system',\n",
       " 'should',\n",
       " 'allow',\n",
       " 'scheduling',\n",
       " 'payments',\n",
       " 'and',\n",
       " 'checking',\n",
       " 'the',\n",
       " 'status',\n",
       " 'of',\n",
       " 'scheduled',\n",
       " 'payments',\n",
       " 'should',\n",
       " 'schedule',\n",
       " 'a',\n",
       " 'payment',\n",
       " 'which',\n",
       " 'will',\n",
       " 'be',\n",
       " 'performed',\n",
       " 'at',\n",
       " 'timestamp',\n",
       " 'delay',\n",
       " 'returns',\n",
       " 'a',\n",
       " 'string',\n",
       " 'with',\n",
       " 'a',\n",
       " 'unique',\n",
       " 'identifier',\n",
       " 'for',\n",
       " 'the',\n",
       " 'scheduled',\n",
       " 'payment',\n",
       " 'in',\n",
       " 'the',\n",
       " 'following',\n",
       " 'format',\n",
       " 'payment',\n",
       " 'ordinal',\n",
       " 'number',\n",
       " 'of',\n",
       " 'the',\n",
       " 'scheduled',\n",
       " 'payment',\n",
       " 'across',\n",
       " 'all',\n",
       " 'accounts',\n",
       " 'if',\n",
       " 'account_id',\n",
       " 'does',\n",
       " 'not',\n",
       " 'exist',\n",
       " 'should',\n",
       " 'return',\n",
       " 'an',\n",
       " 'empty',\n",
       " 'string',\n",
       " 'the',\n",
       " 'payment',\n",
       " 'is',\n",
       " 'skipped',\n",
       " 'if',\n",
       " 'the',\n",
       " 'specified',\n",
       " 'account',\n",
       " 'has',\n",
       " 'insufficient',\n",
       " 'funds',\n",
       " 'when',\n",
       " 'the',\n",
       " 'payment',\n",
       " 'is',\n",
       " 'performed',\n",
       " 'addition',\n",
       " 'conditions',\n",
       " '1',\n",
       " 'successful',\n",
       " 'payments',\n",
       " 'should',\n",
       " 'be',\n",
       " 'considered',\n",
       " 'outgoing',\n",
       " 'transactions',\n",
       " 'and',\n",
       " 'included',\n",
       " 'when',\n",
       " 'ranking',\n",
       " 'accounts',\n",
       " 'using',\n",
       " 'top',\n",
       " 'spenders',\n",
       " '2',\n",
       " 'scheduled',\n",
       " 'payments',\n",
       " 'should',\n",
       " 'be',\n",
       " 'processed',\n",
       " 'before',\n",
       " 'any',\n",
       " 'other',\n",
       " 'transactions',\n",
       " 'at',\n",
       " 'the',\n",
       " 'given',\n",
       " 'timestamp',\n",
       " '3',\n",
       " 'if',\n",
       " 'an',\n",
       " 'account',\n",
       " 'needs',\n",
       " 'to',\n",
       " 'perform',\n",
       " 'several',\n",
       " 'scheduled',\n",
       " 'payments',\n",
       " 'simultaneously',\n",
       " 'they',\n",
       " 'should',\n",
       " 'be',\n",
       " 'processed',\n",
       " 'in',\n",
       " 'order',\n",
       " 'of',\n",
       " 'creation',\n",
       " 'if',\n",
       " 'account_id',\n",
       " 'not',\n",
       " 'in',\n",
       " 'self',\n",
       " 'account_dict',\n",
       " 'return',\n",
       " 'payment_time',\n",
       " 'timestamp',\n",
       " 'delay',\n",
       " 'unique_identifier',\n",
       " 'f',\n",
       " 'payment',\n",
       " 'self',\n",
       " 'scheduled_ordinal_no',\n",
       " 'scheduled_payment',\n",
       " 'scheduledpayment',\n",
       " 'unique_identifier',\n",
       " 'account_id',\n",
       " 'self',\n",
       " 'scheduled_ordinal_no',\n",
       " 'payment_time',\n",
       " 'amount',\n",
       " 'self',\n",
       " 'scheduled_payments',\n",
       " 'self',\n",
       " 'scheduled_ordinal_no',\n",
       " 'scheduled_payment',\n",
       " 'heapq',\n",
       " 'heappush',\n",
       " 'self',\n",
       " 'scheduled_payments_queue',\n",
       " 'scheduled_payment',\n",
       " 'payment_time',\n",
       " 'scheduled_payment',\n",
       " 'ordinal_no',\n",
       " 'scheduled_payment',\n",
       " 'self',\n",
       " 'scheduled_ordinal_no',\n",
       " '1',\n",
       " 'return',\n",
       " 'unique_identifier',\n",
       " 'def',\n",
       " 'process_payments',\n",
       " 'self',\n",
       " 'timestamp',\n",
       " 'while',\n",
       " 'self',\n",
       " 'scheduled_payments_queue',\n",
       " '0',\n",
       " '0',\n",
       " 'timestamp',\n",
       " 'payment',\n",
       " 'heapq',\n",
       " 'heappop',\n",
       " 'self',\n",
       " 'scheduled_payments_queue',\n",
       " '2',\n",
       " 'if',\n",
       " 'payment',\n",
       " 'ordinal_no',\n",
       " 'not',\n",
       " 'in',\n",
       " 'self',\n",
       " 'scheduled_payments',\n",
       " 'or',\n",
       " 'payment',\n",
       " 'status',\n",
       " '0',\n",
       " 'continue',\n",
       " 'account',\n",
       " 'payment',\n",
       " 'account_id',\n",
       " 'account',\n",
       " 'transferout',\n",
       " 'payment',\n",
       " 'amount',\n",
       " 'del',\n",
       " 'self',\n",
       " 'scheduled_payments',\n",
       " 'payment',\n",
       " 'ordinal_no',\n",
       " 'def',\n",
       " 'cancel_payment',\n",
       " 'self',\n",
       " 'timestamp',\n",
       " 'account_id',\n",
       " 'payment_id',\n",
       " 'should',\n",
       " 'cancel',\n",
       " 'the',\n",
       " 'scheduled',\n",
       " 'payment',\n",
       " 'with',\n",
       " 'payment_id',\n",
       " 'return',\n",
       " 'true',\n",
       " 'if',\n",
       " 'the',\n",
       " 'scheduled',\n",
       " 'payment',\n",
       " 'is',\n",
       " 'successfully',\n",
       " 'canceled',\n",
       " 'if',\n",
       " 'payment_id',\n",
       " 'does',\n",
       " 'not',\n",
       " 'exist',\n",
       " 'or',\n",
       " 'was',\n",
       " 'already',\n",
       " 'canceled',\n",
       " 'or',\n",
       " 'if',\n",
       " 'account_id',\n",
       " 'is',\n",
       " 'different',\n",
       " 'from',\n",
       " 'the',\n",
       " 'source',\n",
       " 'account',\n",
       " 'for',\n",
       " 'the',\n",
       " 'scheduled',\n",
       " 'payment',\n",
       " 'return',\n",
       " 'false',\n",
       " 'note',\n",
       " 'that',\n",
       " 'scheduled',\n",
       " 'payments',\n",
       " 'must',\n",
       " 'be',\n",
       " 'performed',\n",
       " 'before',\n",
       " 'any',\n",
       " 'cancel',\n",
       " 'payment',\n",
       " 'opertations',\n",
       " 'at',\n",
       " 'the',\n",
       " 'given',\n",
       " 'timestamp',\n",
       " 'self',\n",
       " 'process_payments',\n",
       " 'timestamp',\n",
       " 'if',\n",
       " 'account_id',\n",
       " 'not',\n",
       " 'in',\n",
       " 'self',\n",
       " 'account_dict',\n",
       " 'or',\n",
       " 'payment_id',\n",
       " 'not',\n",
       " 'in',\n",
       " 'self',\n",
       " 'scheduled_payments',\n",
       " 'return',\n",
       " 'false',\n",
       " 'payment',\n",
       " 'self',\n",
       " 'scheduled_payments',\n",
       " 'payment_id',\n",
       " 'if',\n",
       " 'payment',\n",
       " 'account_id',\n",
       " 'account_id',\n",
       " 'return',\n",
       " 'false',\n",
       " 'payment',\n",
       " 'status',\n",
       " '0',\n",
       " 'del',\n",
       " 'self',\n",
       " 'scheduled_payments',\n",
       " 'payment_id',\n",
       " 'return',\n",
       " 'true',\n",
       " 'class',\n",
       " 'scheduledpayment',\n",
       " 'def',\n",
       " 'init',\n",
       " 'self',\n",
       " 'payment_id',\n",
       " 'account_id',\n",
       " 'schedule_ordinal_no',\n",
       " 'payment_time',\n",
       " 'amount',\n",
       " 'self',\n",
       " 'payment_id',\n",
       " 'payment_id',\n",
       " 'self',\n",
       " 'account_id',\n",
       " 'account_id',\n",
       " 'self',\n",
       " 'ordinal_no',\n",
       " 'schedule_ordinal_no',\n",
       " 'self',\n",
       " 'payment_time',\n",
       " 'payment_time',\n",
       " 'self',\n",
       " 'amount',\n",
       " 'amount',\n",
       " 'self',\n",
       " 'status',\n",
       " '1']"
      ]
     },
     "execution_count": 135,
     "metadata": {},
     "output_type": "execute_result"
    }
   ],
   "source": [
    "word_list"
   ]
  },
  {
   "cell_type": "code",
   "execution_count": 129,
   "id": "47ee575f",
   "metadata": {},
   "outputs": [
    {
     "data": {
      "text/plain": [
       "830"
      ]
     },
     "execution_count": 129,
     "metadata": {},
     "output_type": "execute_result"
    }
   ],
   "source": [
    "len(word_list)"
   ]
  },
  {
   "cell_type": "code",
   "execution_count": 130,
   "id": "6e1c9246",
   "metadata": {},
   "outputs": [],
   "source": [
    "word_list_sorted = sorted(set(word_list))"
   ]
  },
  {
   "cell_type": "code",
   "execution_count": 131,
   "id": "c5f9b893",
   "metadata": {},
   "outputs": [
    {
     "data": {
      "text/plain": [
       "217"
      ]
     },
     "execution_count": 131,
     "metadata": {},
     "output_type": "execute_result"
    }
   ],
   "source": [
    "len(word_list_sorted)"
   ]
  },
  {
   "cell_type": "code",
   "execution_count": 132,
   "id": "5046558d",
   "metadata": {},
   "outputs": [],
   "source": [
    "word2index_dict = {word: i for (i, word) in enumerate(word_list_sorted) if word != \"\"}"
   ]
  },
  {
   "cell_type": "code",
   "execution_count": 133,
   "id": "eabec28c",
   "metadata": {},
   "outputs": [
    {
     "data": {
      "text/plain": [
       "217"
      ]
     },
     "execution_count": 133,
     "metadata": {},
     "output_type": "execute_result"
    }
   ],
   "source": [
    "len(word2index_dict)"
   ]
  },
  {
   "cell_type": "code",
   "execution_count": 134,
   "id": "60c3afa3",
   "metadata": {},
   "outputs": [
    {
     "data": {
      "text/plain": [
       "{'0': 0,\n",
       " '1': 1,\n",
       " '2': 2,\n",
       " '3': 3,\n",
       " '4': 4,\n",
       " 'a': 5,\n",
       " 'account': 6,\n",
       " 'account_dict': 7,\n",
       " 'account_id': 8,\n",
       " 'account_no': 9,\n",
       " 'accountid': 10,\n",
       " 'accountid1': 11,\n",
       " 'accountid2': 12,\n",
       " 'accounts': 13,\n",
       " 'across': 14,\n",
       " 'addition': 15,\n",
       " 'after': 16,\n",
       " 'all': 17,\n",
       " 'allow': 18,\n",
       " 'alphabetically': 19,\n",
       " 'already': 20,\n",
       " 'amount': 21,\n",
       " 'an': 22,\n",
       " 'and': 23,\n",
       " 'any': 24,\n",
       " 'append': 25,\n",
       " 'are': 26,\n",
       " 'ascending': 27,\n",
       " 'at': 28,\n",
       " 'balance': 29,\n",
       " 'banking': 30,\n",
       " 'bankingsystem': 31,\n",
       " 'based': 32,\n",
       " 'be': 33,\n",
       " 'been': 34,\n",
       " 'before': 35,\n",
       " 'between': 36,\n",
       " 'both': 37,\n",
       " 'by': 38,\n",
       " 'cancel': 39,\n",
       " 'cancel_payment': 40,\n",
       " 'canceled': 41,\n",
       " 'case': 42,\n",
       " 'checking': 43,\n",
       " 'class': 44,\n",
       " 'collections': 45,\n",
       " 'cond1': 46,\n",
       " 'cond2': 47,\n",
       " 'cond3': 48,\n",
       " 'conditions': 49,\n",
       " 'considered': 50,\n",
       " 'continue': 51,\n",
       " 'create': 52,\n",
       " 'create_account': 53,\n",
       " 'created': 54,\n",
       " 'creating': 55,\n",
       " 'creation': 56,\n",
       " 'def': 57,\n",
       " 'defaultdict': 58,\n",
       " 'del': 59,\n",
       " 'delay': 60,\n",
       " 'deposit': 61,\n",
       " 'deposit_account': 62,\n",
       " 'depositing': 63,\n",
       " 'descending': 64,\n",
       " 'dict': 65,\n",
       " 'different': 66,\n",
       " 'does': 67,\n",
       " 'either': 68,\n",
       " 'empty': 69,\n",
       " 'exist': 70,\n",
       " 'exists': 71,\n",
       " 'f': 72,\n",
       " 'false': 73,\n",
       " 'following': 74,\n",
       " 'for': 75,\n",
       " 'format': 76,\n",
       " 'from': 77,\n",
       " 'funds': 78,\n",
       " 'get_balance': 79,\n",
       " 'get_outgoing': 80,\n",
       " 'given': 81,\n",
       " 'has': 82,\n",
       " 'heappop': 83,\n",
       " 'heappush': 84,\n",
       " 'heapq': 85,\n",
       " 'highest': 86,\n",
       " 'histories': 87,\n",
       " 'i': 88,\n",
       " 'id': 89,\n",
       " 'identifier': 90,\n",
       " 'identifiers': 91,\n",
       " 'if': 92,\n",
       " 'import': 93,\n",
       " 'in': 94,\n",
       " 'included': 95,\n",
       " 'init': 96,\n",
       " 'insufficient': 97,\n",
       " 'into': 98,\n",
       " 'introduced': 99,\n",
       " 'is': 100,\n",
       " 'it': 101,\n",
       " 'items': 102,\n",
       " 'less': 103,\n",
       " 'level': 104,\n",
       " 'mering': 105,\n",
       " 'money': 106,\n",
       " 'must': 107,\n",
       " 'n': 108,\n",
       " 'needs': 109,\n",
       " 'new': 110,\n",
       " 'new_account': 111,\n",
       " 'not': 112,\n",
       " 'note': 113,\n",
       " 'number': 114,\n",
       " 'of': 115,\n",
       " 'on': 116,\n",
       " 'operation': 117,\n",
       " 'opertations': 118,\n",
       " 'or': 119,\n",
       " 'order': 120,\n",
       " 'ordinal': 121,\n",
       " 'ordinal_no': 122,\n",
       " 'other': 123,\n",
       " 'otherwise': 124,\n",
       " 'out': 125,\n",
       " 'out_balance': 126,\n",
       " 'out_str': 127,\n",
       " 'outgoing': 128,\n",
       " 'outgoing_order': 129,\n",
       " 'output': 130,\n",
       " 'paid': 131,\n",
       " 'payment': 132,\n",
       " 'payment_id': 133,\n",
       " 'payment_time': 134,\n",
       " 'payments': 135,\n",
       " 'perform': 136,\n",
       " 'performed': 137,\n",
       " 'process_payments': 138,\n",
       " 'processed': 139,\n",
       " 'query': 140,\n",
       " 'ranking': 141,\n",
       " 'representing': 142,\n",
       " 'retaining': 143,\n",
       " 'return': 144,\n",
       " 'returns': 145,\n",
       " 'same': 146,\n",
       " 'schedule': 147,\n",
       " 'schedule_ordinal_no': 148,\n",
       " 'schedule_payment': 149,\n",
       " 'scheduled': 150,\n",
       " 'scheduled_ordinal_no': 151,\n",
       " 'scheduled_payment': 152,\n",
       " 'scheduled_payments': 153,\n",
       " 'scheduled_payments_queue': 154,\n",
       " 'scheduledpayment': 155,\n",
       " 'scheduling': 156,\n",
       " 'self': 157,\n",
       " 'several': 158,\n",
       " 'should': 159,\n",
       " 'simplified': 160,\n",
       " 'simultaneously': 161,\n",
       " 'skipped': 162,\n",
       " 'sorted': 163,\n",
       " 'sorting': 164,\n",
       " 'source': 165,\n",
       " 'source_account': 166,\n",
       " 'source_account_id': 167,\n",
       " 'specific': 168,\n",
       " 'specified': 169,\n",
       " 'spenders': 170,\n",
       " 'status': 171,\n",
       " 'str': 172,\n",
       " 'string': 173,\n",
       " 'successful': 174,\n",
       " 'successfully': 175,\n",
       " 'support': 176,\n",
       " 'system': 177,\n",
       " 'target': 178,\n",
       " 'target_account': 179,\n",
       " 'target_account_id': 180,\n",
       " 'than': 181,\n",
       " 'that': 182,\n",
       " 'the': 183,\n",
       " 'their': 184,\n",
       " 'then': 185,\n",
       " 'they': 186,\n",
       " 'tie': 187,\n",
       " 'timestamp': 188,\n",
       " 'to': 189,\n",
       " 'top': 190,\n",
       " 'top_n': 191,\n",
       " 'top_spenders': 192,\n",
       " 'total': 193,\n",
       " 'total_outgoing1': 194,\n",
       " 'total_outgoing2': 195,\n",
       " 'transaction': 196,\n",
       " 'transactions': 197,\n",
       " 'transfer': 198,\n",
       " 'transfered': 199,\n",
       " 'transferout': 200,\n",
       " 'transferring': 201,\n",
       " 'true': 202,\n",
       " 'two': 203,\n",
       " 'unique': 204,\n",
       " 'unique_identifier': 205,\n",
       " 'using': 206,\n",
       " 'value': 207,\n",
       " 'version': 208,\n",
       " 'via': 209,\n",
       " 'was': 210,\n",
       " 'when': 211,\n",
       " 'which': 212,\n",
       " 'while': 213,\n",
       " 'will': 214,\n",
       " 'with': 215,\n",
       " 'withdrawn': 216}"
      ]
     },
     "execution_count": 134,
     "metadata": {},
     "output_type": "execute_result"
    }
   ],
   "source": [
    "word2index_dict"
   ]
  },
  {
   "cell_type": "code",
   "execution_count": 136,
   "id": "b1fdf8ef",
   "metadata": {},
   "outputs": [],
   "source": [
    "word_tensor = torch.zeros(len(word_list), len(word2index_dict))"
   ]
  },
  {
   "cell_type": "code",
   "execution_count": 137,
   "id": "4e9ace51",
   "metadata": {},
   "outputs": [],
   "source": [
    "for i, word in enumerate(word_list):\n",
    "    word_index = word2index_dict[word]\n",
    "    word_tensor[i][word_index] = 1"
   ]
  },
  {
   "cell_type": "code",
   "execution_count": 138,
   "id": "4d4d3e80",
   "metadata": {},
   "outputs": [
    {
     "data": {
      "text/plain": [
       "tensor([[0., 0., 0.,  ..., 0., 0., 0.],\n",
       "        [0., 0., 0.,  ..., 0., 0., 0.],\n",
       "        [0., 0., 0.,  ..., 0., 0., 0.],\n",
       "        ...,\n",
       "        [0., 0., 0.,  ..., 0., 0., 0.],\n",
       "        [0., 0., 0.,  ..., 0., 0., 0.],\n",
       "        [0., 1., 0.,  ..., 0., 0., 0.]])"
      ]
     },
     "execution_count": 138,
     "metadata": {},
     "output_type": "execute_result"
    }
   ],
   "source": [
    "word_tensor"
   ]
  },
  {
   "cell_type": "code",
   "execution_count": null,
   "id": "a2f23ee6",
   "metadata": {},
   "outputs": [],
   "source": []
  }
 ],
 "metadata": {
  "kernelspec": {
   "display_name": "Python 3 (ipykernel)",
   "language": "python",
   "name": "python3"
  },
  "language_info": {
   "codemirror_mode": {
    "name": "ipython",
    "version": 3
   },
   "file_extension": ".py",
   "mimetype": "text/x-python",
   "name": "python",
   "nbconvert_exporter": "python",
   "pygments_lexer": "ipython3",
   "version": "3.10.12"
  }
 },
 "nbformat": 4,
 "nbformat_minor": 5
}
